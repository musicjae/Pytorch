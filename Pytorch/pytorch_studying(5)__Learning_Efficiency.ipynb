{
  "nbformat": 4,
  "nbformat_minor": 0,
  "metadata": {
    "colab": {
      "name": "pytorch_studying(4)__MLP.ipynb",
      "provenance": [],
      "authorship_tag": "ABX9TyPThuP3+9NEEUAZzbMFZjgy",
      "include_colab_link": true
    },
    "kernelspec": {
      "name": "python3",
      "display_name": "Python 3"
    },
    "accelerator": "GPU",
    "widgets": {
      "application/vnd.jupyter.widget-state+json": {
        "0c2e7134b805486c8d2f273d652f9a36": {
          "model_module": "@jupyter-widgets/controls",
          "model_name": "HBoxModel",
          "state": {
            "_view_name": "HBoxView",
            "_dom_classes": [],
            "_model_name": "HBoxModel",
            "_view_module": "@jupyter-widgets/controls",
            "_model_module_version": "1.5.0",
            "_view_count": null,
            "_view_module_version": "1.5.0",
            "box_style": "",
            "layout": "IPY_MODEL_536f67b288fd40fd9707afa1351b412c",
            "_model_module": "@jupyter-widgets/controls",
            "children": [
              "IPY_MODEL_d15c5d2fe3c24c23ad4f8368d11a06bf",
              "IPY_MODEL_1031397ea9b643709429a90aef547a68"
            ]
          }
        },
        "536f67b288fd40fd9707afa1351b412c": {
          "model_module": "@jupyter-widgets/base",
          "model_name": "LayoutModel",
          "state": {
            "_view_name": "LayoutView",
            "grid_template_rows": null,
            "right": null,
            "justify_content": null,
            "_view_module": "@jupyter-widgets/base",
            "overflow": null,
            "_model_module_version": "1.2.0",
            "_view_count": null,
            "flex_flow": null,
            "width": null,
            "min_width": null,
            "border": null,
            "align_items": null,
            "bottom": null,
            "_model_module": "@jupyter-widgets/base",
            "top": null,
            "grid_column": null,
            "overflow_y": null,
            "overflow_x": null,
            "grid_auto_flow": null,
            "grid_area": null,
            "grid_template_columns": null,
            "flex": null,
            "_model_name": "LayoutModel",
            "justify_items": null,
            "grid_row": null,
            "max_height": null,
            "align_content": null,
            "visibility": null,
            "align_self": null,
            "height": null,
            "min_height": null,
            "padding": null,
            "grid_auto_rows": null,
            "grid_gap": null,
            "max_width": null,
            "order": null,
            "_view_module_version": "1.2.0",
            "grid_template_areas": null,
            "object_position": null,
            "object_fit": null,
            "grid_auto_columns": null,
            "margin": null,
            "display": null,
            "left": null
          }
        },
        "d15c5d2fe3c24c23ad4f8368d11a06bf": {
          "model_module": "@jupyter-widgets/controls",
          "model_name": "FloatProgressModel",
          "state": {
            "_view_name": "ProgressView",
            "style": "IPY_MODEL_2cf46121847248c5a2dc4e10b5f53e64",
            "_dom_classes": [],
            "description": "",
            "_model_name": "FloatProgressModel",
            "bar_style": "success",
            "max": 1,
            "_view_module": "@jupyter-widgets/controls",
            "_model_module_version": "1.5.0",
            "value": 1,
            "_view_count": null,
            "_view_module_version": "1.5.0",
            "orientation": "horizontal",
            "min": 0,
            "description_tooltip": null,
            "_model_module": "@jupyter-widgets/controls",
            "layout": "IPY_MODEL_f005a7a1f30f4666bc6c7438a4858841"
          }
        },
        "1031397ea9b643709429a90aef547a68": {
          "model_module": "@jupyter-widgets/controls",
          "model_name": "HTMLModel",
          "state": {
            "_view_name": "HTMLView",
            "style": "IPY_MODEL_f6ce69a410ec47c9b4f689b9a2a90bff",
            "_dom_classes": [],
            "description": "",
            "_model_name": "HTMLModel",
            "placeholder": "​",
            "_view_module": "@jupyter-widgets/controls",
            "_model_module_version": "1.5.0",
            "value": " 9920512/? [00:02&lt;00:00, 3370090.65it/s]",
            "_view_count": null,
            "_view_module_version": "1.5.0",
            "description_tooltip": null,
            "_model_module": "@jupyter-widgets/controls",
            "layout": "IPY_MODEL_03a747d316cf4fb295dc8d39737e14b3"
          }
        },
        "2cf46121847248c5a2dc4e10b5f53e64": {
          "model_module": "@jupyter-widgets/controls",
          "model_name": "ProgressStyleModel",
          "state": {
            "_view_name": "StyleView",
            "_model_name": "ProgressStyleModel",
            "description_width": "initial",
            "_view_module": "@jupyter-widgets/base",
            "_model_module_version": "1.5.0",
            "_view_count": null,
            "_view_module_version": "1.2.0",
            "bar_color": null,
            "_model_module": "@jupyter-widgets/controls"
          }
        },
        "f005a7a1f30f4666bc6c7438a4858841": {
          "model_module": "@jupyter-widgets/base",
          "model_name": "LayoutModel",
          "state": {
            "_view_name": "LayoutView",
            "grid_template_rows": null,
            "right": null,
            "justify_content": null,
            "_view_module": "@jupyter-widgets/base",
            "overflow": null,
            "_model_module_version": "1.2.0",
            "_view_count": null,
            "flex_flow": null,
            "width": null,
            "min_width": null,
            "border": null,
            "align_items": null,
            "bottom": null,
            "_model_module": "@jupyter-widgets/base",
            "top": null,
            "grid_column": null,
            "overflow_y": null,
            "overflow_x": null,
            "grid_auto_flow": null,
            "grid_area": null,
            "grid_template_columns": null,
            "flex": null,
            "_model_name": "LayoutModel",
            "justify_items": null,
            "grid_row": null,
            "max_height": null,
            "align_content": null,
            "visibility": null,
            "align_self": null,
            "height": null,
            "min_height": null,
            "padding": null,
            "grid_auto_rows": null,
            "grid_gap": null,
            "max_width": null,
            "order": null,
            "_view_module_version": "1.2.0",
            "grid_template_areas": null,
            "object_position": null,
            "object_fit": null,
            "grid_auto_columns": null,
            "margin": null,
            "display": null,
            "left": null
          }
        },
        "f6ce69a410ec47c9b4f689b9a2a90bff": {
          "model_module": "@jupyter-widgets/controls",
          "model_name": "DescriptionStyleModel",
          "state": {
            "_view_name": "StyleView",
            "_model_name": "DescriptionStyleModel",
            "description_width": "",
            "_view_module": "@jupyter-widgets/base",
            "_model_module_version": "1.5.0",
            "_view_count": null,
            "_view_module_version": "1.2.0",
            "_model_module": "@jupyter-widgets/controls"
          }
        },
        "03a747d316cf4fb295dc8d39737e14b3": {
          "model_module": "@jupyter-widgets/base",
          "model_name": "LayoutModel",
          "state": {
            "_view_name": "LayoutView",
            "grid_template_rows": null,
            "right": null,
            "justify_content": null,
            "_view_module": "@jupyter-widgets/base",
            "overflow": null,
            "_model_module_version": "1.2.0",
            "_view_count": null,
            "flex_flow": null,
            "width": null,
            "min_width": null,
            "border": null,
            "align_items": null,
            "bottom": null,
            "_model_module": "@jupyter-widgets/base",
            "top": null,
            "grid_column": null,
            "overflow_y": null,
            "overflow_x": null,
            "grid_auto_flow": null,
            "grid_area": null,
            "grid_template_columns": null,
            "flex": null,
            "_model_name": "LayoutModel",
            "justify_items": null,
            "grid_row": null,
            "max_height": null,
            "align_content": null,
            "visibility": null,
            "align_self": null,
            "height": null,
            "min_height": null,
            "padding": null,
            "grid_auto_rows": null,
            "grid_gap": null,
            "max_width": null,
            "order": null,
            "_view_module_version": "1.2.0",
            "grid_template_areas": null,
            "object_position": null,
            "object_fit": null,
            "grid_auto_columns": null,
            "margin": null,
            "display": null,
            "left": null
          }
        },
        "b8e76bfbe7e741ed8b9bd8c9057ff0fa": {
          "model_module": "@jupyter-widgets/controls",
          "model_name": "HBoxModel",
          "state": {
            "_view_name": "HBoxView",
            "_dom_classes": [],
            "_model_name": "HBoxModel",
            "_view_module": "@jupyter-widgets/controls",
            "_model_module_version": "1.5.0",
            "_view_count": null,
            "_view_module_version": "1.5.0",
            "box_style": "",
            "layout": "IPY_MODEL_4567750f4e054389a04a3c627f74d256",
            "_model_module": "@jupyter-widgets/controls",
            "children": [
              "IPY_MODEL_2e4867f3bd6040b8b01a8acc1f36ef2b",
              "IPY_MODEL_6c4beeecda644fbea5b40003ef62e44e"
            ]
          }
        },
        "4567750f4e054389a04a3c627f74d256": {
          "model_module": "@jupyter-widgets/base",
          "model_name": "LayoutModel",
          "state": {
            "_view_name": "LayoutView",
            "grid_template_rows": null,
            "right": null,
            "justify_content": null,
            "_view_module": "@jupyter-widgets/base",
            "overflow": null,
            "_model_module_version": "1.2.0",
            "_view_count": null,
            "flex_flow": null,
            "width": null,
            "min_width": null,
            "border": null,
            "align_items": null,
            "bottom": null,
            "_model_module": "@jupyter-widgets/base",
            "top": null,
            "grid_column": null,
            "overflow_y": null,
            "overflow_x": null,
            "grid_auto_flow": null,
            "grid_area": null,
            "grid_template_columns": null,
            "flex": null,
            "_model_name": "LayoutModel",
            "justify_items": null,
            "grid_row": null,
            "max_height": null,
            "align_content": null,
            "visibility": null,
            "align_self": null,
            "height": null,
            "min_height": null,
            "padding": null,
            "grid_auto_rows": null,
            "grid_gap": null,
            "max_width": null,
            "order": null,
            "_view_module_version": "1.2.0",
            "grid_template_areas": null,
            "object_position": null,
            "object_fit": null,
            "grid_auto_columns": null,
            "margin": null,
            "display": null,
            "left": null
          }
        },
        "2e4867f3bd6040b8b01a8acc1f36ef2b": {
          "model_module": "@jupyter-widgets/controls",
          "model_name": "FloatProgressModel",
          "state": {
            "_view_name": "ProgressView",
            "style": "IPY_MODEL_cbd7788373824fe99ff86d05b1fed4d4",
            "_dom_classes": [],
            "description": "",
            "_model_name": "FloatProgressModel",
            "bar_style": "success",
            "max": 1,
            "_view_module": "@jupyter-widgets/controls",
            "_model_module_version": "1.5.0",
            "value": 1,
            "_view_count": null,
            "_view_module_version": "1.5.0",
            "orientation": "horizontal",
            "min": 0,
            "description_tooltip": null,
            "_model_module": "@jupyter-widgets/controls",
            "layout": "IPY_MODEL_856e760dca21405f985a6980ea52beda"
          }
        },
        "6c4beeecda644fbea5b40003ef62e44e": {
          "model_module": "@jupyter-widgets/controls",
          "model_name": "HTMLModel",
          "state": {
            "_view_name": "HTMLView",
            "style": "IPY_MODEL_f7ea8a3771474711960fe837534ec3f3",
            "_dom_classes": [],
            "description": "",
            "_model_name": "HTMLModel",
            "placeholder": "​",
            "_view_module": "@jupyter-widgets/controls",
            "_model_module_version": "1.5.0",
            "value": " 32768/? [00:01&lt;00:00, 22121.50it/s]",
            "_view_count": null,
            "_view_module_version": "1.5.0",
            "description_tooltip": null,
            "_model_module": "@jupyter-widgets/controls",
            "layout": "IPY_MODEL_9e7c2630f88a43c2a0a5f650b1f5e3b0"
          }
        },
        "cbd7788373824fe99ff86d05b1fed4d4": {
          "model_module": "@jupyter-widgets/controls",
          "model_name": "ProgressStyleModel",
          "state": {
            "_view_name": "StyleView",
            "_model_name": "ProgressStyleModel",
            "description_width": "initial",
            "_view_module": "@jupyter-widgets/base",
            "_model_module_version": "1.5.0",
            "_view_count": null,
            "_view_module_version": "1.2.0",
            "bar_color": null,
            "_model_module": "@jupyter-widgets/controls"
          }
        },
        "856e760dca21405f985a6980ea52beda": {
          "model_module": "@jupyter-widgets/base",
          "model_name": "LayoutModel",
          "state": {
            "_view_name": "LayoutView",
            "grid_template_rows": null,
            "right": null,
            "justify_content": null,
            "_view_module": "@jupyter-widgets/base",
            "overflow": null,
            "_model_module_version": "1.2.0",
            "_view_count": null,
            "flex_flow": null,
            "width": null,
            "min_width": null,
            "border": null,
            "align_items": null,
            "bottom": null,
            "_model_module": "@jupyter-widgets/base",
            "top": null,
            "grid_column": null,
            "overflow_y": null,
            "overflow_x": null,
            "grid_auto_flow": null,
            "grid_area": null,
            "grid_template_columns": null,
            "flex": null,
            "_model_name": "LayoutModel",
            "justify_items": null,
            "grid_row": null,
            "max_height": null,
            "align_content": null,
            "visibility": null,
            "align_self": null,
            "height": null,
            "min_height": null,
            "padding": null,
            "grid_auto_rows": null,
            "grid_gap": null,
            "max_width": null,
            "order": null,
            "_view_module_version": "1.2.0",
            "grid_template_areas": null,
            "object_position": null,
            "object_fit": null,
            "grid_auto_columns": null,
            "margin": null,
            "display": null,
            "left": null
          }
        },
        "f7ea8a3771474711960fe837534ec3f3": {
          "model_module": "@jupyter-widgets/controls",
          "model_name": "DescriptionStyleModel",
          "state": {
            "_view_name": "StyleView",
            "_model_name": "DescriptionStyleModel",
            "description_width": "",
            "_view_module": "@jupyter-widgets/base",
            "_model_module_version": "1.5.0",
            "_view_count": null,
            "_view_module_version": "1.2.0",
            "_model_module": "@jupyter-widgets/controls"
          }
        },
        "9e7c2630f88a43c2a0a5f650b1f5e3b0": {
          "model_module": "@jupyter-widgets/base",
          "model_name": "LayoutModel",
          "state": {
            "_view_name": "LayoutView",
            "grid_template_rows": null,
            "right": null,
            "justify_content": null,
            "_view_module": "@jupyter-widgets/base",
            "overflow": null,
            "_model_module_version": "1.2.0",
            "_view_count": null,
            "flex_flow": null,
            "width": null,
            "min_width": null,
            "border": null,
            "align_items": null,
            "bottom": null,
            "_model_module": "@jupyter-widgets/base",
            "top": null,
            "grid_column": null,
            "overflow_y": null,
            "overflow_x": null,
            "grid_auto_flow": null,
            "grid_area": null,
            "grid_template_columns": null,
            "flex": null,
            "_model_name": "LayoutModel",
            "justify_items": null,
            "grid_row": null,
            "max_height": null,
            "align_content": null,
            "visibility": null,
            "align_self": null,
            "height": null,
            "min_height": null,
            "padding": null,
            "grid_auto_rows": null,
            "grid_gap": null,
            "max_width": null,
            "order": null,
            "_view_module_version": "1.2.0",
            "grid_template_areas": null,
            "object_position": null,
            "object_fit": null,
            "grid_auto_columns": null,
            "margin": null,
            "display": null,
            "left": null
          }
        },
        "26a09b1b0bbd413b9ec9484f2202aacf": {
          "model_module": "@jupyter-widgets/controls",
          "model_name": "HBoxModel",
          "state": {
            "_view_name": "HBoxView",
            "_dom_classes": [],
            "_model_name": "HBoxModel",
            "_view_module": "@jupyter-widgets/controls",
            "_model_module_version": "1.5.0",
            "_view_count": null,
            "_view_module_version": "1.5.0",
            "box_style": "",
            "layout": "IPY_MODEL_5e68e2b8231e4541971c7951ce8a6a93",
            "_model_module": "@jupyter-widgets/controls",
            "children": [
              "IPY_MODEL_6d3aa04ea16546e1b3fc991386580760",
              "IPY_MODEL_05cec320ab5548afa08598af4630890e"
            ]
          }
        },
        "5e68e2b8231e4541971c7951ce8a6a93": {
          "model_module": "@jupyter-widgets/base",
          "model_name": "LayoutModel",
          "state": {
            "_view_name": "LayoutView",
            "grid_template_rows": null,
            "right": null,
            "justify_content": null,
            "_view_module": "@jupyter-widgets/base",
            "overflow": null,
            "_model_module_version": "1.2.0",
            "_view_count": null,
            "flex_flow": null,
            "width": null,
            "min_width": null,
            "border": null,
            "align_items": null,
            "bottom": null,
            "_model_module": "@jupyter-widgets/base",
            "top": null,
            "grid_column": null,
            "overflow_y": null,
            "overflow_x": null,
            "grid_auto_flow": null,
            "grid_area": null,
            "grid_template_columns": null,
            "flex": null,
            "_model_name": "LayoutModel",
            "justify_items": null,
            "grid_row": null,
            "max_height": null,
            "align_content": null,
            "visibility": null,
            "align_self": null,
            "height": null,
            "min_height": null,
            "padding": null,
            "grid_auto_rows": null,
            "grid_gap": null,
            "max_width": null,
            "order": null,
            "_view_module_version": "1.2.0",
            "grid_template_areas": null,
            "object_position": null,
            "object_fit": null,
            "grid_auto_columns": null,
            "margin": null,
            "display": null,
            "left": null
          }
        },
        "6d3aa04ea16546e1b3fc991386580760": {
          "model_module": "@jupyter-widgets/controls",
          "model_name": "FloatProgressModel",
          "state": {
            "_view_name": "ProgressView",
            "style": "IPY_MODEL_9108f0ec39b2406195aa98b1bf603461",
            "_dom_classes": [],
            "description": "",
            "_model_name": "FloatProgressModel",
            "bar_style": "success",
            "max": 1,
            "_view_module": "@jupyter-widgets/controls",
            "_model_module_version": "1.5.0",
            "value": 1,
            "_view_count": null,
            "_view_module_version": "1.5.0",
            "orientation": "horizontal",
            "min": 0,
            "description_tooltip": null,
            "_model_module": "@jupyter-widgets/controls",
            "layout": "IPY_MODEL_aa0ded0eb76546149969d96ed22c5864"
          }
        },
        "05cec320ab5548afa08598af4630890e": {
          "model_module": "@jupyter-widgets/controls",
          "model_name": "HTMLModel",
          "state": {
            "_view_name": "HTMLView",
            "style": "IPY_MODEL_16fa108d6bbc4efe88ca850bb360a8a1",
            "_dom_classes": [],
            "description": "",
            "_model_name": "HTMLModel",
            "placeholder": "​",
            "_view_module": "@jupyter-widgets/controls",
            "_model_module_version": "1.5.0",
            "value": " 1654784/? [00:01&lt;00:00, 1498651.81it/s]",
            "_view_count": null,
            "_view_module_version": "1.5.0",
            "description_tooltip": null,
            "_model_module": "@jupyter-widgets/controls",
            "layout": "IPY_MODEL_c9534ea6eeae407197380ac88f41b08c"
          }
        },
        "9108f0ec39b2406195aa98b1bf603461": {
          "model_module": "@jupyter-widgets/controls",
          "model_name": "ProgressStyleModel",
          "state": {
            "_view_name": "StyleView",
            "_model_name": "ProgressStyleModel",
            "description_width": "initial",
            "_view_module": "@jupyter-widgets/base",
            "_model_module_version": "1.5.0",
            "_view_count": null,
            "_view_module_version": "1.2.0",
            "bar_color": null,
            "_model_module": "@jupyter-widgets/controls"
          }
        },
        "aa0ded0eb76546149969d96ed22c5864": {
          "model_module": "@jupyter-widgets/base",
          "model_name": "LayoutModel",
          "state": {
            "_view_name": "LayoutView",
            "grid_template_rows": null,
            "right": null,
            "justify_content": null,
            "_view_module": "@jupyter-widgets/base",
            "overflow": null,
            "_model_module_version": "1.2.0",
            "_view_count": null,
            "flex_flow": null,
            "width": null,
            "min_width": null,
            "border": null,
            "align_items": null,
            "bottom": null,
            "_model_module": "@jupyter-widgets/base",
            "top": null,
            "grid_column": null,
            "overflow_y": null,
            "overflow_x": null,
            "grid_auto_flow": null,
            "grid_area": null,
            "grid_template_columns": null,
            "flex": null,
            "_model_name": "LayoutModel",
            "justify_items": null,
            "grid_row": null,
            "max_height": null,
            "align_content": null,
            "visibility": null,
            "align_self": null,
            "height": null,
            "min_height": null,
            "padding": null,
            "grid_auto_rows": null,
            "grid_gap": null,
            "max_width": null,
            "order": null,
            "_view_module_version": "1.2.0",
            "grid_template_areas": null,
            "object_position": null,
            "object_fit": null,
            "grid_auto_columns": null,
            "margin": null,
            "display": null,
            "left": null
          }
        },
        "16fa108d6bbc4efe88ca850bb360a8a1": {
          "model_module": "@jupyter-widgets/controls",
          "model_name": "DescriptionStyleModel",
          "state": {
            "_view_name": "StyleView",
            "_model_name": "DescriptionStyleModel",
            "description_width": "",
            "_view_module": "@jupyter-widgets/base",
            "_model_module_version": "1.5.0",
            "_view_count": null,
            "_view_module_version": "1.2.0",
            "_model_module": "@jupyter-widgets/controls"
          }
        },
        "c9534ea6eeae407197380ac88f41b08c": {
          "model_module": "@jupyter-widgets/base",
          "model_name": "LayoutModel",
          "state": {
            "_view_name": "LayoutView",
            "grid_template_rows": null,
            "right": null,
            "justify_content": null,
            "_view_module": "@jupyter-widgets/base",
            "overflow": null,
            "_model_module_version": "1.2.0",
            "_view_count": null,
            "flex_flow": null,
            "width": null,
            "min_width": null,
            "border": null,
            "align_items": null,
            "bottom": null,
            "_model_module": "@jupyter-widgets/base",
            "top": null,
            "grid_column": null,
            "overflow_y": null,
            "overflow_x": null,
            "grid_auto_flow": null,
            "grid_area": null,
            "grid_template_columns": null,
            "flex": null,
            "_model_name": "LayoutModel",
            "justify_items": null,
            "grid_row": null,
            "max_height": null,
            "align_content": null,
            "visibility": null,
            "align_self": null,
            "height": null,
            "min_height": null,
            "padding": null,
            "grid_auto_rows": null,
            "grid_gap": null,
            "max_width": null,
            "order": null,
            "_view_module_version": "1.2.0",
            "grid_template_areas": null,
            "object_position": null,
            "object_fit": null,
            "grid_auto_columns": null,
            "margin": null,
            "display": null,
            "left": null
          }
        },
        "78414fa7a45f4219b4b3516af867593c": {
          "model_module": "@jupyter-widgets/controls",
          "model_name": "HBoxModel",
          "state": {
            "_view_name": "HBoxView",
            "_dom_classes": [],
            "_model_name": "HBoxModel",
            "_view_module": "@jupyter-widgets/controls",
            "_model_module_version": "1.5.0",
            "_view_count": null,
            "_view_module_version": "1.5.0",
            "box_style": "",
            "layout": "IPY_MODEL_fd82951fe7414210a3f584d5b05ef99a",
            "_model_module": "@jupyter-widgets/controls",
            "children": [
              "IPY_MODEL_6575a62d09ca4d8fa3cd7c6be87b5386",
              "IPY_MODEL_97d137aa2f664149b76be722f14a64a9"
            ]
          }
        },
        "fd82951fe7414210a3f584d5b05ef99a": {
          "model_module": "@jupyter-widgets/base",
          "model_name": "LayoutModel",
          "state": {
            "_view_name": "LayoutView",
            "grid_template_rows": null,
            "right": null,
            "justify_content": null,
            "_view_module": "@jupyter-widgets/base",
            "overflow": null,
            "_model_module_version": "1.2.0",
            "_view_count": null,
            "flex_flow": null,
            "width": null,
            "min_width": null,
            "border": null,
            "align_items": null,
            "bottom": null,
            "_model_module": "@jupyter-widgets/base",
            "top": null,
            "grid_column": null,
            "overflow_y": null,
            "overflow_x": null,
            "grid_auto_flow": null,
            "grid_area": null,
            "grid_template_columns": null,
            "flex": null,
            "_model_name": "LayoutModel",
            "justify_items": null,
            "grid_row": null,
            "max_height": null,
            "align_content": null,
            "visibility": null,
            "align_self": null,
            "height": null,
            "min_height": null,
            "padding": null,
            "grid_auto_rows": null,
            "grid_gap": null,
            "max_width": null,
            "order": null,
            "_view_module_version": "1.2.0",
            "grid_template_areas": null,
            "object_position": null,
            "object_fit": null,
            "grid_auto_columns": null,
            "margin": null,
            "display": null,
            "left": null
          }
        },
        "6575a62d09ca4d8fa3cd7c6be87b5386": {
          "model_module": "@jupyter-widgets/controls",
          "model_name": "FloatProgressModel",
          "state": {
            "_view_name": "ProgressView",
            "style": "IPY_MODEL_ac013441668741f28569127512db055d",
            "_dom_classes": [],
            "description": "",
            "_model_name": "FloatProgressModel",
            "bar_style": "success",
            "max": 1,
            "_view_module": "@jupyter-widgets/controls",
            "_model_module_version": "1.5.0",
            "value": 1,
            "_view_count": null,
            "_view_module_version": "1.5.0",
            "orientation": "horizontal",
            "min": 0,
            "description_tooltip": null,
            "_model_module": "@jupyter-widgets/controls",
            "layout": "IPY_MODEL_49a1d81ab8dc4ee6a37e9f1790a27225"
          }
        },
        "97d137aa2f664149b76be722f14a64a9": {
          "model_module": "@jupyter-widgets/controls",
          "model_name": "HTMLModel",
          "state": {
            "_view_name": "HTMLView",
            "style": "IPY_MODEL_99f33e5231994df0998af0fa087af2f4",
            "_dom_classes": [],
            "description": "",
            "_model_name": "HTMLModel",
            "placeholder": "​",
            "_view_module": "@jupyter-widgets/controls",
            "_model_module_version": "1.5.0",
            "value": " 8192/? [00:00&lt;00:00, 20498.35it/s]",
            "_view_count": null,
            "_view_module_version": "1.5.0",
            "description_tooltip": null,
            "_model_module": "@jupyter-widgets/controls",
            "layout": "IPY_MODEL_a3175a64fea4432baeb5a95dc17c4a84"
          }
        },
        "ac013441668741f28569127512db055d": {
          "model_module": "@jupyter-widgets/controls",
          "model_name": "ProgressStyleModel",
          "state": {
            "_view_name": "StyleView",
            "_model_name": "ProgressStyleModel",
            "description_width": "initial",
            "_view_module": "@jupyter-widgets/base",
            "_model_module_version": "1.5.0",
            "_view_count": null,
            "_view_module_version": "1.2.0",
            "bar_color": null,
            "_model_module": "@jupyter-widgets/controls"
          }
        },
        "49a1d81ab8dc4ee6a37e9f1790a27225": {
          "model_module": "@jupyter-widgets/base",
          "model_name": "LayoutModel",
          "state": {
            "_view_name": "LayoutView",
            "grid_template_rows": null,
            "right": null,
            "justify_content": null,
            "_view_module": "@jupyter-widgets/base",
            "overflow": null,
            "_model_module_version": "1.2.0",
            "_view_count": null,
            "flex_flow": null,
            "width": null,
            "min_width": null,
            "border": null,
            "align_items": null,
            "bottom": null,
            "_model_module": "@jupyter-widgets/base",
            "top": null,
            "grid_column": null,
            "overflow_y": null,
            "overflow_x": null,
            "grid_auto_flow": null,
            "grid_area": null,
            "grid_template_columns": null,
            "flex": null,
            "_model_name": "LayoutModel",
            "justify_items": null,
            "grid_row": null,
            "max_height": null,
            "align_content": null,
            "visibility": null,
            "align_self": null,
            "height": null,
            "min_height": null,
            "padding": null,
            "grid_auto_rows": null,
            "grid_gap": null,
            "max_width": null,
            "order": null,
            "_view_module_version": "1.2.0",
            "grid_template_areas": null,
            "object_position": null,
            "object_fit": null,
            "grid_auto_columns": null,
            "margin": null,
            "display": null,
            "left": null
          }
        },
        "99f33e5231994df0998af0fa087af2f4": {
          "model_module": "@jupyter-widgets/controls",
          "model_name": "DescriptionStyleModel",
          "state": {
            "_view_name": "StyleView",
            "_model_name": "DescriptionStyleModel",
            "description_width": "",
            "_view_module": "@jupyter-widgets/base",
            "_model_module_version": "1.5.0",
            "_view_count": null,
            "_view_module_version": "1.2.0",
            "_model_module": "@jupyter-widgets/controls"
          }
        },
        "a3175a64fea4432baeb5a95dc17c4a84": {
          "model_module": "@jupyter-widgets/base",
          "model_name": "LayoutModel",
          "state": {
            "_view_name": "LayoutView",
            "grid_template_rows": null,
            "right": null,
            "justify_content": null,
            "_view_module": "@jupyter-widgets/base",
            "overflow": null,
            "_model_module_version": "1.2.0",
            "_view_count": null,
            "flex_flow": null,
            "width": null,
            "min_width": null,
            "border": null,
            "align_items": null,
            "bottom": null,
            "_model_module": "@jupyter-widgets/base",
            "top": null,
            "grid_column": null,
            "overflow_y": null,
            "overflow_x": null,
            "grid_auto_flow": null,
            "grid_area": null,
            "grid_template_columns": null,
            "flex": null,
            "_model_name": "LayoutModel",
            "justify_items": null,
            "grid_row": null,
            "max_height": null,
            "align_content": null,
            "visibility": null,
            "align_self": null,
            "height": null,
            "min_height": null,
            "padding": null,
            "grid_auto_rows": null,
            "grid_gap": null,
            "max_width": null,
            "order": null,
            "_view_module_version": "1.2.0",
            "grid_template_areas": null,
            "object_position": null,
            "object_fit": null,
            "grid_auto_columns": null,
            "margin": null,
            "display": null,
            "left": null
          }
        }
      }
    }
  },
  "cells": [
    {
      "cell_type": "markdown",
      "metadata": {
        "id": "view-in-github",
        "colab_type": "text"
      },
      "source": [
        "<a href=\"https://colab.research.google.com/github/musicjae/intro_to_python/blob/master/Pytorch/pytorch_studying(5)__Learning_Efficiency.ipynb\" target=\"_parent\"><img src=\"https://colab.research.google.com/assets/colab-badge.svg\" alt=\"Open In Colab\"/></a>"
      ]
    },
    {
      "cell_type": "markdown",
      "metadata": {
        "id": "KxrjHMj-Nw57"
      },
      "source": [
        "참고: 파이썬 딥러닝 파이토치, 정보문화사\n"
      ]
    },
    {
      "cell_type": "markdown",
      "metadata": {
        "id": "0gQE2ZqA-1JZ"
      },
      "source": [
        "# 임포트"
      ]
    },
    {
      "cell_type": "code",
      "metadata": {
        "id": "SofjNBqCkubC"
      },
      "source": [
        "import numpy as np\n",
        "import matplotlib.pyplot as plt\n",
        "import torch\n",
        "import torch.nn as nn # 신경망 설계시 필요\n",
        "import torch.nn.functional as F #nn중에서도 자주 사용되는 거 모음\n",
        "from torchvision import transforms, datasets # 비전 연구에서 자주 사용하는 transform, datasets"
      ],
      "execution_count": 1,
      "outputs": []
    },
    {
      "cell_type": "code",
      "metadata": {
        "colab": {
          "base_uri": "https://localhost:8080/"
        },
        "id": "2O1nsN-JsATo",
        "outputId": "96e1e80f-74eb-4fc2-9103-2ed0c02b9eda"
      },
      "source": [
        "## 장비 확인\n",
        "\n",
        "if torch.cuda.is_available():\n",
        "    DEVICE = torch.device('cuda')\n",
        "else:\n",
        "    DEVICE = torch.device('cpu')\n",
        "\n",
        "print('Pytorch 버전: ', torch.__version__, '장치: ', DEVICE)"
      ],
      "execution_count": 2,
      "outputs": [
        {
          "output_type": "stream",
          "text": [
            "Pytorch 버전:  1.7.0+cu101 장치:  cuda\n"
          ],
          "name": "stdout"
        }
      ]
    },
    {
      "cell_type": "code",
      "metadata": {
        "id": "Zz19TjA7sWc2"
      },
      "source": [
        "## HYPER PARAMETER\n",
        "\n",
        "BATCH_SIZE = 32 # 미니배치 1 개가 32 개의 데이터로 구성됨을 의미\n",
        "EPOCHS = 5 # 역전파 시 가중치를 업데이트. epochs 내의 미니 배치를 전부 이용한 횟수 의미"
      ],
      "execution_count": 3,
      "outputs": []
    },
    {
      "cell_type": "markdown",
      "metadata": {
        "id": "VVDVgqXx-zrv"
      },
      "source": [
        "# 데이터 로드 및 전처리"
      ]
    },
    {
      "cell_type": "code",
      "metadata": {
        "colab": {
          "base_uri": "https://localhost:8080/",
          "height": 377,
          "referenced_widgets": [
            "0c2e7134b805486c8d2f273d652f9a36",
            "536f67b288fd40fd9707afa1351b412c",
            "d15c5d2fe3c24c23ad4f8368d11a06bf",
            "1031397ea9b643709429a90aef547a68",
            "2cf46121847248c5a2dc4e10b5f53e64",
            "f005a7a1f30f4666bc6c7438a4858841",
            "f6ce69a410ec47c9b4f689b9a2a90bff",
            "03a747d316cf4fb295dc8d39737e14b3",
            "b8e76bfbe7e741ed8b9bd8c9057ff0fa",
            "4567750f4e054389a04a3c627f74d256",
            "2e4867f3bd6040b8b01a8acc1f36ef2b",
            "6c4beeecda644fbea5b40003ef62e44e",
            "cbd7788373824fe99ff86d05b1fed4d4",
            "856e760dca21405f985a6980ea52beda",
            "f7ea8a3771474711960fe837534ec3f3",
            "9e7c2630f88a43c2a0a5f650b1f5e3b0",
            "26a09b1b0bbd413b9ec9484f2202aacf",
            "5e68e2b8231e4541971c7951ce8a6a93",
            "6d3aa04ea16546e1b3fc991386580760",
            "05cec320ab5548afa08598af4630890e",
            "9108f0ec39b2406195aa98b1bf603461",
            "aa0ded0eb76546149969d96ed22c5864",
            "16fa108d6bbc4efe88ca850bb360a8a1",
            "c9534ea6eeae407197380ac88f41b08c",
            "78414fa7a45f4219b4b3516af867593c",
            "fd82951fe7414210a3f584d5b05ef99a",
            "6575a62d09ca4d8fa3cd7c6be87b5386",
            "97d137aa2f664149b76be722f14a64a9",
            "ac013441668741f28569127512db055d",
            "49a1d81ab8dc4ee6a37e9f1790a27225",
            "99f33e5231994df0998af0fa087af2f4",
            "a3175a64fea4432baeb5a95dc17c4a84"
          ]
        },
        "id": "mgykp2w7sdKR",
        "outputId": "71e682e3-1b5b-4177-a128-52f691435f48"
      },
      "source": [
        "train_dataset = datasets.MNIST(root='../data/MNIST',\n",
        "                               train=True, # 학습용 데이터 / False 시 검증용\n",
        "                               download=True,\n",
        "                               transform=transforms.ToTensor()) # 다운 받은 img 파일을 학습을 위한 Tensor로 바꿔줌\n",
        "                                                                # 이미지는 0 - 255 값으로 되어 있는데, 이 값을 0 - 1  내의 실수로 정규화해준다. (과적합 방지) \n",
        "test_dataset = datasets.MNIST(root='../data/MNIST',\n",
        "                               train=False, # 학습용 데이터 / False 시 검증용\n",
        "                               transform=transforms.ToTensor()) # 다운 받은 img 파일을 학습을 위한 Tensor로 바꿔줌"
      ],
      "execution_count": 4,
      "outputs": [
        {
          "output_type": "stream",
          "text": [
            "Downloading http://yann.lecun.com/exdb/mnist/train-images-idx3-ubyte.gz to ../data/MNIST/MNIST/raw/train-images-idx3-ubyte.gz\n"
          ],
          "name": "stdout"
        },
        {
          "output_type": "display_data",
          "data": {
            "application/vnd.jupyter.widget-view+json": {
              "model_id": "0c2e7134b805486c8d2f273d652f9a36",
              "version_minor": 0,
              "version_major": 2
            },
            "text/plain": [
              "HBox(children=(FloatProgress(value=1.0, bar_style='info', max=1.0), HTML(value='')))"
            ]
          },
          "metadata": {
            "tags": []
          }
        },
        {
          "output_type": "stream",
          "text": [
            "Extracting ../data/MNIST/MNIST/raw/train-images-idx3-ubyte.gz to ../data/MNIST/MNIST/raw\n",
            "Downloading http://yann.lecun.com/exdb/mnist/train-labels-idx1-ubyte.gz to ../data/MNIST/MNIST/raw/train-labels-idx1-ubyte.gz\n"
          ],
          "name": "stdout"
        },
        {
          "output_type": "display_data",
          "data": {
            "application/vnd.jupyter.widget-view+json": {
              "model_id": "b8e76bfbe7e741ed8b9bd8c9057ff0fa",
              "version_minor": 0,
              "version_major": 2
            },
            "text/plain": [
              "HBox(children=(FloatProgress(value=1.0, bar_style='info', max=1.0), HTML(value='')))"
            ]
          },
          "metadata": {
            "tags": []
          }
        },
        {
          "output_type": "stream",
          "text": [
            "Extracting ../data/MNIST/MNIST/raw/train-labels-idx1-ubyte.gz to ../data/MNIST/MNIST/raw\n",
            "Downloading http://yann.lecun.com/exdb/mnist/t10k-images-idx3-ubyte.gz to ../data/MNIST/MNIST/raw/t10k-images-idx3-ubyte.gz\n"
          ],
          "name": "stdout"
        },
        {
          "output_type": "display_data",
          "data": {
            "application/vnd.jupyter.widget-view+json": {
              "model_id": "26a09b1b0bbd413b9ec9484f2202aacf",
              "version_minor": 0,
              "version_major": 2
            },
            "text/plain": [
              "HBox(children=(FloatProgress(value=1.0, bar_style='info', max=1.0), HTML(value='')))"
            ]
          },
          "metadata": {
            "tags": []
          }
        },
        {
          "output_type": "stream",
          "text": [
            "Extracting ../data/MNIST/MNIST/raw/t10k-images-idx3-ubyte.gz to ../data/MNIST/MNIST/raw\n",
            "Downloading http://yann.lecun.com/exdb/mnist/t10k-labels-idx1-ubyte.gz to ../data/MNIST/MNIST/raw/t10k-labels-idx1-ubyte.gz\n"
          ],
          "name": "stdout"
        },
        {
          "output_type": "display_data",
          "data": {
            "application/vnd.jupyter.widget-view+json": {
              "model_id": "78414fa7a45f4219b4b3516af867593c",
              "version_minor": 0,
              "version_major": 2
            },
            "text/plain": [
              "HBox(children=(FloatProgress(value=1.0, bar_style='info', max=1.0), HTML(value='')))"
            ]
          },
          "metadata": {
            "tags": []
          }
        },
        {
          "output_type": "stream",
          "text": [
            "Extracting ../data/MNIST/MNIST/raw/t10k-labels-idx1-ubyte.gz to ../data/MNIST/MNIST/raw\n",
            "Processing...\n",
            "Done!\n"
          ],
          "name": "stdout"
        },
        {
          "output_type": "stream",
          "text": [
            "/usr/local/lib/python3.6/dist-packages/torchvision/datasets/mnist.py:480: UserWarning: The given NumPy array is not writeable, and PyTorch does not support non-writeable tensors. This means you can write to the underlying (supposedly non-writeable) NumPy array using the tensor. You may want to copy the array to protect its data or make it writeable before converting it to a tensor. This type of warning will be suppressed for the rest of this program. (Triggered internally at  /pytorch/torch/csrc/utils/tensor_numpy.cpp:141.)\n",
            "  return torch.from_numpy(parsed.astype(m[2], copy=False)).view(*s)\n"
          ],
          "name": "stderr"
        }
      ]
    },
    {
      "cell_type": "code",
      "metadata": {
        "id": "VCmZW3QOusmz"
      },
      "source": [
        "train_loader = torch.utils.data.DataLoader(dataset = train_dataset, # 다운로드한 데이터셋을 \"\"미니 배치 단위\"\"로 분리해서 지정. 여기서는 32 개의 이미지를 묶어 하나의 미니배치로 이용\n",
        "                                           batch_size = BATCH_SIZE,\n",
        "                                           shuffle=True)\n",
        "test_loader = torch.utils.data.DataLoader(dataset = test_dataset,\n",
        "                                           batch_size = BATCH_SIZE,\n",
        "                                           shuffle=False)"
      ],
      "execution_count": 5,
      "outputs": []
    },
    {
      "cell_type": "markdown",
      "metadata": {
        "id": "pfvH9SOXvpDV"
      },
      "source": [
        "# 데이터 확인"
      ]
    },
    {
      "cell_type": "code",
      "metadata": {
        "colab": {
          "base_uri": "https://localhost:8080/"
        },
        "id": "x5VF5Tqhvprs",
        "outputId": "9877a2e4-5503-4f3e-9f9c-5e55c3ef88fe"
      },
      "source": [
        "for(X_train, y_train) in train_loader:\n",
        "    print(f'X_train: {X_train.size()}, type: {X_train.type()}')\n",
        "    print(f'y_train: {y_train.size()}, type: {y_train.type()}')\n",
        "    break"
      ],
      "execution_count": 6,
      "outputs": [
        {
          "output_type": "stream",
          "text": [
            "\n",
            "\n",
            "X_train: torch.Size([32, 1, 28, 28]), type: torch.FloatTensor\n",
            "y_train: torch.Size([32]), type: torch.LongTensor\n"
          ],
          "name": "stdout"
        }
      ]
    },
    {
      "cell_type": "markdown",
      "metadata": {
        "id": "3UiBajTyv-Ns"
      },
      "source": [
        "이미지: 배치, 깊이(rgb 3), 이미지 사이즈(28, 28)"
      ]
    },
    {
      "cell_type": "markdown",
      "metadata": {
        "id": "hab6hPwhwX2I"
      },
      "source": [
        "데이터 확인 시각화"
      ]
    },
    {
      "cell_type": "code",
      "metadata": {
        "colab": {
          "base_uri": "https://localhost:8080/",
          "height": 130
        },
        "id": "U1a5xGVBwYqU",
        "outputId": "93174abe-8e6d-41cc-c230-a8d046e0fc1d"
      },
      "source": [
        "pltsize = 1\n",
        "plt.figure(figsize=(10*pltsize, pltsize))\n",
        "for i in range(10):\n",
        "    plt.subplot(1,10,i+1)\n",
        "    plt.axis('off')\n",
        "    plt.imshow(X_train[i,:,:,:].numpy().reshape(28,28), cmap='autumn_r')\n",
        "    plt.title('Class: '+str(y_train[i].item()))"
      ],
      "execution_count": 7,
      "outputs": [
        {
          "output_type": "stream",
          "text": [
            "\n",
            "\n"
          ],
          "name": "stdout"
        },
        {
          "output_type": "display_data",
          "data": {
            "image/png": "[encoded data removed]",
            "text/plain": [
              "<Figure size 720x72 with 10 Axes>"
            ]
          },
          "metadata": {
            "tags": [],
            "needs_background": "light"
          }
        }
      ]
    },
    {
      "cell_type": "markdown",
      "metadata": {
        "id": "DMbQPk2-xR3I"
      },
      "source": [
        "cmap:  \n",
        "  \n",
        "'Accent', 'Accent_r', 'Blues', 'Blues_r', 'BrBG', 'BrBG_r', 'BuGn', 'BuGn_r', 'BuPu', 'BuPu_r', 'CMRmap', 'CMRmap_r', 'Dark2', 'Dark2_r', 'GnBu', 'GnBu_r', 'Greens', 'Greens_r', 'Greys', 'Greys_r', 'OrRd', 'OrRd_r', 'Oranges', 'Oranges_r', 'PRGn', 'PRGn_r', 'Paired', 'Paired_r', 'Pastel1', 'Pastel1_r', 'Pastel2', 'Pastel2_r', 'PiYG', 'PiYG_r', 'PuBu', 'PuBuGn', 'PuBuGn_r', 'PuBu_r', 'PuOr', 'PuOr_r', 'PuRd', 'PuRd_r', 'Purples', 'Purples_r', 'RdBu', 'RdBu_r', 'RdGy', 'RdGy_r', 'RdPu', 'RdPu_r', 'RdYlBu', 'RdYlBu_r', 'RdYlGn', 'RdYlGn_r', 'Reds', 'Reds_r', 'Set1', 'Set1_r', 'Set2', 'Set2_r', 'Set3', 'Set3_r', 'Spectral', 'Spectral_r', 'Wistia', 'Wistia_r', 'YlGn', 'YlGnBu', 'YlGnBu_r', 'YlGn_r', 'YlOrBr', 'YlOrBr_r', 'YlOrRd', 'YlOrRd_r', 'afmhot', 'afmhot_r', 'autumn', 'autumn_r', 'binary', 'binary_r', 'bone', 'bone_r', 'brg', 'brg_r', 'bwr', 'bwr_r', 'cividis', 'cividis_r', 'cool', 'cool_r', 'coolwarm', 'coolwarm_r', 'copper', 'copper_r', 'cubehelix', 'cubehelix_r', 'flag', 'flag_r', 'gist_earth', 'gist_earth_r', 'gist_gray', 'gist_gray_r', 'gist_heat', 'gist_heat_r', 'gist_ncar', 'gist_ncar_r', 'gist_rainbow', 'gist_rainbow_r', 'gist_stern', 'gist_stern_r', 'gist_yarg', 'gist_yarg_r', 'gnuplot', 'gnuplot2', 'gnuplot2_r', 'gnuplot_r', 'gray', 'gray_r', 'hot', 'hot_r', 'hsv', 'hsv_r', 'inferno', 'inferno_r', 'jet', 'jet_r', 'magma', 'magma_r', 'nipy_spectral', 'nipy_spectral_r', 'ocean', 'ocean_r."
      ]
    },
    {
      "cell_type": "markdown",
      "metadata": {
        "id": "Uz9V1ZXQ-xnJ"
      },
      "source": [
        "# 모델링"
      ]
    },
    {
      "cell_type": "markdown",
      "metadata": {
        "id": "ZejFP1EdOs4w"
      },
      "source": [
        "## Vanila MLP"
      ]
    },
    {
      "cell_type": "code",
      "metadata": {
        "id": "nTWecFFkyOuc"
      },
      "source": [
        "## modeling ##\n",
        "\n",
        "class Net(nn.Module): # 모듈 클래스에 있는 것을 상속받아 사용하게 해준다\n",
        "    def __init__(self): # Net 클래스 인스턴스 생성 시, 지닐 attributes를 정의\n",
        "        super(Net, self).__init__() # 모듈 내의 메서드 상속\n",
        "        self.fc1 = nn.Linear(28*28,512) # 입력 차원은 이미지 크기의 노드 수, 임베딩 차원은 FCnet의 노드 수\n",
        "        self.fc2 = nn.Linear(512,256) \n",
        "        self.fc3 = nn.Linear(256,10) # 숫자가 0-9까지 10 개 있으니까 10 개로 다중 분류를 위해 10개로 출력 이것은 원핫인코딩 됨.\n",
        "\n",
        "    def forward(self, x):\n",
        "        x = x.view(-1,28*28) # MLP 모델은 1차원 벡터값을 받는다. 하지만 이미지 데이터는 크기가 28*28인 2차원 데이터기에, 1차원으로 바꿔주기 위해 데이터 변환 시도. (Flatten)\n",
        "        x = self.fc1(x)\n",
        "        x = F.relu(x)\n",
        "        x = self.fc2(x)\n",
        "        x = F.relu(x)\n",
        "        x = self.fc3(x)\n",
        "        x = F.log_softmax(x,dim=-1) # log 소프트맥스를 사용한 이유는, loss값의 grad 계산 시, explosion으로부터 방지.\n",
        "        return x"
      ],
      "execution_count": 8,
      "outputs": []
    },
    {
      "cell_type": "markdown",
      "metadata": {
        "id": "R-AhTZp6Ou3_"
      },
      "source": [
        "## MLP with Dropout"
      ]
    },
    {
      "cell_type": "code",
      "metadata": {
        "id": "0Ot59fIwOwvm"
      },
      "source": [
        "## modeling ##\n",
        "\n",
        "class Net2(nn.Module): # 모듈 클래스에 있는 것을 상속받아 사용하게 해준다\n",
        "    def __init__(self): # Net 클래스 인스턴스 생성 시, 지닐 attributes를 정의\n",
        "        super(Net2, self).__init__() # 모듈 내의 메서드 상속\n",
        "        self.fc1 = nn.Linear(28*28,512) # 입력 차원은 이미지 크기의 노드 수, 임베딩 차원은 FCnet의 노드 수\n",
        "        self.fc2 = nn.Linear(512,256) \n",
        "        self.fc3 = nn.Linear(256,10) # 숫자가 0-9까지 10 개 있으니까 10 개로 다중 분류를 위해 10개로 출력 이것은 원핫인코딩 됨.\n",
        "        self.dropout_prob = 0.3 # 몇 %의 노드를 계산하지 않을 것인가를 설정 ==> 랜덤하게 이 확률로 노드를 선택하여 가중치 업데이트 x 하게 만든다. (이제 forward에서 dropout 참조해보자.)\n",
        "\n",
        "    def forward(self, x):\n",
        "        x = x.view(-1,28*28) # MLP 모델은 1차원 벡터값을 받는다. 하지만 이미지 데이터는 크기가 28*28인 2차원 데이터기에, 1차원으로 바꿔주기 위해 데이터 변환 시도. (Flatten)\n",
        "        x = self.fc1(x)\n",
        "        x = F.relu(x)\n",
        "        x = F.dropout(x, training=self.training, p = self.dropout_prob) # 학습 시에는 랜덤하게 노드 제외된 뒤에 조정되지만, 평가 시에는 모든 노드가 조정되기 때문에, 이 같이 명시적으로 학습 경우라고 적어준다.\n",
        "        x = self.fc2(x)\n",
        "        x = F.relu(x)\n",
        "        x = F.dropout(x, training=self.training, p = self.dropout_prob)\n",
        "        x = self.fc3(x)\n",
        "        x = F.log_softmax(x,dim=1) # log 소프트맥스를 사용한 이유는, loss값의 grad 계산 시, explosion으로부터 방지.\n",
        "        return x"
      ],
      "execution_count": 18,
      "outputs": []
    },
    {
      "cell_type": "markdown",
      "metadata": {
        "id": "WmBWqBr1QPdN"
      },
      "source": [
        "## MLP with Dropout + BN"
      ]
    },
    {
      "cell_type": "markdown",
      "metadata": {
        "id": "SHUQ7kXtQeK8"
      },
      "source": [
        "BN이 활성화 함수 이전에 사용되는가, 이후에 사용되는가는 비합의된 주제."
      ]
    },
    {
      "cell_type": "code",
      "metadata": {
        "id": "NxXiwIflQQ9I"
      },
      "source": [
        "## modeling ##\n",
        "\n",
        "class Net3(nn.Module): # 모듈 클래스에 있는 것을 상속받아 사용하게 해준다\n",
        "    def __init__(self): # Net 클래스 인스턴스 생성 시, 지닐 attributes를 정의\n",
        "        super(Net3, self).__init__() # 모듈 내의 메서드 상속\n",
        "        self.fc1 = nn.Linear(28*28,512) # 입력 차원은 이미지 크기의 노드 수, 임베딩 차원은 FCnet의 노드 수\n",
        "        self.fc2 = nn.Linear(512,256) \n",
        "        self.fc3 = nn.Linear(256,10) # 숫자가 0-9까지 10 개 있으니까 10 개로 다중 분류를 위해 10개로 출력 이것은 원핫인코딩 됨.\n",
        "        self.dropout_prob = 0.3 # 몇 %의 노드를 계산하지 않을 것인가를 설정 ==> 랜덤하게 이 확률로 노드를 선택하여 가중치 업데이트 x 하게 만든다. (이제 forward에서 dropout 참조해보자.)\n",
        "        self.batch_norm1 = nn.BatchNorm1d(512)\n",
        "        self.batch_norm2 = nn.BatchNorm1d(256)\n",
        "\n",
        "    def forward(self, x):\n",
        "        x = x.view(-1,28*28) # MLP 모델은 1차원 벡터값을 받는다. 하지만 이미지 데이터는 크기가 28*28인 2차원 데이터기에, 1차원으로 바꿔주기 위해 데이터 변환 시도. (Flatten)\n",
        "        x = self.fc1(x)\n",
        "        x = self.batch_norm1(x)\n",
        "        x = F.relu(x)\n",
        "        x = F.dropout(x, training=self.training, p = self.dropout_prob) # 학습 시에는 랜덤하게 노드 제외된 뒤에 조정되지만, 평가 시에는 모든 노드가 조정되기 때문에, 이 같이 명시적으로 학습 경우라고 적어준다.\n",
        "        x = self.fc2(x)\n",
        "        x= self.batch_norm2(x)\n",
        "        x = F.relu(x)\n",
        "        x = F.dropout(x, training=self.training, p = self.dropout_prob)\n",
        "        x = self.fc3(x)\n",
        "        x = F.log_softmax(x,dim=1) # log 소프트맥스를 사용한 이유는, loss값의 grad 계산 시, explosion으로부터 방지.\n",
        "        return x"
      ],
      "execution_count": 27,
      "outputs": []
    },
    {
      "cell_type": "markdown",
      "metadata": {
        "id": "4pV5E3SqTrQ3"
      },
      "source": [
        "# MLP with Dropout + BN + He init  \n",
        "  \n",
        "- He: Xavier init은 Relu 사용 시 비효율적.  \n",
        "  이것을 보완하기 위해, He 초기화 등장"
      ]
    },
    {
      "cell_type": "code",
      "metadata": {
        "id": "wmHMqYq7UBt6"
      },
      "source": [
        "import torch.nn.init as init\n",
        "\n",
        "def weight_init(m):\n",
        "    if isinstance(m, nn.Linear): # 모델을 구성하고 있는 것들 중 오직 \"\"nn.Linear\"\"에 해당하는 파라미터만을 지정\n",
        "        init.kaiming_uniform_(m.weight.data)"
      ],
      "execution_count": 40,
      "outputs": []
    },
    {
      "cell_type": "code",
      "metadata": {
        "id": "oZqKEjZ2T_kX"
      },
      "source": [
        "## modeling ##\n",
        "\n",
        "class Net4(nn.Module): # 모듈 클래스에 있는 것을 상속받아 사용하게 해준다\n",
        "    def __init__(self): # Net 클래스 인스턴스 생성 시, 지닐 attributes를 정의\n",
        "        super(Net4, self).__init__() # 모듈 내의 메서드 상속\n",
        "        self.fc1 = nn.Linear(28*28,512) # 입력 차원은 이미지 크기의 노드 수, 임베딩 차원은 FCnet의 노드 수\n",
        "        self.fc2 = nn.Linear(512,256) \n",
        "        self.fc3 = nn.Linear(256,10) # 숫자가 0-9까지 10 개 있으니까 10 개로 다중 분류를 위해 10개로 출력 이것은 원핫인코딩 됨.\n",
        "        self.dropout_prob = 0.3 # 몇 %의 노드를 계산하지 않을 것인가를 설정 ==> 랜덤하게 이 확률로 노드를 선택하여 가중치 업데이트 x 하게 만든다. (이제 forward에서 dropout 참조해보자.)\n",
        "        self.batch_norm1 = nn.BatchNorm1d(512)\n",
        "        self.batch_norm2 = nn.BatchNorm1d(256)\n",
        "\n",
        "    def forward(self, x):\n",
        "        x = x.view(-1,28*28) # MLP 모델은 1차원 벡터값을 받는다. 하지만 이미지 데이터는 크기가 28*28인 2차원 데이터기에, 1차원으로 바꿔주기 위해 데이터 변환 시도. (Flatten)\n",
        "        x = self.fc1(x)\n",
        "        x = self.batch_norm1(x)\n",
        "        x = F.relu(x)\n",
        "        x = F.dropout(x, training=self.training, p = self.dropout_prob) # 학습 시에는 랜덤하게 노드 제외된 뒤에 조정되지만, 평가 시에는 모든 노드가 조정되기 때문에, 이 같이 명시적으로 학습 경우라고 적어준다.\n",
        "        x = self.fc2(x)\n",
        "        x= self.batch_norm2(x)\n",
        "        x = F.relu(x)\n",
        "        x = F.dropout(x, training=self.training, p = self.dropout_prob)\n",
        "        x = self.fc3(x)\n",
        "        x = F.log_softmax(x,dim=1) # log 소프트맥스를 사용한 이유는, loss값의 grad 계산 시, explosion으로부터 방지.\n",
        "        return x"
      ],
      "execution_count": 41,
      "outputs": []
    },
    {
      "cell_type": "code",
      "metadata": {
        "id": "7GcuGBc4UmuE"
      },
      "source": [
        "model_4 =  Net4().to(DEVICE)\n",
        "model.apply(weight_init) ## 위에서 설정한 he 초기화를 모델에 적용\n",
        "optimizer = torch.optim.RMSprop(model.parameters(), lr= 0.01, momentum=0.3)\n",
        "criterion = nn.CrossEntropyLoss()"
      ],
      "execution_count": 42,
      "outputs": []
    },
    {
      "cell_type": "markdown",
      "metadata": {
        "id": "jVzI4-oa3zMQ"
      },
      "source": [
        "# 옵티마이저,목적함수"
      ]
    },
    {
      "cell_type": "code",
      "metadata": {
        "id": "UJc9vc4F31xT"
      },
      "source": [
        "model = Net3().to(DEVICE) # cuda or cpu에 모델 할당\n",
        "optimizer = torch.optim.RMSprop(model.parameters(), lr= 0.01, momentum=0.3)\n",
        "criterion = nn.CrossEntropyLoss()"
      ],
      "execution_count": 28,
      "outputs": []
    },
    {
      "cell_type": "code",
      "metadata": {
        "colab": {
          "base_uri": "https://localhost:8080/"
        },
        "id": "FiauFF22_ArE",
        "outputId": "54e99c54-c78c-4a57-ae25-4797f4976cf7"
      },
      "source": [
        "print(model)"
      ],
      "execution_count": 29,
      "outputs": [
        {
          "output_type": "stream",
          "text": [
            "Net3(\n",
            "  (fc1): Linear(in_features=784, out_features=512, bias=True)\n",
            "  (fc2): Linear(in_features=512, out_features=256, bias=True)\n",
            "  (fc3): Linear(in_features=256, out_features=10, bias=True)\n",
            "  (batch_norm1): BatchNorm1d(512, eps=1e-05, momentum=0.1, affine=True, track_running_stats=True)\n",
            "  (batch_norm2): BatchNorm1d(256, eps=1e-05, momentum=0.1, affine=True, track_running_stats=True)\n",
            ")\n"
          ],
          "name": "stdout"
        }
      ]
    },
    {
      "cell_type": "markdown",
      "metadata": {
        "id": "EwZ7Ps_m_F0M"
      },
      "source": [
        "# 학습"
      ]
    },
    {
      "cell_type": "code",
      "metadata": {
        "id": "kgVg0wtF_GkM"
      },
      "source": [
        "def train(model, train_loader, optimizer, log_interval):\n",
        "    model_4.train() # 모델을 학습상태로 지정\n",
        "    for batch_idx, (image, label) in enumerate(train_loader): # 미니배치 단위로 저장된 train_loader. 이것은 img--label 쌍으로 저장되어 있다.\n",
        "        image = image.to(DEVICE) # 장비에 이미지 할당 to train the model\n",
        "        label = label.to(DEVICE) # Allocate label into cuda or cpu to train the model\n",
        "        optimizer.zero_grad() # Init previous grad in optimizer. Because In the case that we  allocated img, label into the DEVICE, they are stored in the optimizer we used. However, in new training session, we don't need them\n",
        "        output = model(image) # Compute output using input data in the model we defined\n",
        "        loss = criterion(output,label) # Use crossentropy to compute Loss\n",
        "        loss.backward() # Compute Backprop and allocate the computed values into each param\n",
        "        optimizer.step() # Update params using the allocated grads\n",
        "        \n",
        "        if batch_idx % log_interval == 0:\n",
        "            print(\"Train Epoch: {} [{}/{}({:.0f}%)]\\tTrain Loss: {:.6f}\".format(\n",
        "                Epoch, batch_idx*len(image),\n",
        "                len(train_loader.dataset),\n",
        "                100*batch_idx/len(train_loader),\n",
        "                loss.item()\n",
        "            ))"
      ],
      "execution_count": 43,
      "outputs": []
    },
    {
      "cell_type": "markdown",
      "metadata": {
        "id": "kM75wsF0FlgI"
      },
      "source": [
        "# 평가"
      ]
    },
    {
      "cell_type": "code",
      "metadata": {
        "id": "UPJa8jjnFmN5"
      },
      "source": [
        "def evaluate(model, test_loader):\n",
        "    model_4.eval()\n",
        "    test_loss = 0\n",
        "    correct = 0\n",
        "\n",
        "    with torch.no_grad(): # At the eval step, restrict the grad flow by using 'torch.no_grad()' to avoid param update through grads\n",
        "        for image, label in test_loader:\n",
        "            image = image.to(DEVICE)\n",
        "            label = label.to(DEVICE)\n",
        "            output = model(image)\n",
        "            test_loss += criterion(output, label).item() # add sum loss btn pred & correct into test_loss\n",
        "            prediction = output.max(1, keepdim = True)[1] # The output is vector that it has 10 shape. We regard it as the class corresponded to the position in question that the max value in the compute vectors.\n",
        "            correct += prediction.eq(label.view_as(prediction)).sum().item() # If final pred value was correct, store its count\n",
        "             \n",
        "    test_loss /= len(test_loader.dataset)\n",
        "    test_accuracy = 100 * correct / len(test_loader.dataset)\n",
        "    \n",
        "    return test_loss, test_accuracy"
      ],
      "execution_count": 44,
      "outputs": []
    },
    {
      "cell_type": "markdown",
      "metadata": {
        "id": "o4vy_pRwIiyZ"
      },
      "source": [
        "# 실행"
      ]
    },
    {
      "cell_type": "code",
      "metadata": {
        "colab": {
          "base_uri": "https://localhost:8080/"
        },
        "id": "L_L3REy-Jx5Y",
        "outputId": "8873ac34-c272-4cb5-e10d-f410578b8d36"
      },
      "source": [
        "for Epoch in range(1, EPOCHS+1):\n",
        "    train(model_4,train_loader,optimizer,log_interval=200)\n",
        "    test_loss, test_accuracy = evaluate(model, test_loader)\n",
        "\n",
        "    print('\\n[EPOCH: {}], \\t TEST LOSS: {:.4f}, \\tTest Accuracy: {:.2f} %\\n'.format(Epoch, test_loss, test_accuracy))"
      ],
      "execution_count": 45,
      "outputs": [
        {
          "output_type": "stream",
          "text": [
            "Train Epoch: 1 [0/60000(0%)]\tTrain Loss: 2.417772\n",
            "Train Epoch: 1 [6400/60000(11%)]\tTrain Loss: 2.419003\n",
            "Train Epoch: 1 [12800/60000(21%)]\tTrain Loss: 2.453576\n",
            "Train Epoch: 1 [19200/60000(32%)]\tTrain Loss: 2.376590\n",
            "Train Epoch: 1 [25600/60000(43%)]\tTrain Loss: 2.443652\n",
            "Train Epoch: 1 [32000/60000(53%)]\tTrain Loss: 2.402633\n",
            "Train Epoch: 1 [38400/60000(64%)]\tTrain Loss: 2.316510\n",
            "Train Epoch: 1 [44800/60000(75%)]\tTrain Loss: 2.324033\n",
            "Train Epoch: 1 [51200/60000(85%)]\tTrain Loss: 2.479839\n",
            "Train Epoch: 1 [57600/60000(96%)]\tTrain Loss: 2.492748\n",
            "\n",
            "[EPOCH: 1], \t TEST LOSS: 0.0741, \tTest Accuracy: 9.74 %\n",
            "\n",
            "Train Epoch: 2 [0/60000(0%)]\tTrain Loss: 2.400643\n",
            "Train Epoch: 2 [6400/60000(11%)]\tTrain Loss: 2.344064\n",
            "Train Epoch: 2 [12800/60000(21%)]\tTrain Loss: 2.393891\n",
            "Train Epoch: 2 [19200/60000(32%)]\tTrain Loss: 2.337710\n",
            "Train Epoch: 2 [25600/60000(43%)]\tTrain Loss: 2.441800\n",
            "Train Epoch: 2 [32000/60000(53%)]\tTrain Loss: 2.350724\n",
            "Train Epoch: 2 [38400/60000(64%)]\tTrain Loss: 2.394619\n",
            "Train Epoch: 2 [44800/60000(75%)]\tTrain Loss: 2.418699\n",
            "Train Epoch: 2 [51200/60000(85%)]\tTrain Loss: 2.357051\n",
            "Train Epoch: 2 [57600/60000(96%)]\tTrain Loss: 2.410845\n",
            "\n",
            "[EPOCH: 2], \t TEST LOSS: 0.0741, \tTest Accuracy: 9.74 %\n",
            "\n",
            "Train Epoch: 3 [0/60000(0%)]\tTrain Loss: 2.466534\n",
            "Train Epoch: 3 [6400/60000(11%)]\tTrain Loss: 2.389125\n",
            "Train Epoch: 3 [12800/60000(21%)]\tTrain Loss: 2.340204\n",
            "Train Epoch: 3 [19200/60000(32%)]\tTrain Loss: 2.401855\n",
            "Train Epoch: 3 [25600/60000(43%)]\tTrain Loss: 2.305326\n",
            "Train Epoch: 3 [32000/60000(53%)]\tTrain Loss: 2.570745\n",
            "Train Epoch: 3 [38400/60000(64%)]\tTrain Loss: 2.339533\n",
            "Train Epoch: 3 [44800/60000(75%)]\tTrain Loss: 2.412229\n",
            "Train Epoch: 3 [51200/60000(85%)]\tTrain Loss: 2.433127\n",
            "Train Epoch: 3 [57600/60000(96%)]\tTrain Loss: 2.413290\n",
            "\n",
            "[EPOCH: 3], \t TEST LOSS: 0.0741, \tTest Accuracy: 9.74 %\n",
            "\n",
            "Train Epoch: 4 [0/60000(0%)]\tTrain Loss: 2.326112\n",
            "Train Epoch: 4 [6400/60000(11%)]\tTrain Loss: 2.483864\n",
            "Train Epoch: 4 [12800/60000(21%)]\tTrain Loss: 2.390361\n",
            "Train Epoch: 4 [19200/60000(32%)]\tTrain Loss: 2.471750\n",
            "Train Epoch: 4 [25600/60000(43%)]\tTrain Loss: 2.313613\n",
            "Train Epoch: 4 [32000/60000(53%)]\tTrain Loss: 2.375462\n",
            "Train Epoch: 4 [38400/60000(64%)]\tTrain Loss: 2.531978\n",
            "Train Epoch: 4 [44800/60000(75%)]\tTrain Loss: 2.275158\n",
            "Train Epoch: 4 [51200/60000(85%)]\tTrain Loss: 2.441997\n",
            "Train Epoch: 4 [57600/60000(96%)]\tTrain Loss: 2.329796\n",
            "\n",
            "[EPOCH: 4], \t TEST LOSS: 0.0741, \tTest Accuracy: 9.74 %\n",
            "\n",
            "Train Epoch: 5 [0/60000(0%)]\tTrain Loss: 2.367278\n",
            "Train Epoch: 5 [6400/60000(11%)]\tTrain Loss: 2.402445\n",
            "Train Epoch: 5 [12800/60000(21%)]\tTrain Loss: 2.300183\n",
            "Train Epoch: 5 [19200/60000(32%)]\tTrain Loss: 2.310419\n",
            "Train Epoch: 5 [25600/60000(43%)]\tTrain Loss: 2.300089\n",
            "Train Epoch: 5 [32000/60000(53%)]\tTrain Loss: 2.404654\n",
            "Train Epoch: 5 [38400/60000(64%)]\tTrain Loss: 2.389699\n",
            "Train Epoch: 5 [44800/60000(75%)]\tTrain Loss: 2.515481\n",
            "Train Epoch: 5 [51200/60000(85%)]\tTrain Loss: 2.315524\n",
            "Train Epoch: 5 [57600/60000(96%)]\tTrain Loss: 2.310204\n",
            "\n",
            "[EPOCH: 5], \t TEST LOSS: 0.0741, \tTest Accuracy: 9.74 %\n",
            "\n"
          ],
          "name": "stdout"
        }
      ]
    },
    {
      "cell_type": "markdown",
      "metadata": {
        "id": "ibXVwQtrQING"
      },
      "source": [
        "- MLP dropout:  \n",
        "    TEST LOSS: 0.0117, \tTest Accuracy: 92.44 %\n",
        "- MLP dropout + BN :  \n",
        "     TEST LOSS: 0.0029, \tTest Accuracy: 97.48 %"
      ]
    }
  ]
}