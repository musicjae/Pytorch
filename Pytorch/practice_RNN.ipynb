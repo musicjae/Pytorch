{
  "nbformat": 4,
  "nbformat_minor": 0,
  "metadata": {
    "colab": {
      "name": "practice_RNN.ipynb",
      "provenance": [],
      "collapsed_sections": [],
      "authorship_tag": "ABX9TyNXZvZOBNCNPCJtGUM6VIeR",
      "include_colab_link": true
    },
    "kernelspec": {
      "name": "python3",
      "display_name": "Python 3"
    }
  },
  "cells": [
    {
      "cell_type": "markdown",
      "metadata": {
        "id": "view-in-github",
        "colab_type": "text"
      },
      "source": [
        "<a href=\"https://colab.research.google.com/github/musicjae/intro_to_python/blob/master/Pytorch/practice_RNN.ipynb\" target=\"_parent\"><img src=\"https://colab.research.google.com/assets/colab-badge.svg\" alt=\"Open In Colab\"/></a>"
      ]
    },
    {
      "cell_type": "markdown",
      "metadata": {
        "id": "l-TwjZ7nXWQD"
      },
      "source": [
        "# argparse"
      ]
    },
    {
      "cell_type": "code",
      "metadata": {
        "id": "V9YDQwcZXRJp"
      },
      "source": [
        "import argparse\n",
        "\n",
        "parser = argparse.ArgumentParser()\n",
        "args = parser.parse_args(\"\")"
      ],
      "execution_count": null,
      "outputs": []
    },
    {
      "cell_type": "code",
      "metadata": {
        "colab": {
          "base_uri": "https://localhost:8080/"
        },
        "id": "uv7vmSj5Xcc3",
        "outputId": "07a83eb5-0de4-4bb8-bc8f-f80c53661c42"
      },
      "source": [
        "args.num_layer = 5\n",
        "args.in_dim=100\n",
        "print(args.num_layer)\n",
        "print(args)"
      ],
      "execution_count": null,
      "outputs": [
        {
          "output_type": "stream",
          "text": [
            "5\n",
            "Namespace(in_dim=100, num_layer=5)\n"
          ],
          "name": "stdout"
        }
      ]
    },
    {
      "cell_type": "code",
      "metadata": {
        "colab": {
          "base_uri": "https://localhost:8080/"
        },
        "id": "HX6LowyIXoBM",
        "outputId": "2bf33f53-c92f-45a6-ee20-ea35f72f0765"
      },
      "source": [
        "linears=[]\n",
        "for i in range(args.num_layer):\n",
        "    linears.append(i)\n",
        "\n",
        "print(linears)\n",
        "\n",
        "d = vars(args)\n",
        "print(d)"
      ],
      "execution_count": null,
      "outputs": [
        {
          "output_type": "stream",
          "text": [
            "[0, 1, 2, 3, 4]\n",
            "{'num_layer': 5, 'in_dim': 100}\n"
          ],
          "name": "stdout"
        }
      ]
    },
    {
      "cell_type": "markdown",
      "metadata": {
        "id": "6UZh888cXYWr"
      },
      "source": [
        "# RNN"
      ]
    },
    {
      "cell_type": "code",
      "metadata": {
        "colab": {
          "base_uri": "https://localhost:8080/",
          "height": 297
        },
        "id": "Q7m9m0RFXY-4",
        "outputId": "a27a8d15-ed1e-4008-aa23-d0945ebbc2cf"
      },
      "source": [
        "%matplotlib inline\n",
        "\n",
        "import numpy as np\n",
        "import matplotlib.pyplot as plt\n",
        "import torch.optim as optim\n",
        "import torch\n",
        "import torch.nn as nn\n",
        "\n",
        "\n",
        "# ====== Generating Dataset ====== #\n",
        "num_data = 2400\n",
        "t = np.linspace(0.0, 100.0, num_data)\n",
        "y = np.sin(t) + np.sin(2*t) + np.cos(0.4*t)\n",
        "e = np.random.normal(0, 0.1, num_data)\n",
        "# y = y + e\n",
        "\n",
        "\n",
        "seq_len = 10\n",
        "X = []\n",
        "y_true = []\n",
        "for i in range(len(t)-seq_len):\n",
        "    X.append(y[i:i+seq_len])\n",
        "    y_true.append(y[i+seq_len])\n",
        "    \n",
        "X = np.array(X)\n",
        "y_true = np.array(y_true)\n",
        "\n",
        "X = np.swapaxes(X,0,1)\n",
        "X = np.expand_dims(X, axis=2)\n",
        "print(X.shape) # 맨 마지막에 1을 넣어줌으로써, for문에서 X를 처리할 때, x의 shape이 (batch_size, input_layer)로 표현할 수 있다.\n",
        "\n",
        "plt.plot(t, y)"
      ],
      "execution_count": 110,
      "outputs": [
        {
          "output_type": "stream",
          "text": [
            "(10, 2390, 1)\n"
          ],
          "name": "stdout"
        },
        {
          "output_type": "execute_result",
          "data": {
            "text/plain": [
              "[<matplotlib.lines.Line2D at 0x7f2b3af45828>]"
            ]
          },
          "metadata": {
            "tags": []
          },
          "execution_count": 110
        },
        {
          "output_type": "display_data",
          "data": {
            "image/png": "[encoded data removed]",
            "text/plain": [
              "<Figure size 432x288 with 1 Axes>"
            ]
          },
          "metadata": {
            "tags": [],
            "needs_background": "light"
          }
        }
      ]
    },
    {
      "cell_type": "code",
      "metadata": {
        "colab": {
          "base_uri": "https://localhost:8080/"
        },
        "id": "9Zetp5pr-73b",
        "outputId": "e4f512b0-af29-4292-8c4c-c96d14780df5"
      },
      "source": [
        "seq_len = 10\n",
        "X=[]\n",
        "true_y=[]\n",
        "for i in range(len(t)-seq_len):\n",
        "    X.append(y[i:i+seq_len])\n",
        "    true_y.append(y[i+seq_len])\n",
        "\n",
        "X = np.array(X)\n",
        "y = np.array(y)\n",
        "print(X.shape)\n",
        "print(y.shape)\n"
      ],
      "execution_count": 52,
      "outputs": [
        {
          "output_type": "stream",
          "text": [
            "(2390, 10)\n",
            "(2400,)\n"
          ],
          "name": "stdout"
        }
      ]
    },
    {
      "cell_type": "markdown",
      "metadata": {
        "id": "pyWlH5ZFXyK5"
      },
      "source": [
        "## model RNN"
      ]
    },
    {
      "cell_type": "markdown",
      "metadata": {
        "id": "Y6gjFdvtcIfz"
      },
      "source": [
        "$h_t = f(Ux_t+Wh_{t-1})$. \n",
        "\n",
        "$y_t = f(Vh_t)$"
      ]
    },
    {
      "cell_type": "code",
      "metadata": {
        "id": "p5U3HuCZXzXV"
      },
      "source": [
        "class RNN(nn.Module):\n",
        "    def __init__(self,input_dim,output_dim,hid_dim,batch_size):\n",
        "        super(RNN,self).__init__()\n",
        "\n",
        "        self.input_dim = input_dim\n",
        "        self.hid_dim= hid_dim\n",
        "        self.output_dim = output_dim\n",
        "        self.batch_size = batch_size\n",
        "\n",
        "        self.U = nn.Linear(self.input_dim,self.hid_dim,bias=False)\n",
        "        self.W = nn.Linear(self.hid_dim,self.hid_dim,bias=False)\n",
        "        self.V = nn.Linear(self.hid_dim,self.output_dim,bias=False)\n",
        "\n",
        "        self.activation = nn.Tanh()\n",
        "\n",
        "        self.hidden = self.init_hidden()# hidden state init\n",
        "\n",
        "    def init_hidden(self, batch_size=None):\n",
        "        if batch_size == None:\n",
        "            batch_size = self.batch_size\n",
        "        return torch.zeros(self.batch_size,self.hid_dim)#batch_size = 1\n",
        "\n",
        "    def forward(self, x):\n",
        "        #print(self.hidden[0])\n",
        "        h = self.activation(self.U(x) + self.W(self.hidden))\n",
        "        y = self.V(h)\n",
        "\n",
        "        return y, h\n",
        "\n"
      ],
      "execution_count": 94,
      "outputs": []
    },
    {
      "cell_type": "markdown",
      "metadata": {
        "id": "Mthq15YLCFHF"
      },
      "source": [
        "X (10,2390,1) 을 for 문에 넣어, 각각의 iter 마다 예측을 한다. 따라서 prediction_y  는 10 개이다."
      ]
    },
    {
      "cell_type": "code",
      "metadata": {
        "colab": {
          "base_uri": "https://localhost:8080/"
        },
        "id": "Y2739bAsBNRx",
        "outputId": "13683716-e8db-40d8-b016-d320b6032b70"
      },
      "source": [
        "model = RNN(1,1,10,2390) # input,output,hid_dim,batch_size\n",
        "\n",
        "# ==== Train === #\n",
        "\n",
        "for x in X:\n",
        "    x = torch.Tensor(x).float()\n",
        "    y, hs = model(x)\n",
        "    model.hidden = hs\n",
        "\n",
        "print(y.shape,hs.shape)  # hs가 잘 업데이트 하는 것을 확인\n"
      ],
      "execution_count": 95,
      "outputs": [
        {
          "output_type": "stream",
          "text": [
            "torch.Size([2390, 1]) torch.Size([2390, 10])\n"
          ],
          "name": "stdout"
        }
      ]
    },
    {
      "cell_type": "markdown",
      "metadata": {
        "id": "YhbFvvveKEOV"
      },
      "source": [
        "## train"
      ]
    },
    {
      "cell_type": "code",
      "metadata": {
        "colab": {
          "base_uri": "https://localhost:8080/",
          "height": 1000
        },
        "id": "2ycRrjg6Dx34",
        "outputId": "d1fe7ad8-e293-4f28-ad87-6476bdf0626a"
      },
      "source": [
        "model = RNN(1,1,10,2390) # input,output,hid_dim,batch_size\n",
        "optimizer = optim.SGD(model.parameters(),lr=0.001)\n",
        "loss_fn = nn.MSELoss()\n",
        "epochs= 300\n",
        "# ==== Train === #\n",
        "\n",
        "losses=[]\n",
        "\n",
        "for epoch in range(epochs):\n",
        "\n",
        "    model.train()\n",
        "    model.zero_grad()\n",
        "    optimizer.zero_grad()\n",
        "    model.hidden = model.init_hidden() # Recurrent Model 사용 시에는, 이렇게 히든 값을 초기화할 수 있게 하라 at every iter\n",
        "\n",
        "    for x in X:\n",
        "        x = torch.Tensor(x).float()\n",
        "        y_true = torch.Tensor(y_true).float()\n",
        "        y_pred, hs = model(x)\n",
        "        model.hidden = hs\n",
        "\n",
        "    loss = loss_fn(y_pred.view(-1),y_true.view(-1))\n",
        "    loss.backward()\n",
        "    optimizer.step()\n",
        "    \n",
        "    print(f'epoch:{epoch} \\t loss:{loss.item()}')\n",
        "    losses.append(loss.item())\n",
        "\n",
        "plt.plot(losses)\n",
        "plt.show()"
      ],
      "execution_count": 113,
      "outputs": [
        {
          "output_type": "stream",
          "text": [
            "epoch:0 \t loss:0.9619717597961426\n",
            "epoch:1 \t loss:0.9523297548294067\n",
            "epoch:2 \t loss:0.9427917003631592\n",
            "epoch:3 \t loss:0.9333564639091492\n",
            "epoch:4 \t loss:0.924022912979126\n",
            "epoch:5 \t loss:0.9147897958755493\n",
            "epoch:6 \t loss:0.9056562185287476\n",
            "epoch:7 \t loss:0.8966208696365356\n",
            "epoch:8 \t loss:0.8876828551292419\n",
            "epoch:9 \t loss:0.8788408637046814\n",
            "epoch:10 \t loss:0.8700941205024719\n",
            "epoch:11 \t loss:0.8614416122436523\n",
            "epoch:12 \t loss:0.8528822064399719\n",
            "epoch:13 \t loss:0.8444147706031799\n",
            "epoch:14 \t loss:0.8360385298728943\n",
            "epoch:15 \t loss:0.8277525305747986\n",
            "epoch:16 \t loss:0.8195556998252869\n",
            "epoch:17 \t loss:0.8114471435546875\n",
            "epoch:18 \t loss:0.8034259080886841\n",
            "epoch:19 \t loss:0.7954911589622498\n",
            "epoch:20 \t loss:0.7876418232917786\n",
            "epoch:21 \t loss:0.7798771858215332\n",
            "epoch:22 \t loss:0.7721962928771973\n",
            "epoch:23 \t loss:0.7645982503890991\n",
            "epoch:24 \t loss:0.7570821642875671\n",
            "epoch:25 \t loss:0.7496472001075745\n",
            "epoch:26 \t loss:0.742292582988739\n",
            "epoch:27 \t loss:0.7350174784660339\n",
            "epoch:28 \t loss:0.7278209924697876\n",
            "epoch:29 \t loss:0.7207022309303284\n",
            "epoch:30 \t loss:0.7136606574058533\n",
            "epoch:31 \t loss:0.7066953182220459\n",
            "epoch:32 \t loss:0.699805498123169\n",
            "epoch:33 \t loss:0.692990243434906\n",
            "epoch:34 \t loss:0.6862491369247437\n",
            "epoch:35 \t loss:0.6795810461044312\n",
            "epoch:36 \t loss:0.6729856133460999\n",
            "epoch:37 \t loss:0.6664615869522095\n",
            "epoch:38 \t loss:0.6600087881088257\n",
            "epoch:39 \t loss:0.6536262035369873\n",
            "epoch:40 \t loss:0.647313117980957\n",
            "epoch:41 \t loss:0.6410688161849976\n",
            "epoch:42 \t loss:0.6348927617073059\n",
            "epoch:43 \t loss:0.6287841796875\n",
            "epoch:44 \t loss:0.622742235660553\n",
            "epoch:45 \t loss:0.6167665123939514\n",
            "epoch:46 \t loss:0.6108560562133789\n",
            "epoch:47 \t loss:0.6050106287002563\n",
            "epoch:48 \t loss:0.5992292165756226\n",
            "epoch:49 \t loss:0.5935112237930298\n",
            "epoch:50 \t loss:0.587856113910675\n",
            "epoch:51 \t loss:0.582263171672821\n",
            "epoch:52 \t loss:0.57673180103302\n",
            "epoch:53 \t loss:0.571261465549469\n",
            "epoch:54 \t loss:0.5658513903617859\n",
            "epoch:55 \t loss:0.5605010390281677\n",
            "epoch:56 \t loss:0.5552098751068115\n",
            "epoch:57 \t loss:0.5499772429466248\n",
            "epoch:58 \t loss:0.5448024868965149\n",
            "epoch:59 \t loss:0.5396851897239685\n",
            "epoch:60 \t loss:0.5346245765686035\n",
            "epoch:61 \t loss:0.5296201705932617\n",
            "epoch:62 \t loss:0.5246714353561401\n",
            "epoch:63 \t loss:0.5197778344154358\n",
            "epoch:64 \t loss:0.5149386525154114\n",
            "epoch:65 \t loss:0.5101535320281982\n",
            "epoch:66 \t loss:0.5054218769073486\n",
            "epoch:67 \t loss:0.5007429718971252\n",
            "epoch:68 \t loss:0.4961165189743042\n",
            "epoch:69 \t loss:0.49154186248779297\n",
            "epoch:70 \t loss:0.48701852560043335\n",
            "epoch:71 \t loss:0.4825458228588104\n",
            "epoch:72 \t loss:0.4781234562397003\n",
            "epoch:73 \t loss:0.47375088930130005\n",
            "epoch:74 \t loss:0.4694274663925171\n",
            "epoch:75 \t loss:0.4651528596878052\n",
            "epoch:76 \t loss:0.46092647314071655\n",
            "epoch:77 \t loss:0.45674777030944824\n",
            "epoch:78 \t loss:0.4526163935661316\n",
            "epoch:79 \t loss:0.44853174686431885\n",
            "epoch:80 \t loss:0.4444933533668518\n",
            "epoch:81 \t loss:0.44050082564353943\n",
            "epoch:82 \t loss:0.43655362725257874\n",
            "epoch:83 \t loss:0.4326514005661011\n",
            "epoch:84 \t loss:0.4287934899330139\n",
            "epoch:85 \t loss:0.4249795079231262\n",
            "epoch:86 \t loss:0.42120906710624695\n",
            "epoch:87 \t loss:0.4174816608428955\n",
            "epoch:88 \t loss:0.41379687190055847\n",
            "epoch:89 \t loss:0.41015419363975525\n",
            "epoch:90 \t loss:0.40655332803726196\n",
            "epoch:91 \t loss:0.40299370884895325\n",
            "epoch:92 \t loss:0.3994748890399933\n",
            "epoch:93 \t loss:0.3959965407848358\n",
            "epoch:94 \t loss:0.392558217048645\n",
            "epoch:95 \t loss:0.3891593813896179\n",
            "epoch:96 \t loss:0.3857998251914978\n",
            "epoch:97 \t loss:0.3824789524078369\n",
            "epoch:98 \t loss:0.3791964054107666\n",
            "epoch:99 \t loss:0.375951886177063\n",
            "epoch:100 \t loss:0.3727448284626007\n",
            "epoch:101 \t loss:0.36957496404647827\n",
            "epoch:102 \t loss:0.3664417862892151\n",
            "epoch:103 \t loss:0.3633449673652649\n",
            "epoch:104 \t loss:0.3602841794490814\n",
            "epoch:105 \t loss:0.3572588860988617\n",
            "epoch:106 \t loss:0.3542688488960266\n",
            "epoch:107 \t loss:0.35131359100341797\n",
            "epoch:108 \t loss:0.3483927845954895\n",
            "epoch:109 \t loss:0.34550607204437256\n",
            "epoch:110 \t loss:0.3426530361175537\n",
            "epoch:111 \t loss:0.3398333787918091\n",
            "epoch:112 \t loss:0.33704668283462524\n",
            "epoch:113 \t loss:0.33429262042045593\n",
            "epoch:114 \t loss:0.3315708041191101\n",
            "epoch:115 \t loss:0.3288809061050415\n",
            "epoch:116 \t loss:0.32622259855270386\n",
            "epoch:117 \t loss:0.32359546422958374\n",
            "epoch:118 \t loss:0.32099923491477966\n",
            "epoch:119 \t loss:0.3184335231781006\n",
            "epoch:120 \t loss:0.315898060798645\n",
            "epoch:121 \t loss:0.31339243054389954\n",
            "epoch:122 \t loss:0.31091633439064026\n",
            "epoch:123 \t loss:0.3084694445133209\n",
            "epoch:124 \t loss:0.30605146288871765\n",
            "epoch:125 \t loss:0.3036620318889618\n",
            "epoch:126 \t loss:0.30130085349082947\n",
            "epoch:127 \t loss:0.2989676296710968\n",
            "epoch:128 \t loss:0.29666200280189514\n",
            "epoch:129 \t loss:0.294383704662323\n",
            "epoch:130 \t loss:0.2921323776245117\n",
            "epoch:131 \t loss:0.2899077534675598\n",
            "epoch:132 \t loss:0.2877095341682434\n",
            "epoch:133 \t loss:0.28553739190101624\n",
            "epoch:134 \t loss:0.2833910882472992\n",
            "epoch:135 \t loss:0.28127026557922363\n",
            "epoch:136 \t loss:0.27917465567588806\n",
            "epoch:137 \t loss:0.277103990316391\n",
            "epoch:138 \t loss:0.27505794167518616\n",
            "epoch:139 \t loss:0.27303627133369446\n",
            "epoch:140 \t loss:0.2710387110710144\n",
            "epoch:141 \t loss:0.26906493306159973\n",
            "epoch:142 \t loss:0.26711469888687134\n",
            "epoch:143 \t loss:0.26518771052360535\n",
            "epoch:144 \t loss:0.26328372955322266\n",
            "epoch:145 \t loss:0.261402428150177\n",
            "epoch:146 \t loss:0.25954365730285645\n",
            "epoch:147 \t loss:0.25770699977874756\n",
            "epoch:148 \t loss:0.2558923661708832\n",
            "epoch:149 \t loss:0.2540993094444275\n",
            "epoch:150 \t loss:0.2523277699947357\n",
            "epoch:151 \t loss:0.2505773901939392\n",
            "epoch:152 \t loss:0.24884788691997528\n",
            "epoch:153 \t loss:0.2471390813589096\n",
            "epoch:154 \t loss:0.2454507052898407\n",
            "epoch:155 \t loss:0.24378257989883423\n",
            "epoch:156 \t loss:0.24213437736034393\n",
            "epoch:157 \t loss:0.2405058890581131\n",
            "epoch:158 \t loss:0.238896906375885\n",
            "epoch:159 \t loss:0.23730714619159698\n",
            "epoch:160 \t loss:0.23573638498783112\n",
            "epoch:161 \t loss:0.23418445885181427\n",
            "epoch:162 \t loss:0.23265109956264496\n",
            "epoch:163 \t loss:0.23113609850406647\n",
            "epoch:164 \t loss:0.2296391874551773\n",
            "epoch:165 \t loss:0.22816018760204315\n",
            "epoch:166 \t loss:0.2266988754272461\n",
            "epoch:167 \t loss:0.2252550721168518\n",
            "epoch:168 \t loss:0.2238285094499588\n",
            "epoch:169 \t loss:0.22241897881031036\n",
            "epoch:170 \t loss:0.22102630138397217\n",
            "epoch:171 \t loss:0.2196502536535263\n",
            "epoch:172 \t loss:0.21829067170619965\n",
            "epoch:173 \t loss:0.21694734692573547\n",
            "epoch:174 \t loss:0.2156199961900711\n",
            "epoch:175 \t loss:0.214308500289917\n",
            "epoch:176 \t loss:0.2130127102136612\n",
            "epoch:177 \t loss:0.21173234283924103\n",
            "epoch:178 \t loss:0.21046718955039978\n",
            "epoch:179 \t loss:0.2092171460390091\n",
            "epoch:180 \t loss:0.20798197388648987\n",
            "epoch:181 \t loss:0.20676153898239136\n",
            "epoch:182 \t loss:0.20555557310581207\n",
            "epoch:183 \t loss:0.20436395704746246\n",
            "epoch:184 \t loss:0.2031865119934082\n",
            "epoch:185 \t loss:0.20202304422855377\n",
            "epoch:186 \t loss:0.20087341964244843\n",
            "epoch:187 \t loss:0.19973739981651306\n",
            "epoch:188 \t loss:0.19861482083797455\n",
            "epoch:189 \t loss:0.19750556349754333\n",
            "epoch:190 \t loss:0.1964094489812851\n",
            "epoch:191 \t loss:0.19532626867294312\n",
            "epoch:192 \t loss:0.19425590336322784\n",
            "epoch:193 \t loss:0.19319815933704376\n",
            "epoch:194 \t loss:0.19215288758277893\n",
            "epoch:195 \t loss:0.19111992418766022\n",
            "epoch:196 \t loss:0.19009912014007568\n",
            "epoch:197 \t loss:0.18909035623073578\n",
            "epoch:198 \t loss:0.1880933940410614\n",
            "epoch:199 \t loss:0.18710817396640778\n",
            "epoch:200 \t loss:0.1861344873905182\n",
            "epoch:201 \t loss:0.18517223000526428\n",
            "epoch:202 \t loss:0.18422119319438934\n",
            "epoch:203 \t loss:0.1832812875509262\n",
            "epoch:204 \t loss:0.18235237896442413\n",
            "epoch:205 \t loss:0.1814342737197876\n",
            "epoch:206 \t loss:0.18052685260772705\n",
            "epoch:207 \t loss:0.17962998151779175\n",
            "epoch:208 \t loss:0.17874355614185333\n",
            "epoch:209 \t loss:0.17786738276481628\n",
            "epoch:210 \t loss:0.17700137197971344\n",
            "epoch:211 \t loss:0.17614535987377167\n",
            "epoch:212 \t loss:0.1752992570400238\n",
            "epoch:213 \t loss:0.17446288466453552\n",
            "epoch:214 \t loss:0.17363615334033966\n",
            "epoch:215 \t loss:0.17281892895698547\n",
            "epoch:216 \t loss:0.1720110923051834\n",
            "epoch:217 \t loss:0.17121249437332153\n",
            "epoch:218 \t loss:0.17042306065559387\n",
            "epoch:219 \t loss:0.1696426272392273\n",
            "epoch:220 \t loss:0.16887111961841583\n",
            "epoch:221 \t loss:0.16810837388038635\n",
            "epoch:222 \t loss:0.1673543006181717\n",
            "epoch:223 \t loss:0.1666087657213211\n",
            "epoch:224 \t loss:0.16587166488170624\n",
            "epoch:225 \t loss:0.16514290869235992\n",
            "epoch:226 \t loss:0.1644223928451538\n",
            "epoch:227 \t loss:0.16370995342731476\n",
            "epoch:228 \t loss:0.163005530834198\n",
            "epoch:229 \t loss:0.16230899095535278\n",
            "epoch:230 \t loss:0.16162025928497314\n",
            "epoch:231 \t loss:0.16093921661376953\n",
            "epoch:232 \t loss:0.1602657586336136\n",
            "epoch:233 \t loss:0.15959978103637695\n",
            "epoch:234 \t loss:0.15894120931625366\n",
            "epoch:235 \t loss:0.15828990936279297\n",
            "epoch:236 \t loss:0.1576458215713501\n",
            "epoch:237 \t loss:0.1570088118314743\n",
            "epoch:238 \t loss:0.15637879073619843\n",
            "epoch:239 \t loss:0.15575569868087769\n",
            "epoch:240 \t loss:0.15513938665390015\n",
            "epoch:241 \t loss:0.15452982485294342\n",
            "epoch:242 \t loss:0.15392692387104034\n",
            "epoch:243 \t loss:0.15333053469657898\n",
            "epoch:244 \t loss:0.15274061262607574\n",
            "epoch:245 \t loss:0.15215706825256348\n",
            "epoch:246 \t loss:0.15157978236675262\n",
            "epoch:247 \t loss:0.1510087251663208\n",
            "epoch:248 \t loss:0.15044376254081726\n",
            "epoch:249 \t loss:0.14988486468791962\n",
            "epoch:250 \t loss:0.14933188259601593\n",
            "epoch:251 \t loss:0.1487847864627838\n",
            "epoch:252 \t loss:0.1482434868812561\n",
            "epoch:253 \t loss:0.14770790934562683\n",
            "epoch:254 \t loss:0.14717797935009003\n",
            "epoch:255 \t loss:0.14665360748767853\n",
            "epoch:256 \t loss:0.14613468945026398\n",
            "epoch:257 \t loss:0.14562122523784637\n",
            "epoch:258 \t loss:0.14511309564113617\n",
            "epoch:259 \t loss:0.1446102261543274\n",
            "epoch:260 \t loss:0.14411254227161407\n",
            "epoch:261 \t loss:0.14361999928951263\n",
            "epoch:262 \t loss:0.1431325227022171\n",
            "epoch:263 \t loss:0.14265002310276031\n",
            "epoch:264 \t loss:0.1421724408864975\n",
            "epoch:265 \t loss:0.14169973134994507\n",
            "epoch:266 \t loss:0.14123180508613586\n",
            "epoch:267 \t loss:0.14076857268810272\n",
            "epoch:268 \t loss:0.14031001925468445\n",
            "epoch:269 \t loss:0.13985605537891388\n",
            "epoch:270 \t loss:0.13940663635730743\n",
            "epoch:271 \t loss:0.13896168768405914\n",
            "epoch:272 \t loss:0.13852114975452423\n",
            "epoch:273 \t loss:0.13808496296405792\n",
            "epoch:274 \t loss:0.13765306770801544\n",
            "epoch:275 \t loss:0.13722538948059082\n",
            "epoch:276 \t loss:0.13680192828178406\n",
            "epoch:277 \t loss:0.13638253509998322\n",
            "epoch:278 \t loss:0.1359672248363495\n",
            "epoch:279 \t loss:0.1355559080839157\n",
            "epoch:280 \t loss:0.1351485699415207\n",
            "epoch:281 \t loss:0.13474512100219727\n",
            "epoch:282 \t loss:0.13434550166130066\n",
            "epoch:283 \t loss:0.13394969701766968\n",
            "epoch:284 \t loss:0.13355763256549835\n",
            "epoch:285 \t loss:0.1331692487001419\n",
            "epoch:286 \t loss:0.13278451561927795\n",
            "epoch:287 \t loss:0.1324033886194229\n",
            "epoch:288 \t loss:0.13202577829360962\n",
            "epoch:289 \t loss:0.13165168464183807\n",
            "epoch:290 \t loss:0.1312810182571411\n",
            "epoch:291 \t loss:0.13091376423835754\n",
            "epoch:292 \t loss:0.1305498480796814\n",
            "epoch:293 \t loss:0.13018923997879028\n",
            "epoch:294 \t loss:0.12983189523220062\n",
            "epoch:295 \t loss:0.12947778403759003\n",
            "epoch:296 \t loss:0.12912684679031372\n",
            "epoch:297 \t loss:0.12877903878688812\n",
            "epoch:298 \t loss:0.12843431532382965\n",
            "epoch:299 \t loss:0.12809264659881592\n"
          ],
          "name": "stdout"
        },
        {
          "output_type": "display_data",
          "data": {
            "image/png": "[encoded data removed]",
            "text/plain": [
              "<Figure size 432x288 with 1 Axes>"
            ]
          },
          "metadata": {
            "tags": [],
            "needs_background": "light"
          }
        }
      ]
    },
    {
      "cell_type": "markdown",
      "metadata": {
        "id": "yMyc-RqhIDFI"
      },
      "source": [
        "## val"
      ]
    },
    {
      "cell_type": "code",
      "metadata": {
        "colab": {
          "base_uri": "https://localhost:8080/"
        },
        "id": "afXX8DcqIoJR",
        "outputId": "4b8a5f69-1ea0-4bf7-9952-f55aeb496861"
      },
      "source": [
        "X.shape\n",
        "np.expand_dims(X[:,0,:],1).shape"
      ],
      "execution_count": 98,
      "outputs": [
        {
          "output_type": "execute_result",
          "data": {
            "text/plain": [
              "(10, 1, 1)"
            ]
          },
          "metadata": {
            "tags": []
          },
          "execution_count": 98
        }
      ]
    },
    {
      "cell_type": "code",
      "metadata": {
        "colab": {
          "base_uri": "https://localhost:8080/",
          "height": 281
        },
        "id": "zAMkwJjLICmO",
        "outputId": "6e9e34e0-ca70-45c1-c590-4b005429f9ad"
      },
      "source": [
        "losses=[]\n",
        "test_X = np.expand_dims(X[:,0,:],1)\n",
        "list_ypred=[]\n",
        "\n",
        "model.eval()\n",
        "with torch.no_grad():\n",
        "    model.hidden = model.init_hidden(batch_size = 1)\n",
        "\n",
        "    for x in test_X:\n",
        "        x = torch.Tensor(x).float()   \n",
        "        y_pred, hs = model(x)\n",
        "        model.hidden = hs\n",
        "    #print(y_pred[0].view(-1).item())\n",
        "    \n",
        "    list_ypred.append(y_pred[0].view(-1).item())\n",
        "    for i in range(2389):\n",
        "        y_pred, hs = model(y_pred)\n",
        "        list_ypred.append(y_pred[0].view(-1).item())\n",
        "\n",
        "plt.plot(y)\n",
        "plt.plot(list_ypred)\n",
        "\n",
        "\n",
        "\n"
      ],
      "execution_count": 115,
      "outputs": [
        {
          "output_type": "execute_result",
          "data": {
            "text/plain": [
              "[<matplotlib.lines.Line2D at 0x7f2b3af1b908>]"
            ]
          },
          "metadata": {
            "tags": []
          },
          "execution_count": 115
        },
        {
          "output_type": "display_data",
          "data": {
            "image/png": "[encoded data removed]",
            "text/plain": [
              "<Figure size 432x288 with 1 Axes>"
            ]
          },
          "metadata": {
            "tags": [],
            "needs_background": "light"
          }
        }
      ]
    }
  ]
}