{
  "nbformat": 4,
  "nbformat_minor": 0,
  "metadata": {
    "colab": {
      "name": "pytorch_studying.ipynb",
      "provenance": [],
      "collapsed_sections": [],
      "authorship_tag": "ABX9TyNlOtbzZjJOj+XPBE/FmDx4",
      "include_colab_link": true
    },
    "kernelspec": {
      "name": "python3",
      "display_name": "Python 3"
    },
    "accelerator": "GPU"
  },
  "cells": [
    {
      "cell_type": "markdown",
      "metadata": {
        "id": "view-in-github",
        "colab_type": "text"
      },
      "source": [
        "<a href=\"https://colab.research.google.com/github/musicjae/intro_to_python/blob/master/Pytorch/pytorch_studying(1).ipynb\" target=\"_parent\"><img src=\"https://colab.research.google.com/assets/colab-badge.svg\" alt=\"Open In Colab\"/></a>"
      ]
    },
    {
      "cell_type": "markdown",
      "metadata": {
        "id": "IMlDFikZ5Mwz",
        "colab_type": "text"
      },
      "source": [
        "# 1. 텐서"
      ]
    },
    {
      "cell_type": "markdown",
      "metadata": {
        "id": "ciP5ksb_6QFB",
        "colab_type": "text"
      },
      "source": [
        "텐서란?  \n",
        "> 다차원 배열을 처리하기 위한 데이터 구조  \n",
        "- 32비트 유동소수점 torch.FloatTensor  \n",
        "- 64비트 부호 있는 정수 torch.LongTensor"
      ]
    },
    {
      "cell_type": "code",
      "metadata": {
        "id": "bDIcOM7K5GYW",
        "colab_type": "code",
        "colab": {
          "base_uri": "https://localhost:8080/",
          "height": 575
        },
        "outputId": "8f539f22-45b5-4cab-def7-d76c5fc725f7"
      },
      "source": [
        "import torch\n",
        "\n",
        "t = torch.arange(0,10)\n",
        "\n",
        "t2 = torch.zeros(10,10).to(\"cuda:0\") # gpu에 전송\n",
        "\n",
        "t3 = torch.randn(10,10)\n",
        "\n",
        "print(t)\n",
        "print(t2)\n",
        "print(t3)"
      ],
      "execution_count": null,
      "outputs": [
        {
          "output_type": "stream",
          "text": [
            "tensor([0, 1, 2, 3, 4, 5, 6, 7, 8, 9])\n",
            "tensor([[0., 0., 0., 0., 0., 0., 0., 0., 0., 0.],\n",
            "        [0., 0., 0., 0., 0., 0., 0., 0., 0., 0.],\n",
            "        [0., 0., 0., 0., 0., 0., 0., 0., 0., 0.],\n",
            "        [0., 0., 0., 0., 0., 0., 0., 0., 0., 0.],\n",
            "        [0., 0., 0., 0., 0., 0., 0., 0., 0., 0.],\n",
            "        [0., 0., 0., 0., 0., 0., 0., 0., 0., 0.],\n",
            "        [0., 0., 0., 0., 0., 0., 0., 0., 0., 0.],\n",
            "        [0., 0., 0., 0., 0., 0., 0., 0., 0., 0.],\n",
            "        [0., 0., 0., 0., 0., 0., 0., 0., 0., 0.],\n",
            "        [0., 0., 0., 0., 0., 0., 0., 0., 0., 0.]], device='cuda:0')\n",
            "tensor([[ 0.2842,  0.6843, -1.7177, -0.7864,  0.6808, -1.3186, -0.7213, -1.4862,\n",
            "         -2.2353,  0.4658],\n",
            "        [ 0.5149,  0.8951,  0.6117, -0.4503, -0.1104, -0.7904,  1.0345, -0.9096,\n",
            "         -2.4095, -1.6871],\n",
            "        [-1.5486,  0.9370, -1.9980,  0.0925, -0.5293,  0.2303, -0.0672,  1.3765,\n",
            "          0.8359,  0.6069],\n",
            "        [-1.0473,  0.5839,  0.8885, -0.3020, -2.9406,  0.4367,  0.0744,  0.8414,\n",
            "          1.3908,  0.0555],\n",
            "        [-0.2848, -0.1333, -0.0057, -1.6956,  1.8392, -1.0418,  1.4592, -0.0173,\n",
            "         -0.8961, -0.2806],\n",
            "        [-0.9184,  2.0822, -1.4964, -0.7955, -1.3563,  1.1155, -1.1849, -0.4906,\n",
            "          0.4149,  1.4284],\n",
            "        [ 0.1993,  1.2245, -0.7820,  0.1239, -1.2446,  0.0783, -1.5223,  0.5838,\n",
            "         -1.7576, -0.1843],\n",
            "        [ 0.6596, -0.8272,  0.5259, -1.4595, -0.4678, -1.4644, -0.4637,  1.2390,\n",
            "         -1.4155,  0.7853],\n",
            "        [-0.0939,  1.4076, -0.5824, -0.9029,  0.8713,  0.5393,  0.3232, -0.6780,\n",
            "          0.2584,  0.1281],\n",
            "        [-0.7226,  0.6893,  0.4552, -0.1008, -1.1577, -0.9515, -1.2370, -1.1195,\n",
            "         -0.5213, -1.7270]])\n"
          ],
          "name": "stdout"
        }
      ]
    },
    {
      "cell_type": "markdown",
      "metadata": {
        "id": "XufE1PA079G1",
        "colab_type": "text"
      },
      "source": [
        "## 1.1 텐서 변환\n",
        "\n",
        "gpu 상의 텐서는 cpu 로 옮긴 뒤 변환해야 한다."
      ]
    },
    {
      "cell_type": "code",
      "metadata": {
        "id": "b4fH-AtD8KSu",
        "colab_type": "code",
        "colab": {
          "base_uri": "https://localhost:8080/",
          "height": 71
        },
        "outputId": "e1fde694-8ae1-42fa-8966-5c00e5ef25d5"
      },
      "source": [
        "t = torch.tensor([[1,2],[3,4]])\n",
        "x = t.numpy()\n",
        "print(x)\n",
        "t = torch.tensor([[1,2],[3,4]], device = \"cuda:0\")\n",
        "x = t.to(\"cpu\").numpy\n",
        "print('2',x)\n"
      ],
      "execution_count": null,
      "outputs": [
        {
          "output_type": "stream",
          "text": [
            "[[1 2]\n",
            " [3 4]]\n",
            "2 <built-in method numpy of Tensor object at 0x7f083b1323a8>\n"
          ],
          "name": "stdout"
        }
      ]
    },
    {
      "cell_type": "markdown",
      "metadata": {
        "id": "tVVjgmJA8tpd",
        "colab_type": "text"
      },
      "source": [
        "## 1.2 iNDEX 조작"
      ]
    },
    {
      "cell_type": "code",
      "metadata": {
        "id": "Z3GdChaV8yF0",
        "colab_type": "code",
        "colab": {
          "base_uri": "https://localhost:8080/",
          "height": 377
        },
        "outputId": "455a2027-da39-41b0-c07b-4aefa0be3e75"
      },
      "source": [
        "t = torch.tensor([[1,2,3],[3,4,5]])\n",
        "print(t,t.shape)\n",
        "\n",
        "print('\\n\\n',t[1,2]) # [세로, 가로]\n",
        "print('\\n\\n',t[:,:2])\n",
        "print('\\n\\n',t[:,[1,2]])\n",
        "\n",
        "# 마스크 배열 사용, 3 보다 큰 부분만 선택; 마스크 배열? 각 요소가 진리값으로 설정된 배열 & 원 배열과 크기 동일\n",
        "print('\\n\\n',t[t>3])\n",
        "\n",
        "# [0,1] 위치에 100 을 대입\n",
        "t[0,1]=100\n",
        "print('\\n\\n',t)"
      ],
      "execution_count": null,
      "outputs": [
        {
          "output_type": "stream",
          "text": [
            "tensor([[1, 2, 3],\n",
            "        [3, 4, 5]]) torch.Size([2, 3])\n",
            "\n",
            "\n",
            " tensor(5)\n",
            "\n",
            "\n",
            " tensor([[1, 2],\n",
            "        [3, 4]])\n",
            "\n",
            "\n",
            " tensor([[2, 3],\n",
            "        [4, 5]])\n",
            "\n",
            "\n",
            " tensor([4, 5])\n",
            "\n",
            "\n",
            " tensor([[  1, 100,   3],\n",
            "        [  3,   4,   5]])\n"
          ],
          "name": "stdout"
        }
      ]
    },
    {
      "cell_type": "markdown",
      "metadata": {
        "id": "g_hBGlg0-nu6",
        "colab_type": "text"
      },
      "source": [
        "## 1.3 연산"
      ]
    },
    {
      "cell_type": "code",
      "metadata": {
        "id": "I08Hu2-q-m9J",
        "colab_type": "code",
        "colab": {
          "base_uri": "https://localhost:8080/",
          "height": 1000
        },
        "outputId": "252506e4-8f46-42d1-9ebf-99129da6a51f"
      },
      "source": [
        "m = torch.randn(10,10)\n",
        "n = torch.randn(10)\n",
        "\n",
        "inner_product = torch.dot(n,n)\n",
        "m_v = torch.mv(m,n)\n",
        "m_m=torch.mm(m,m)\n",
        "print('[1]inner_product',inner_product,'\\n\\n[2]m_v',m_v,'\\n\\n[3]m_m',m_m)\n",
        "# 특이값 분해\n",
        "\n",
        "u,s,v = torch.svd(m)\n",
        "print('\\n\\n[4]u,s,v',u,s,v)\n"
      ],
      "execution_count": null,
      "outputs": [
        {
          "output_type": "stream",
          "text": [
            "[1]inner_product tensor(10.1560) \n",
            "\n",
            "[2]m_v tensor([ 2.6379,  3.6858,  2.9169, -2.6726, -1.6617, -2.7842, -6.8830,  2.0043,\n",
            "        -0.9432, -0.0414]) \n",
            "\n",
            "[3]m_m tensor([[ 1.5670, -4.8697,  3.6080,  2.3891,  3.8516,  0.5617,  0.5037,  1.3982,\n",
            "         10.1938,  7.9761],\n",
            "        [ 1.6164,  0.1389,  1.2611,  2.6837,  2.6316, -2.8585,  0.2073,  2.4207,\n",
            "          1.2710,  0.0363],\n",
            "        [-1.2831,  0.2767, -2.4030, -2.9506, -2.4089,  4.3750, -1.0710, -1.8505,\n",
            "          0.0873,  2.5389],\n",
            "        [ 6.1893, -2.7930,  1.3737,  2.4081, -0.2641,  0.2796, -4.1899, -2.0623,\n",
            "          0.1028,  0.3312],\n",
            "        [ 1.3265, -2.2965, -0.5745, -0.1240,  0.4706,  0.1106, -2.1354, -3.4840,\n",
            "         -2.4797,  0.4190],\n",
            "        [-0.1583, -2.6622,  1.2863,  2.9619,  2.6784,  1.9270, -3.2176,  2.5999,\n",
            "          0.3200,  1.8253],\n",
            "        [ 5.1972, -2.0838,  1.7727,  3.6734, -6.9328, -4.5619,  0.8094, -0.4293,\n",
            "         -1.8279, -6.4055],\n",
            "        [-2.4270, -0.2587, -1.7667, -3.7473, -0.3119, -1.1093,  2.8898, -2.1571,\n",
            "         -0.3062,  0.5235],\n",
            "        [ 1.4707, -1.5404,  1.6761,  3.4551,  5.9235, -4.7448, -2.3685,  3.3497,\n",
            "         -2.0980, -1.4669],\n",
            "        [ 3.0748, -1.9519,  1.4121,  2.1975, -5.9180, -1.2699,  4.0516, -1.8556,\n",
            "          6.3283,  1.0960]])\n",
            "\n",
            "\n",
            "[4]u,s,v tensor([[ 0.4468, -0.6876, -0.2318, -0.2906,  0.0331,  0.2362, -0.2709,  0.0928,\n",
            "         -0.1767, -0.1394],\n",
            "        [ 0.0553,  0.2799, -0.1192, -0.4866,  0.0935, -0.4495, -0.2397,  0.3089,\n",
            "         -0.3692,  0.4093],\n",
            "        [ 0.1747, -0.0223,  0.3189,  0.3644, -0.1168, -0.2537, -0.0147,  0.6888,\n",
            "         -0.1512, -0.3988],\n",
            "        [-0.3193, -0.4729, -0.0180,  0.2488,  0.1755, -0.5471, -0.3643, -0.0670,\n",
            "          0.3438,  0.1635],\n",
            "        [-0.0333, -0.1830, -0.2183,  0.3492,  0.3709, -0.1875,  0.4314, -0.2006,\n",
            "         -0.6293,  0.0271],\n",
            "        [-0.2583, -0.3962,  0.3320, -0.1945, -0.0570,  0.1822,  0.4953,  0.3538,\n",
            "          0.0647,  0.4659],\n",
            "        [-0.6015,  0.0048, -0.5334,  0.1354, -0.2468,  0.3057, -0.1973,  0.3233,\n",
            "         -0.1866, -0.0524],\n",
            "        [ 0.4044,  0.1567, -0.3970,  0.3699,  0.2985,  0.1712,  0.0640,  0.3188,\n",
            "          0.3605,  0.4042],\n",
            "        [-0.1960,  0.0402, -0.2255, -0.4045,  0.5187, -0.1074,  0.2957,  0.2069,\n",
            "          0.3057, -0.4911],\n",
            "        [ 0.1826, -0.0899, -0.4233, -0.0744, -0.6211, -0.4194,  0.4175, -0.0517,\n",
            "          0.1816, -0.0463]]) tensor([4.9012, 4.8265, 4.0792, 3.3783, 2.9942, 2.3972, 1.3830, 0.8410, 0.5168,\n",
            "        0.1984]) tensor([[-2.4998e-01, -3.9726e-01,  2.0236e-01, -4.9362e-01,  5.7057e-02,\n",
            "         -3.3779e-01,  7.5036e-02,  5.1391e-01, -2.7773e-01,  1.7567e-01],\n",
            "        [-1.9455e-01,  3.9373e-01,  3.0143e-01,  5.7217e-02,  4.2094e-01,\n",
            "         -4.1572e-01, -4.8070e-01, -2.6347e-01, -2.1748e-01,  1.2326e-01],\n",
            "        [ 1.0797e-01, -2.3148e-01,  1.5872e-01, -9.4515e-03, -1.5670e-01,\n",
            "         -2.3208e-01, -2.6896e-01, -4.4632e-02,  7.4513e-01,  4.4890e-01],\n",
            "        [ 1.9825e-01, -4.0165e-01,  1.7405e-02, -2.1687e-01, -4.1933e-01,\n",
            "          7.7383e-02, -5.2180e-01, -3.9421e-01, -3.4843e-01, -1.4536e-01],\n",
            "        [ 8.2524e-01,  1.3395e-01, -1.6898e-02, -2.9487e-02,  3.4428e-02,\n",
            "         -4.6923e-01,  7.7346e-02,  1.8726e-01, -6.4560e-02, -1.8250e-01],\n",
            "        [-9.4711e-02,  8.0955e-04, -6.0792e-01,  1.8789e-01,  6.7465e-02,\n",
            "         -1.2782e-02, -5.6715e-01,  4.9802e-01,  4.1530e-02, -1.0019e-01],\n",
            "        [-7.3313e-02,  9.1803e-02,  2.5082e-01,  6.1256e-01, -5.6412e-01,\n",
            "         -1.4565e-01,  3.0724e-02,  2.4320e-01, -2.9456e-01,  2.4851e-01],\n",
            "        [ 3.4759e-01, -1.1716e-01,  4.2279e-01,  1.2304e-01,  3.5738e-01,\n",
            "          5.9710e-01, -2.2572e-01,  2.9430e-01, -9.8542e-02,  2.0011e-01],\n",
            "        [-1.1797e-01, -5.5940e-01,  2.0610e-01,  4.7391e-01,  2.7618e-01,\n",
            "         -2.1432e-01,  4.5493e-02, -5.3331e-02,  1.1986e-01, -5.1438e-01],\n",
            "        [ 1.3639e-01, -3.4529e-01, -4.3440e-01,  2.3410e-01,  3.0200e-01,\n",
            "         -9.6013e-02,  1.9254e-01, -2.7820e-01, -2.8672e-01,  5.6707e-01]])\n"
          ],
          "name": "stdout"
        }
      ]
    },
    {
      "cell_type": "markdown",
      "metadata": {
        "id": "cmQB58zu5QJf",
        "colab_type": "text"
      },
      "source": [
        "# 2. 자동 미분\n",
        "\n",
        "\n"
      ]
    },
    {
      "cell_type": "markdown",
      "metadata": {
        "id": "sqBqBctZ_cPH",
        "colab_type": "text"
      },
      "source": [
        "requires_grad를 True로 설정하면 자동 미분 기능이 활성화된다. backward 메서드 호출 시, 그래프로부터 자동으로 미분을 계산한다."
      ]
    },
    {
      "cell_type": "markdown",
      "metadata": {
        "id": "-bbWygLI5b43",
        "colab_type": "text"
      },
      "source": [
        "# 3. 최대 우도 추정 Maximal Liklihood Estimation"
      ]
    },
    {
      "cell_type": "markdown",
      "metadata": {
        "id": "A8AffnLmCNii",
        "colab_type": "text"
      },
      "source": [
        "## 3.1 확률 모델  \n",
        "  \n",
        "변수 x가 파라미터 $\\theta$를 지니는 확률 분포 $P(x|\\theta)$로부터 생성되는 모델 :$$x\\sim P(x|\\theta)$$  \n",
        "  \n",
        "\n",
        "  \n",
        "- x 가 **연속** **변수**인 경우 위 모델은 정규 분포가 될 수 있다.  \n",
        "- 이산 변수 $[0,1]$인 경우에, 위 모델은 Bernoulli Distribution이 될 수 있다:  $B(x|p) = p^x(1-p)^{1-x}$\n"
      ]
    },
    {
      "cell_type": "markdown",
      "metadata": {
        "id": "FRlsY0frDt50",
        "colab_type": "text"
      },
      "source": [
        "## 3.2 최대 우도 추정 MLE  \n",
        "  \n",
        "- **우도liklihood:** 서로 독립된  N 개의 데이터 $X = (x0,x1,...)$이 주어졌을 때, 각 데이터의 확률 함수의 곱 $L(\\theta)\\ =\\ \\prod_n P(x_n|\\theta)$이라 할 때, 이 $\\theta$가 바로 가능 정도인 **우도**이다.  \n",
        "  \n",
        "- **MLE**: 우도를 최대로 만드는 파라미터 $\\theta$ 를 구하는 것을 MLE라 한다.  \n",
        "  \n",
        "- log 우도: 계산이 쉽다는 이유로 사용된다: $logL(\\theta)$"
      ]
    },
    {
      "cell_type": "markdown",
      "metadata": {
        "id": "aJsukFPv5gvF",
        "colab_type": "text"
      },
      "source": [
        "# 4. SGD"
      ]
    },
    {
      "cell_type": "markdown",
      "metadata": {
        "id": "a1Zw7uZXFeNl",
        "colab_type": "text"
      },
      "source": [
        "참고:  \n",
        "    \n",
        "[1] https://everyday-deeplearning.tistory.com/entry/SGD-Stochastic-Gradient-Descent-%ED%99%95%EB%A5%A0%EC%A0%81-%EA%B2%BD%EC%82%AC%ED%95%98%EA%B0%95%EB%B2%95  \n",
        "[2] https://go-hard.tistory.com/11\n"
      ]
    },
    {
      "cell_type": "markdown",
      "metadata": {
        "id": "5z8ixhD65i-n",
        "colab_type": "text"
      },
      "source": [
        "# 5. 선형 회귀 모델"
      ]
    },
    {
      "cell_type": "markdown",
      "metadata": {
        "id": "syl5hdgfH5Z-",
        "colab_type": "text"
      },
      "source": [
        "##5.1 소개  \n",
        "  \n",
        "여러 변수로부터 하나 또는 여러 개의 값을 예측하는 기법  \n",
        "  \n",
        "- $y$(예측값) $=$ $a$(회귀계수)$*$$x$$+$b$+$ $\\epsilon$ (정규 분포의 오차항)"
      ]
    },
    {
      "cell_type": "code",
      "metadata": {
        "id": "tKY0ln-B5i1l",
        "colab_type": "code",
        "colab": {
          "base_uri": "https://localhost:8080/",
          "height": 283
        },
        "outputId": "3562493d-64eb-4c12-85df-ef0d24fbc638"
      },
      "source": [
        "# 선형 회귀 모델의 파라미터를 추정해보자\n",
        "import torch\n",
        "from matplotlib import pyplot as plt\n",
        "\n",
        "w_true = torch.Tensor([1,2,3]) # true 개수\n",
        "\n",
        "# (1) X의 최초 차원에 1을 추가\n",
        "\n",
        "X = torch.cat([torch.ones(100,1), torch.randn(100,2)],1)\n",
        "\n",
        "# (2) 참의 개수 * X\n",
        "\n",
        "y = torch.mv(X, w_true) + torch.randn(100)*0.5 # last term 오차항\n",
        "\n",
        "# (3) 경사 하강으로 최적화 하기 위해, 가중치 초기화\n",
        "\n",
        "w = torch.randn(3, requires_grad=True)\n",
        "\n",
        "gamma= 0.1\n",
        "\n",
        "# (4) 손실 함수\n",
        "\n",
        "losses = []\n",
        "\n",
        "# (5) 학습\n",
        "\n",
        "for epoc in range(100):\n",
        "\n",
        "    w.grad=None # 전회 경사값 초기화\n",
        "    y_pred = torch.mv(X,w) # 선형 모델로 y 값 예측/ 여기서 w는 기울기(회귀계수)\n",
        "\n",
        "    # (5-2) MSE loss 계산\n",
        "\n",
        "    loss = torch.mean((y - y_pred)**2)\n",
        "    loss.backward()\n",
        "\n",
        "    # (5-3) 기울기 갱신 (data만 기울기 갱신)\n",
        "    w.data = w.data - gamma*w.grad.data \n",
        "\n",
        "    #(5-4)LOSS 기록\n",
        "\n",
        "    losses.append(loss.item())\n",
        "\n",
        "#(6) 그래프 그리기\n",
        "\n",
        "%matplotlib inline\n",
        "plt.plot(losses)"
      ],
      "execution_count": null,
      "outputs": [
        {
          "output_type": "execute_result",
          "data": {
            "text/plain": [
              "[<matplotlib.lines.Line2D at 0x7fea71cf67f0>]"
            ]
          },
          "metadata": {
            "tags": []
          },
          "execution_count": 3
        },
        {
          "output_type": "display_data",
          "data": {
            "image/png": "[encoded data removed]",
            "text/plain": [
              "<Figure size 432x288 with 1 Axes>"
            ]
          },
          "metadata": {
            "tags": [],
            "needs_background": "light"
          }
        }
      ]
    },
    {
      "cell_type": "markdown",
      "metadata": {
        "id": "Mv-ytOZVLO-N",
        "colab_type": "text"
      },
      "source": [
        "## 5.2 선형 회귀 모델을 모듈을 이용하여 만들기  \n",
        "  \n",
        "- torch.nn: 모델 구축  \n",
        "- torch.optim: 최적화 "
      ]
    },
    {
      "cell_type": "code",
      "metadata": {
        "id": "kRWyAEOL5meB",
        "colab_type": "code",
        "colab": {
          "base_uri": "https://localhost:8080/",
          "height": 283
        },
        "outputId": "ffd2e297-e432-4f87-811d-0a9157b3c4d5"
      },
      "source": [
        "# 5.1 에서 작성한 코드를 더 단순화 해보자\n",
        "\n",
        "from torch import nn, optim\n",
        "from matplotlib import pyplot as plt\n",
        "\n",
        "net = nn.Linear(in_features=3,out_features=1,bias=False)# 선형층 작성\n",
        "                                                        # 절편은 회귀 계수에 포함하므로, 입력 차원 3\n",
        "                                                        # 절편은 False\n",
        "\n",
        "w_true = torch.Tensor([1,2,3]) # true 개수\n",
        "X = torch.cat([torch.ones(100,1), torch.randn(100,2)],1)\n",
        "y = torch.mv(X, w_true) + torch.randn(100)*0.5 # last term 오차항\n",
        "\n",
        "\n",
        "# SGD 사용\n",
        "\n",
        "optimizer = optim.SGD(net.parameters(),lr=0.1)\n",
        "\n",
        "# MSE loss 클래스\n",
        "\n",
        "loss_fn = nn.MSELoss()\n",
        "\n",
        "##### 최적화 루프 #####\n",
        "\n",
        "losses=[]\n",
        "\n",
        "for epoc in range(10):\n",
        "\n",
        "    optimizer.zero_grad() # 전회의 grad 초기화\n",
        "    y_pred = net(X) # y 예측값 계산\n",
        "    loss = loss_fn(y_pred.view_as(y),y) # MSE loss 계산; y_pred는 (n,1)과 동일한 shape을 가지니까, (n,)으로 변경\n",
        "\n",
        "    loss.backward() # loss의 w를 사용한 미분 계산\n",
        "    optimizer.step() # 경사 갱신\n",
        "\n",
        "    losses.append(loss.item())\n",
        "\n",
        "\n",
        "%matplotlib inline\n",
        "plt.plot(losses)"
      ],
      "execution_count": null,
      "outputs": [
        {
          "output_type": "execute_result",
          "data": {
            "text/plain": [
              "[<matplotlib.lines.Line2D at 0x7fea71841a90>]"
            ]
          },
          "metadata": {
            "tags": []
          },
          "execution_count": 4
        },
        {
          "output_type": "display_data",
          "data": {
            "image/png": "[encoded data removed]",
            "text/plain": [
              "<Figure size 432x288 with 1 Axes>"
            ]
          },
          "metadata": {
            "tags": [],
            "needs_background": "light"
          }
        }
      ]
    },
    {
      "cell_type": "markdown",
      "metadata": {
        "id": "WXPANkOR5lxX",
        "colab_type": "text"
      },
      "source": [
        "# 6. 로지스틱 회귀 (분류를 위한 선형 모델)\n",
        "\n"
      ]
    },
    {
      "cell_type": "markdown",
      "metadata": {
        "id": "dV32OQmDaedW",
        "colab_type": "text"
      },
      "source": [
        "# 7. MLP 구축과 학습"
      ]
    },
    {
      "cell_type": "code",
      "metadata": {
        "id": "QRSC5GyF5wgn",
        "colab_type": "code",
        "colab": {
          "base_uri": "https://localhost:8080/",
          "height": 283
        },
        "outputId": "b2e4ed70-0569-4b4b-e76f-91f4b194538d"
      },
      "source": [
        "import torch\n",
        "from torch import nn, optim\n",
        "from sklearn.datasets import load_digits\n",
        "from torch.utils.data import TensorDataset, DataLoader\n",
        "from matplotlib import pyplot as plt\n",
        "digits = load_digits()\n",
        "\n",
        "X = digits.data\n",
        "Y = digits.target\n",
        "\n",
        "\n",
        "## 순전파\n",
        "net = nn.Sequential(\n",
        "    nn.Linear(64,32),\n",
        "    nn.ReLU(),\n",
        "    nn.Linear(32,16),\n",
        "    nn.ReLU(),\n",
        "    nn.Linear(16,10)\n",
        ")\n",
        "\n",
        "# ndarray -> tensor\n",
        "\n",
        "X = torch.tensor(X, dtype = torch.float32)\n",
        "Y = torch.tensor(Y, dtype = torch.int64)\n",
        "\n",
        "# cross entropy\n",
        "\n",
        "loss_fn = nn.CrossEntropyLoss()\n",
        "\n",
        "#Adam\n",
        "\n",
        "optimizer = optim.Adam(net.parameters())\n",
        "\n",
        "# losses\n",
        "\n",
        "losses=[]\n",
        "\n",
        "#training\n",
        "\n",
        "for epoc in range(100):\n",
        "\n",
        "    optimizer.zero_grad()\n",
        "    y_pred = net(X)\n",
        "\n",
        "    # loss, w 사용한 미분 계산\n",
        "\n",
        "    loss = loss_fn(y_pred, Y)\n",
        "    loss.backward\n",
        "\n",
        "    # update\n",
        "\n",
        "    optimizer.step()\n",
        "\n",
        "    #record\n",
        "\n",
        "    losses.append(loss.item())\n",
        "\n",
        "%matplotlib inline\n",
        "plt.plot(losses)\n"
      ],
      "execution_count": null,
      "outputs": [
        {
          "output_type": "execute_result",
          "data": {
            "text/plain": [
              "[<matplotlib.lines.Line2D at 0x7fea71243eb8>]"
            ]
          },
          "metadata": {
            "tags": []
          },
          "execution_count": 12
        },
        {
          "output_type": "display_data",
          "data": {
            "image/png": "[encoded data removed]",
            "text/plain": [
              "<Figure size 432x288 with 1 Axes>"
            ]
          },
          "metadata": {
            "tags": [],
            "needs_background": "light"
          }
        }
      ]
    },
    {
      "cell_type": "markdown",
      "metadata": {
        "id": "YPah6J5Gfng8",
        "colab_type": "text"
      },
      "source": [
        "## 7.2 학습 효율화"
      ]
    },
    {
      "cell_type": "markdown",
      "metadata": {
        "id": "cQ_sWwLrfrCu",
        "colab_type": "text"
      },
      "source": [
        "### 드롭아웃"
      ]
    },
    {
      "cell_type": "markdown",
      "metadata": {
        "id": "SGR5J6g_fyNs",
        "colab_type": "text"
      },
      "source": [
        "오버피팅을 방지하기 위해 정규화 중 하나인 **드롭아웃**을 사용해보자. 이것은 몇 개의 노드(변수의 차원)을 랜덤으로 선택해서 의도적으로 그 노드를 사용하지 않는 방법이다. 이것은 훈련 시에만 적용"
      ]
    },
    {
      "cell_type": "code",
      "metadata": {
        "id": "pJC3b9Jefs1D",
        "colab_type": "code",
        "colab": {
          "base_uri": "https://localhost:8080/",
          "height": 287
        },
        "outputId": "bf7b8efb-00d1-41ad-bb45-e3f23b92431b"
      },
      "source": [
        "import torch\n",
        "from torch import nn, optim\n",
        "from sklearn.datasets import load_digits\n",
        "from sklearn.model_selection import train_test_split\n",
        "from torch.utils.data import TensorDataset, DataLoader\n",
        "from matplotlib import pyplot as plt\n",
        "\n",
        "X = digits.data\n",
        "Y = digits.target\n",
        "X_train, X_test, Y_train, Y_test = train_test_split(X,Y,test_size=0.3)\n",
        "\n",
        "X_train = torch.tensor(X_train, dtype=torch.float32)\n",
        "Y_train = torch.tensor(Y_train, dtype=torch.int64)\n",
        "X_test = torch.tensor(X_test, dtype=torch.float32)\n",
        "Y_test = torch.tensor(Y_test, dtype=torch.int64)\n",
        "\n",
        "k = 100 \n",
        "net = nn.Sequential(\n",
        "    nn.Linear(64,k),\n",
        "    nn.ReLU(),\n",
        "    nn.Dropout(0.5),\n",
        "    nn.Linear(k,k),\n",
        "    nn.ReLU(),\n",
        "    nn.Dropout(0.5),\n",
        "    nn.Linear(k,k),\n",
        "    nn.ReLU(),\n",
        "    nn.Dropout(0.5),\n",
        "    nn.Linear(k,k),\n",
        "    nn.ReLU(),\n",
        "    nn.Dropout(0.5),\n",
        "    nn.Linear(k,10)\n",
        ")\n",
        "\n",
        "loss_fn = nn.CrossEntropyLoss()\n",
        "\n",
        "optimizer = optim.Adam(net.parameters())\n",
        "\n",
        "#dataloader\n",
        "\n",
        "ds = TensorDataset(X_train, Y_train)\n",
        "loader = DataLoader(ds, batch_size=32, shuffle=True)\n",
        "\n",
        "train_losses=[]\n",
        "test_losses=[]\n",
        "\n",
        "for epoch in range(100):\n",
        "\n",
        "    running_loss = 0.0\n",
        "\n",
        "    # set training mode\n",
        "\n",
        "    net.train()\n",
        "    for i, (xx, yy) in enumerate(loader):\n",
        "\n",
        "        y_pred = net(xx)\n",
        "        loss = loss_fn(y_pred, yy)\n",
        "\n",
        "        optimizer.zero_grad()\n",
        "        loss.backward()\n",
        "        optimizer.step()\n",
        "\n",
        "        running_loss += loss.item()\n",
        "\n",
        "    train_losses.append(running_loss/i)\n",
        "\n",
        "    # set eval mode\n",
        "\n",
        "    net.eval()\n",
        "\n",
        "    y_pred=net(X_test)\n",
        "    test_loss = loss_fn(y_pred, Y_test)\n",
        "    test_losses.append(test_loss.item())\n",
        "\n",
        "%matplotlib inline\n",
        "plt.plot(train_losses,'b')\n",
        "plt.plot(test_losses,'r')\n"
      ],
      "execution_count": null,
      "outputs": [
        {
          "output_type": "execute_result",
          "data": {
            "text/plain": [
              "[<matplotlib.lines.Line2D at 0x7fea717ee6d8>]"
            ]
          },
          "metadata": {
            "tags": []
          },
          "execution_count": 6
        },
        {
          "output_type": "display_data",
          "data": {
            "image/png": "[encoded data removed]",
            "text/plain": [
              "<Figure size 432x288 with 1 Axes>"
            ]
          },
          "metadata": {
            "tags": [],
            "needs_background": "light"
          }
        }
      ]
    },
    {
      "cell_type": "markdown",
      "metadata": {
        "id": "HvMpqvxLjGgJ",
        "colab_type": "text"
      },
      "source": [
        "### 배치 정규화  \n",
        "  \n",
        "SGD 시 각 변수의 차원이 동일한 범위의 값을 갖는 것은 중요하다. 심층 신경망에서는 층이 늘어날수록 각 층마다 출력하는 데이터의 분포가 다르다 (바뀌기 때문) 따라서 데이터의 정규화만으로는 부족하다. 그래서 우리는 배치 정규화를 도입한다. 각 층의 학습 마다 달라지는 파라미터의 불안정성을 줄이기 위해서이다."
      ]
    },
    {
      "cell_type": "code",
      "metadata": {
        "id": "zNiKXm8wjbSq",
        "colab_type": "code",
        "colab": {
          "base_uri": "https://localhost:8080/",
          "height": 283
        },
        "outputId": "8b59c2ab-f44e-4f7e-cd0f-fa28c24f769c"
      },
      "source": [
        "import torch\n",
        "from torch import nn, optim\n",
        "from sklearn.datasets import load_digits\n",
        "from sklearn.model_selection import train_test_split\n",
        "from torch.utils.data import TensorDataset, DataLoader\n",
        "from matplotlib import pyplot as plt\n",
        "\n",
        "X = digits.data\n",
        "Y = digits.target\n",
        "X_train, X_test, Y_train, Y_test = train_test_split(X,Y,test_size=0.3)\n",
        "\n",
        "X_train = torch.tensor(X_train, dtype=torch.float32)\n",
        "Y_train = torch.tensor(Y_train, dtype=torch.int64)\n",
        "X_test = torch.tensor(X_test, dtype=torch.float32)\n",
        "Y_test = torch.tensor(Y_test, dtype=torch.int64)\n",
        "\n",
        "k = 100 \n",
        "\n",
        "net = nn.Sequential(\n",
        "    nn.Linear(64,k),\n",
        "    nn.ReLU(),\n",
        "    nn.BatchNorm1d(k),\n",
        "    nn.Linear(k,k),\n",
        "    nn.ReLU(),\n",
        "    nn.BatchNorm1d(k),\n",
        "    nn.Linear(k,k),\n",
        "    nn.ReLU(),\n",
        "    nn.BatchNorm1d(k),\n",
        "    nn.Linear(k,k),\n",
        "    nn.ReLU(),\n",
        "    nn.BatchNorm1d(k),\n",
        "    nn.Linear(k,10)\n",
        ")\n",
        "\n",
        "loss_fn = nn.CrossEntropyLoss()\n",
        "\n",
        "optimizer = optim.Adam(net.parameters())\n",
        "\n",
        "#dataloader\n",
        "\n",
        "ds = TensorDataset(X_train, Y_train)\n",
        "loader = DataLoader(ds, batch_size=32, shuffle=True)\n",
        "\n",
        "train_losses=[]\n",
        "test_losses=[]\n",
        "\n",
        "for epoch in range(100):\n",
        "\n",
        "    running_loss = 0.0\n",
        "\n",
        "    # set training mode\n",
        "\n",
        "    net.train()\n",
        "    for i, (xx, yy) in enumerate(loader):\n",
        "\n",
        "        y_pred = net(xx)\n",
        "        loss = loss_fn(y_pred, yy)\n",
        "\n",
        "        optimizer.zero_grad()\n",
        "        loss.backward()\n",
        "        optimizer.step()\n",
        "\n",
        "        running_loss += loss.item()\n",
        "\n",
        "    train_losses.append(running_loss/i)\n",
        "\n",
        "    # set eval mode\n",
        "\n",
        "    net.eval()\n",
        "\n",
        "    y_pred=net(X_test)\n",
        "    test_loss = loss_fn(y_pred, Y_test)\n",
        "    test_losses.append(test_loss.item())\n",
        "\n",
        "%matplotlib inline\n",
        "plt.plot(train_losses,'b')\n",
        "plt.plot(test_losses,'r')"
      ],
      "execution_count": null,
      "outputs": [
        {
          "output_type": "execute_result",
          "data": {
            "text/plain": [
              "[<matplotlib.lines.Line2D at 0x7fea71569be0>]"
            ]
          },
          "metadata": {
            "tags": []
          },
          "execution_count": 7
        },
        {
          "output_type": "display_data",
          "data": {
            "image/png": "[encoded data removed]",
            "text/plain": [
              "<Figure size 432x288 with 1 Axes>"
            ]
          },
          "metadata": {
            "tags": [],
            "needs_background": "light"
          }
        }
      ]
    },
    {
      "cell_type": "code",
      "metadata": {
        "id": "z1jSxGH4jywT",
        "colab_type": "code",
        "colab": {
          "base_uri": "https://localhost:8080/",
          "height": 283
        },
        "outputId": "f9d9d506-4325-47be-834f-2cd36258a24b"
      },
      "source": [
        "# 배치 + 드롭아웃\n",
        "\n",
        "import torch\n",
        "from torch import nn, optim\n",
        "from sklearn.datasets import load_digits\n",
        "from sklearn.model_selection import train_test_split\n",
        "from torch.utils.data import TensorDataset, DataLoader\n",
        "from matplotlib import pyplot as plt\n",
        "\n",
        "X = digits.data\n",
        "Y = digits.target\n",
        "X_train, X_test, Y_train, Y_test = train_test_split(X,Y,test_size=0.3)\n",
        "\n",
        "X_train = torch.tensor(X_train, dtype=torch.float32)\n",
        "Y_train = torch.tensor(Y_train, dtype=torch.int64)\n",
        "X_test = torch.tensor(X_test, dtype=torch.float32)\n",
        "Y_test = torch.tensor(Y_test, dtype=torch.int64)\n",
        "\n",
        "k = 100 \n",
        "\n",
        "net = nn.Sequential(\n",
        "    nn.Linear(64,k),\n",
        "    nn.ReLU(),\n",
        "    nn.BatchNorm1d(k),\n",
        "    nn.Dropout(0.5),\n",
        "    nn.Linear(k,k),\n",
        "    nn.ReLU(),\n",
        "    nn.BatchNorm1d(k),\n",
        "    nn.Dropout(0.5),\n",
        "    nn.Linear(k,k),\n",
        "    nn.ReLU(),\n",
        "    nn.BatchNorm1d(k),\n",
        "    nn.Dropout(0.5),\n",
        "    nn.Linear(k,k),\n",
        "    nn.ReLU(),\n",
        "    nn.BatchNorm1d(k),\n",
        "    nn.Dropout(0.5),\n",
        "    nn.Linear(k,10)\n",
        ")\n",
        "\n",
        "loss_fn = nn.CrossEntropyLoss()\n",
        "\n",
        "optimizer = optim.Adam(net.parameters())\n",
        "\n",
        "#dataloader\n",
        "\n",
        "ds = TensorDataset(X_train, Y_train)\n",
        "loader = DataLoader(ds, batch_size=32, shuffle=True)\n",
        "\n",
        "train_losses=[]\n",
        "test_losses=[]\n",
        "\n",
        "for epoch in range(100):\n",
        "\n",
        "    running_loss = 0.0\n",
        "\n",
        "    # set training mode\n",
        "\n",
        "    net.train()\n",
        "    for i, (xx, yy) in enumerate(loader):\n",
        "\n",
        "        y_pred = net(xx)\n",
        "        loss = loss_fn(y_pred, yy)\n",
        "\n",
        "        optimizer.zero_grad()\n",
        "        loss.backward()\n",
        "        optimizer.step()\n",
        "\n",
        "        running_loss += loss.item()\n",
        "\n",
        "    train_losses.append(running_loss/i)\n",
        "\n",
        "    # set eval mode\n",
        "\n",
        "    net.eval()\n",
        "\n",
        "    y_pred=net(X_test)\n",
        "    test_loss = loss_fn(y_pred, Y_test)\n",
        "    test_losses.append(test_loss.item())\n",
        "\n",
        "%matplotlib inline\n",
        "plt.plot(train_losses,'b')\n",
        "plt.plot(test_losses,'r')"
      ],
      "execution_count": null,
      "outputs": [
        {
          "output_type": "execute_result",
          "data": {
            "text/plain": [
              "[<matplotlib.lines.Line2D at 0x7fea7162fb38>]"
            ]
          },
          "metadata": {
            "tags": []
          },
          "execution_count": 8
        },
        {
          "output_type": "display_data",
          "data": {
            "image/png": "[encoded data removed]",
            "text/plain": [
              "<Figure size 432x288 with 1 Axes>"
            ]
          },
          "metadata": {
            "tags": [],
            "needs_background": "light"
          }
        }
      ]
    },
    {
      "cell_type": "code",
      "metadata": {
        "id": "MeHJVo0kk92I",
        "colab_type": "code",
        "colab": {
          "resources": {
            "http://localhost:8080/nbextensions/google.colab/files.js": {
              "data": "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",
              "ok": true,
              "headers": [
                [
                  "content-type",
                  "application/javascript"
                ]
              ],
              "status": 200,
              "status_text": ""
            }
          },
          "base_uri": "https://localhost:8080/",
          "height": 94
        },
        "outputId": "aa976e5b-b330-4bf3-f37f-fcff6004fdd5"
      },
      "source": [
        "from google.colab import files\n",
        "uploaded = files.upload() # 파일 업로드 기능 실행\n",
        "\n",
        "for fn in uploaded.keys(): # 업로드된 파일 정보 출력\n",
        "    print('User uploaded file \"{name}\" with length {length} bytes'.format(\n",
        "        name=fn, length=len(uploaded[fn])))"
      ],
      "execution_count": null,
      "outputs": [
        {
          "output_type": "display_data",
          "data": {
            "text/html": [
              "\n",
              "     <input type=\"file\" id=\"files-b9caaf4b-2ec0-4a96-a7be-3fd675184114\" name=\"files[]\" multiple disabled\n",
              "        style=\"border:none\" />\n",
              "     <output id=\"result-b9caaf4b-2ec0-4a96-a7be-3fd675184114\">\n",
              "      Upload widget is only available when the cell has been executed in the\n",
              "      current browser session. Please rerun this cell to enable.\n",
              "      </output>\n",
              "      <script src=\"/nbextensions/google.colab/files.js\"></script> "
            ],
            "text/plain": [
              "<IPython.core.display.HTML object>"
            ]
          },
          "metadata": {
            "tags": []
          }
        },
        {
          "output_type": "stream",
          "text": [
            "Saving 캡처.PNG to 캡처.PNG\n",
            "User uploaded file \"캡처.PNG\" with length 55013 bytes\n"
          ],
          "name": "stdout"
        }
      ]
    },
    {
      "cell_type": "code",
      "metadata": {
        "id": "RnGAuXyplA_l",
        "colab_type": "code",
        "colab": {
          "base_uri": "https://localhost:8080/",
          "height": 541
        },
        "outputId": "6581d6b6-8e89-49a1-bc5f-542dad308040"
      },
      "source": [
        "from IPython.display import Image\n",
        "Image('캡처.PNG')"
      ],
      "execution_count": null,
      "outputs": [
        {
          "output_type": "execute_result",
          "data": {
            "image/png": "[encoded data removed]",
            "text/plain": [
              "<IPython.core.display.Image object>"
            ]
          },
          "metadata": {
            "tags": []
          },
          "execution_count": 30
        }
      ]
    },
    {
      "cell_type": "markdown",
      "metadata": {
        "id": "5I5bxBCXxln1",
        "colab_type": "text"
      },
      "source": [
        "### 커스텀 모델"
      ]
    },
    {
      "cell_type": "code",
      "metadata": {
        "id": "RVIraC4gxpyA",
        "colab_type": "code",
        "colab": {}
      },
      "source": [
        "\n",
        "class CustomLinear(nn.Module):\n",
        "\n",
        "    def __init__(self,in_features, out_features, bias=True,p=0.5):\n",
        "\n",
        "        super().__init__()\n",
        "        self.linear = nn.Linear(in_features,out_features,bias)\n",
        "        self.relu = nn.ReLU()\n",
        "        self.drop = nn.Dropout(p)\n",
        "        #self.bn =nn.BatchNorm1d(200)\n",
        "        \n",
        "\n",
        "    def forward(self, x):\n",
        "\n",
        "        x=self.linear(x)\n",
        "        x=self.relu(x)\n",
        "        #x=self.bn(x)\n",
        "        x=self.drop(x)\n",
        "        \n",
        "\n",
        "        return x\n",
        "\n",
        "mlp = nn.Sequential(\n",
        "    CustomLinear(64, 200),\n",
        "    CustomLinear(200, 200),\n",
        "    CustomLinear(200, 200),\n",
        "    nn.Linear(200,10))\n",
        "\n",
        "    \n"
      ],
      "execution_count": null,
      "outputs": []
    },
    {
      "cell_type": "markdown",
      "metadata": {
        "id": "nmi6eJP15xCJ",
        "colab_type": "text"
      },
      "source": [
        "# Reference  \n",
        "[1] 두세교, \"파이토치 첫걸음\", 제이펍, 김완섭 역, 2019"
      ]
    }
  ]
}