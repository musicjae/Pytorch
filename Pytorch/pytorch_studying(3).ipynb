{
  "nbformat": 4,
  "nbformat_minor": 0,
  "metadata": {
    "colab": {
      "name": "pytorch_practice1.ipynb",
      "provenance": [],
      "toc_visible": true,
      "authorship_tag": "ABX9TyORnnxK2wLGgcLvtOK+GuZl",
      "include_colab_link": true
    },
    "kernelspec": {
      "name": "python3",
      "display_name": "Python 3"
    }
  },
  "cells": [
    {
      "cell_type": "markdown",
      "metadata": {
        "id": "view-in-github",
        "colab_type": "text"
      },
      "source": [
        "<a href=\"https://colab.research.google.com/github/musicjae/intro_to_python/blob/master/Pytorch/pytorch_studying(3).ipynb\" target=\"_parent\"><img src=\"https://colab.research.google.com/assets/colab-badge.svg\" alt=\"Open In Colab\"/></a>"
      ]
    },
    {
      "cell_type": "markdown",
      "metadata": {
        "id": "p35Bnjy_cqbo"
      },
      "source": [
        "# 신경망 쌓기"
      ]
    },
    {
      "cell_type": "code",
      "metadata": {
        "id": "CWkqXIqGc_L9"
      },
      "source": [
        "import torch\n",
        "from torch.autograd import Variable\n",
        "import numpy as np"
      ],
      "execution_count": 6,
      "outputs": []
    },
    {
      "cell_type": "markdown",
      "metadata": {
        "id": "_Y6PurpWcsNr"
      },
      "source": [
        "## 데이터 생성 "
      ]
    },
    {
      "cell_type": "code",
      "metadata": {
        "id": "803-KoQfGY34",
        "outputId": "f4417a8e-3d16-49bc-d805-b65273369b8a",
        "colab": {
          "base_uri": "https://localhost:8080/"
        }
      },
      "source": [
        "def get_data():\n",
        "\n",
        "    train_X = np.random.randn(20)\n",
        "    train_Y = np.random.randn(20)\n",
        "\n",
        "    dtype = torch.FloatTensor\n",
        "\n",
        "    X = Variable(torch.from_numpy(train_X).type(dtype), requires_grad = False).view(20,1)\n",
        "    y = Variable(torch.from_numpy(train_Y).type(dtype), requires_grad = False)\n",
        "\n",
        "    return X,y\n",
        "\n",
        "test = get_data()\n",
        "print(test)\n",
        "print(test[0].shape)\n",
        "print(test[1].shape)"
      ],
      "execution_count": 12,
      "outputs": [
        {
          "output_type": "stream",
          "text": [
            "(tensor([[-0.1599],\n",
            "        [-0.2041],\n",
            "        [-0.6199],\n",
            "        [ 0.1220],\n",
            "        [-0.3534],\n",
            "        [ 1.5444],\n",
            "        [ 0.9291],\n",
            "        [-1.5023],\n",
            "        [-0.9653],\n",
            "        [-0.1876],\n",
            "        [ 0.1164],\n",
            "        [ 1.3839],\n",
            "        [-0.1768],\n",
            "        [ 0.9364],\n",
            "        [-0.1826],\n",
            "        [-0.4625],\n",
            "        [ 0.3891],\n",
            "        [-1.1793],\n",
            "        [-1.0154],\n",
            "        [ 1.1697]]), tensor([ 0.5243, -0.7958, -0.7001,  0.6874,  0.2795, -0.6965, -0.7230, -2.0119,\n",
            "         0.6912,  1.1973,  0.2543,  0.2034, -0.3825,  1.0598,  0.0315, -0.0917,\n",
            "         1.5207,  0.4418, -0.9018,  0.4571]))\n",
            "torch.Size([20, 1])\n",
            "torch.Size([20])\n"
          ],
          "name": "stdout"
        }
      ]
    },
    {
      "cell_type": "code",
      "metadata": {
        "id": "DnHAKFycgIOv"
      },
      "source": [
        ""
      ],
      "execution_count": null,
      "outputs": []
    },
    {
      "cell_type": "markdown",
      "metadata": {
        "id": "0c1EneQZeUyv"
      },
      "source": [
        "## 파라미터 생성"
      ]
    },
    {
      "cell_type": "code",
      "metadata": {
        "id": "7UA2_B9GeWry"
      },
      "source": [
        "def get_weights():\n",
        "\n",
        "    w=Variable(torch.randn(1), requires_grad = True)\n",
        "    b = Variable(torch.randn(1), requires_grad = True)\n",
        "\n",
        "    return w,b"
      ],
      "execution_count": 37,
      "outputs": []
    },
    {
      "cell_type": "markdown",
      "metadata": {
        "id": "ca2LxiRCeuOi"
      },
      "source": [
        "## 신경망 모델"
      ]
    },
    {
      "cell_type": "markdown",
      "metadata": {
        "id": "huaj4Cape1ma"
      },
      "source": [
        "전통적인 신경망 모델에서 입출력은 선형 관계임을 가정한다. 이것은 $y=wx+b$로 표현한다."
      ]
    },
    {
      "cell_type": "code",
      "metadata": {
        "id": "fzAwttRdev-T"
      },
      "source": [
        "def simple_network(x):\n",
        "\n",
        "    y_pred = torch.matmul(x,w)+b \n",
        "\n",
        "    return y_pred"
      ],
      "execution_count": 35,
      "outputs": []
    },
    {
      "cell_type": "markdown",
      "metadata": {
        "id": "JSAk4GxlgIje"
      },
      "source": [
        "## torch.nn으로 데이터 생성 & 파라미터 생성 통합"
      ]
    },
    {
      "cell_type": "markdown",
      "metadata": {
        "id": "pobdqsrigfPR"
      },
      "source": [
        "우리는 앞에서 저수준 함수를 사용해서 각 함수 내에서 신경망이 어떻게 작동하는지에 대해 알아보았다. 이제 고수준 모델을 사용하여 간단히 위 과정을 기술해보자."
      ]
    },
    {
      "cell_type": "code",
      "metadata": {
        "id": "yLuP6Xc5gUof",
        "outputId": "158e0476-e3e8-40dc-e850-265ec012a0c7",
        "colab": {
          "base_uri": "https://localhost:8080/"
        }
      },
      "source": [
        "import torch.nn as nn\n",
        "\n",
        "f = nn.Linear(20,1)\n",
        "print(f)"
      ],
      "execution_count": 20,
      "outputs": [
        {
          "output_type": "stream",
          "text": [
            "Linear(in_features=20, out_features=1, bias=True)\n"
          ],
          "name": "stdout"
        }
      ]
    },
    {
      "cell_type": "markdown",
      "metadata": {
        "id": "cfQc842_f4H-"
      },
      "source": [
        "## 오차 함수"
      ]
    },
    {
      "cell_type": "markdown",
      "metadata": {
        "id": "4b7liBhxf7ac"
      },
      "source": [
        "현재 회귀 문제를 다루고 있으므로 Sum of Squared Error라는 Loss function을 사용한다.  \n",
        "$L = \\sum(y_{pred} - correct_y)^2$"
      ]
    },
    {
      "cell_type": "code",
      "metadata": {
        "id": "eDqrmrgTf5ZO"
      },
      "source": [
        "def loss_fn(y,y_pred):\n",
        "    loss = (y_pred-y).pow(2).sum()\n",
        "    for param in [w,b]:\n",
        "        if not param.grad is None: param.grad.data.zero_()\n",
        "    loss.backward()\n",
        "    return loss.data\n"
      ],
      "execution_count": 39,
      "outputs": []
    },
    {
      "cell_type": "markdown",
      "metadata": {
        "id": "Op3q6IK-i6gS"
      },
      "source": [
        "## 옵티마이저"
      ]
    },
    {
      "cell_type": "code",
      "metadata": {
        "id": "yFFSbyb4i6D7"
      },
      "source": [
        "def optimize(learning_rate):\n",
        "    w.data -= learning_rate * w.grad.data\n",
        "    b.data -= learning_rate * b.grad.data\n",
        "\n",
        "learning_rate = 1e-4"
      ],
      "execution_count": 33,
      "outputs": []
    },
    {
      "cell_type": "code",
      "metadata": {
        "id": "IvZln2DojNIn",
        "outputId": "02e4c0cf-c1b8-4efe-badc-bffb3928b70f",
        "colab": {
          "base_uri": "https://localhost:8080/"
        }
      },
      "source": [
        "x,y = get_data()               # x - 학습 데이터, y - 목적 변수(Target Variables)\n",
        "w,b = get_weights()           # w,b - 학습 파라미터\n",
        "\n",
        "i_list = []\n",
        "losses=[]\n",
        "for i in range(500):\n",
        "    y_pred = simple_network(x) # wx + b를 계산하는 함수\n",
        "    loss = loss_fn(y,y_pred)   # y와 y_pred의 차의 제곱 합을 계산\n",
        "    \n",
        "    i_list.append(i)\n",
        "    losses.append(loss)\n",
        "    \n",
        "    if i % 50 == 0: \n",
        "        print(loss)\n",
        "\n",
        "    optimize(learning_rate)    # 오차를 최소화하도록 w, b를 조정"
      ],
      "execution_count": 44,
      "outputs": [
        {
          "output_type": "stream",
          "text": [
            "tensor(70.7968)\n",
            "tensor(51.6758)\n",
            "tensor(40.5693)\n",
            "tensor(34.1171)\n",
            "tensor(30.3678)\n",
            "tensor(28.1882)\n",
            "tensor(26.9205)\n",
            "tensor(26.1825)\n",
            "tensor(25.7522)\n",
            "tensor(25.5008)\n"
          ],
          "name": "stdout"
        }
      ]
    },
    {
      "cell_type": "code",
      "metadata": {
        "id": "DIpK-3B5ksAr",
        "outputId": "147577cf-2e9e-4d87-ed9b-07d4ed681f21",
        "colab": {
          "base_uri": "https://localhost:8080/",
          "height": 279
        }
      },
      "source": [
        "import matplotlib.pyplot as plt\n",
        "%matplotlib inline\n",
        "\n",
        "plt.plot(i_list,losses,'-r')\n",
        "plt.xlabel('epoch')\n",
        "plt.ylabel('loss')\n",
        "plt.show()"
      ],
      "execution_count": 47,
      "outputs": [
        {
          "output_type": "display_data",
          "data": {
            "image/png": "[encoded data removed]",
            "text/plain": [
              "<Figure size 432x288 with 1 Axes>"
            ]
          },
          "metadata": {
            "tags": [],
            "needs_background": "light"
          }
        }
      ]
    },
    {
      "cell_type": "markdown",
      "metadata": {
        "id": "kzt0G4xGltCO"
      },
      "source": [
        "# 신경망 파헤치기"
      ]
    },
    {
      "cell_type": "markdown",
      "metadata": {
        "id": "RL-dr8vRl6w7"
      },
      "source": [
        "## 2.1 Blocks (Layers)  \n",
        "  \n",
        "- Linear Layer \n",
        " > $Y=Wx+b$\n",
        "- "
      ]
    },
    {
      "cell_type": "markdown",
      "metadata": {
        "id": "d8bOQ8fumIbX"
      },
      "source": [
        "### 2.1.1 Linear Layer"
      ]
    },
    {
      "cell_type": "code",
      "metadata": {
        "id": "YJErcue5lsjQ"
      },
      "source": [
        "from torch.nn import Linear\n",
        "\n",
        "Layer1 = Linear(in_features=10, out_features =5, bias = True)"
      ],
      "execution_count": 48,
      "outputs": []
    },
    {
      "cell_type": "markdown",
      "metadata": {
        "id": "uxRvzoyxmTXY"
      },
      "source": [
        "크기 10인 텐서 입력 받은 뒤, 5인 텐서 출력. bias 추가."
      ]
    },
    {
      "cell_type": "code",
      "metadata": {
        "id": "g1tR6kmXmeXz",
        "outputId": "2869931c-80b6-4a84-e40e-5d5a0d817c7d",
        "colab": {
          "base_uri": "https://localhost:8080/"
        }
      },
      "source": [
        "# 사용 예:  \n",
        "\n",
        "inp = Variable(torch.randn(1,10))\n",
        "Layer1(inp)\n",
        "print(Layer1)\n",
        "print(Layer1.cuda)\n",
        "print(Layer1.parameters)\n",
        "print(Layer1.weight)\n",
        "print(Layer1.weight.shape)"
      ],
      "execution_count": 54,
      "outputs": [
        {
          "output_type": "stream",
          "text": [
            "Linear(in_features=10, out_features=5, bias=True)\n",
            "<bound method Module.cuda of Linear(in_features=10, out_features=5, bias=True)>\n",
            "<bound method Module.parameters of Linear(in_features=10, out_features=5, bias=True)>\n",
            "Parameter containing:\n",
            "tensor([[-0.2891, -0.1615, -0.2442, -0.1952, -0.1252,  0.2713,  0.2593, -0.3054,\n",
            "         -0.1433, -0.1948],\n",
            "        [-0.1331, -0.0972, -0.0185,  0.1576, -0.0515, -0.1693, -0.0229,  0.0881,\n",
            "          0.0411,  0.0662],\n",
            "        [ 0.2421,  0.2169, -0.1415, -0.0470, -0.2294, -0.0028,  0.2954,  0.2922,\n",
            "         -0.0723, -0.2831],\n",
            "        [ 0.1835, -0.2779,  0.1144,  0.0052,  0.2692,  0.0130, -0.2514,  0.0426,\n",
            "          0.2861,  0.2243],\n",
            "        [-0.0841,  0.2876,  0.1353, -0.2905, -0.0188,  0.1384,  0.1645,  0.2591,\n",
            "          0.2095,  0.2619]], requires_grad=True)\n",
            "torch.Size([5, 10])\n"
          ],
          "name": "stdout"
        }
      ]
    },
    {
      "cell_type": "markdown",
      "metadata": {
        "id": "AlmxNZDsnEZO"
      },
      "source": [
        "위 같은 선형 레이어는 'Dense Layer', 'Fully Connected Layer'라고도 불린다."
      ]
    },
    {
      "cell_type": "markdown",
      "metadata": {
        "id": "waLHheUDnLeo"
      },
      "source": [
        "일반적으로, 실무에서 사용할 때 딥러닝 아키텍처는 적어도 2 개 이상의 Layer로 구성된다."
      ]
    },
    {
      "cell_type": "markdown",
      "metadata": {
        "id": "V8eovKKnnQ7F"
      },
      "source": [
        "#### 복수의 레이어 구성하는 1st 방법"
      ]
    },
    {
      "cell_type": "code",
      "metadata": {
        "id": "7YeJT6FInTyH",
        "outputId": "98215e7a-ceec-4250-aecd-a9f3dde90607",
        "colab": {
          "base_uri": "https://localhost:8080/"
        }
      },
      "source": [
        "Layer1 = Linear(10,5)\n",
        "Layer2 = Linear(5,2)\n",
        "test = Layer2(Layer1(inp))\n",
        "print(test) # 10 ---> 2"
      ],
      "execution_count": 56,
      "outputs": [
        {
          "output_type": "stream",
          "text": [
            "tensor([[-0.5741, -0.9246]], grad_fn=<AddmmBackward>)\n"
          ],
          "name": "stdout"
        }
      ]
    },
    {
      "cell_type": "markdown",
      "metadata": {
        "id": "_VgP25Wkn1MM"
      },
      "source": [
        "단순히 여러 개의 **선형 레이어**만을 쌓는 것은 학습에 도움이 되지 않는다. 왜냐하면 선형 레이어만 여러 개 쌓은 것은 사실 단 하나의 선형 레이어로 표현될 수 있기 때문이다. 가령, $Y=2(3X)$는 $6(X)$와 동일하다. 즉 2 개의 선형 레이어는 사실 1 개의 선형 레이어로 표현될 수 있다. 이것이 100 개가 있어도 상황은 마찬가지이다. 이러한 탓에 우리는 **비선형함수**가 필요하다."
      ]
    },
    {
      "cell_type": "markdown",
      "metadata": {
        "id": "P-mz7Zp7oRci"
      },
      "source": [
        "## 2.2 비선형함수 Activations"
      ]
    },
    {
      "cell_type": "markdown",
      "metadata": {
        "id": "05Rex7WsoTc8"
      },
      "source": [
        "- sigmoid  \n",
        "- tanh  \n",
        "- ReLU  \n",
        "- Leaky ReLU"
      ]
    },
    {
      "cell_type": "code",
      "metadata": {
        "id": "-YKPksx8pP2U",
        "outputId": "806e9e30-1aad-476c-ee76-6ce63bb166dc",
        "colab": {
          "base_uri": "https://localhost:8080/"
        }
      },
      "source": [
        "2**3"
      ],
      "execution_count": 61,
      "outputs": [
        {
          "output_type": "execute_result",
          "data": {
            "text/plain": [
              "8"
            ]
          },
          "metadata": {
            "tags": []
          },
          "execution_count": 61
        }
      ]
    },
    {
      "cell_type": "code",
      "metadata": {
        "id": "5NGgTeYNn0gk"
      },
      "source": [
        "\n",
        "\n",
        "def sigmoid (x):\n",
        "\n",
        "    f = 1/(1+np.exp(-x))\n",
        "    return f\n",
        "\n",
        "def tanh(x):\n",
        "\n",
        "    f = np.tanh(x)\n",
        "    return f\n",
        "\n",
        "def relu(x):\n",
        "\n",
        "    f = np.maximum(0,x)\n",
        "\n",
        "    return f\n",
        "\n",
        "def leaky_relu(x):\n",
        "\n",
        "    f = np.maximum(0.01*x, x)\n",
        "\n",
        "\n",
        "    return f"
      ],
      "execution_count": 88,
      "outputs": []
    },
    {
      "cell_type": "code",
      "metadata": {
        "id": "FeaZSaclqsIw",
        "outputId": "84ac166f-9bca-4c07-c3c4-ab9329c86173",
        "colab": {
          "base_uri": "https://localhost:8080/",
          "height": 265
        }
      },
      "source": [
        "data = np.array([-5,-4,-3,-2,-1,0,1,2,3,4,5])\n",
        "\n",
        "plt.plot(data, sigmoid(data),'-b')\n",
        "plt.plot(data, tanh(data),'-r')\n",
        "plt.plot(data, relu(data),'-g')\n",
        "plt.plot(data, leaky_relu(data),'-y')\n",
        "plt.show()\n"
      ],
      "execution_count": 91,
      "outputs": [
        {
          "output_type": "display_data",
          "data": {
            "image/png": "[encoded data removed]",
            "text/plain": [
              "<Figure size 432x288 with 1 Axes>"
            ]
          },
          "metadata": {
            "tags": [],
            "needs_background": "light"
          }
        }
      ]
    },
    {
      "cell_type": "markdown",
      "metadata": {
        "id": "0vPl5MT9vLaR"
      },
      "source": [
        "## 2.3 딥러닝 구현하기"
      ]
    },
    {
      "cell_type": "markdown",
      "metadata": {
        "id": "8IX2yfRVvPOy"
      },
      "source": [
        "- nn.Module 상속  \n",
        " - __init__ 메서드 구현  \n",
        "  > 선형 레이어 같은 레이어들을 초기화  \n",
        " - forward 구현\n",
        "  > init에서 초기화한 것들을 입력하고 최종 출력을 반환"
      ]
    },
    {
      "cell_type": "code",
      "metadata": {
        "id": "I04POszFvdXY"
      },
      "source": [
        "class MyFirstNetwork(nn.Module): #상속\n",
        "\n",
        "    def __init__(self, input_size, hidden_size, output_size):\n",
        "\n",
        "        super(MyFirstNetwork,self).__init__() # 이것은 자식 클래스를 위의 부모 클래스(nn.Module)로 전달\n",
        "        self.layer1 = nn.Linear(input_size, hidden_size)\n",
        "        self.layer2 = nn.Linear(hidden_size, output_size)\n",
        "\n",
        "    def foward(self, input):\n",
        "\n",
        "        out = self.layer1(input)\n",
        "        out = nn.ReLU(out)\n",
        "        out = self.layer2(out)\n",
        "\n",
        "        return out\n",
        "        "
      ],
      "execution_count": 93,
      "outputs": []
    },
    {
      "cell_type": "markdown",
      "metadata": {
        "id": "8RWFVhBkzNY1"
      },
      "source": [
        "# References  \n",
        "[1] Pytorch로 시작하는 딥러닝, 에이콘"
      ]
    }
  ]
}