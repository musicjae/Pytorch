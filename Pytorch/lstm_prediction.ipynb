{
  "nbformat": 4,
  "nbformat_minor": 0,
  "metadata": {
    "colab": {
      "name": "lstm prediction.ipynb",
      "provenance": [],
      "collapsed_sections": [],
      "toc_visible": true,
      "authorship_tag": "ABX9TyPjHlz1LhnncnLR+1Nshkdi",
      "include_colab_link": true
    },
    "kernelspec": {
      "name": "python3",
      "display_name": "Python 3"
    },
    "accelerator": "GPU"
  },
  "cells": [
    {
      "cell_type": "markdown",
      "metadata": {
        "id": "view-in-github",
        "colab_type": "text"
      },
      "source": [
        "<a href=\"https://colab.research.google.com/github/musicjae/Pytorch/blob/main/Pytorch/lstm_prediction.ipynb\" target=\"_parent\"><img src=\"https://colab.research.google.com/assets/colab-badge.svg\" alt=\"Open In Colab\"/></a>"
      ]
    },
    {
      "cell_type": "markdown",
      "metadata": {
        "id": "xqvQw66oEiRp"
      },
      "source": [
        "# Import"
      ]
    },
    {
      "cell_type": "code",
      "metadata": {
        "id": "6nM0M9pj4ctH"
      },
      "source": [
        "import numpy as np\r\n",
        "import matplotlib.pyplot as plt\r\n",
        "import pandas as pd\r\n",
        "import torch\r\n",
        "import torch.nn as nn\r\n",
        "from torch.autograd import Variable\r\n",
        "from sklearn.preprocessing import MinMaxScaler\r\n",
        "import pandas_datareader.data as pdr\r\n",
        "import datetime"
      ],
      "execution_count": 1,
      "outputs": []
    },
    {
      "cell_type": "markdown",
      "metadata": {
        "id": "ReT-LswnEhNv"
      },
      "source": [
        "# Data Load"
      ]
    },
    {
      "cell_type": "code",
      "metadata": {
        "id": "fB53yVaC4jHr"
      },
      "source": [
        "start = (1999, 3, 10)\r\n",
        "start = datetime.datetime(*start)\r\n",
        "end = datetime.date.today()\r\n",
        "\r\n",
        "qqq= pdr.DataReader('QQQ', 'yahoo', start, end)"
      ],
      "execution_count": 2,
      "outputs": []
    },
    {
      "cell_type": "code",
      "metadata": {
        "colab": {
          "base_uri": "https://localhost:8080/",
          "height": 287
        },
        "id": "BoLg5FMZ4myr",
        "outputId": "5b181cd8-41da-4adc-8ecb-e22843af7351"
      },
      "source": [
        "qqq.Close.plot(grid=True)"
      ],
      "execution_count": 3,
      "outputs": [
        {
          "output_type": "execute_result",
          "data": {
            "text/plain": [
              "<matplotlib.axes._subplots.AxesSubplot at 0x7fdceb053e10>"
            ]
          },
          "metadata": {
            "tags": []
          },
          "execution_count": 3
        },
        {
          "output_type": "display_data",
          "data": {
            "image/png": "[encoded data removed]",
            "text/plain": [
              "<Figure size 432x288 with 1 Axes>"
            ]
          },
          "metadata": {
            "tags": [],
            "needs_background": "light"
          }
        }
      ]
    },
    {
      "cell_type": "code",
      "metadata": {
        "colab": {
          "base_uri": "https://localhost:8080/"
        },
        "id": "IsrJDrZt4qb_",
        "outputId": "1fc48325-42fe-4519-9d0d-7e535a7e04d2"
      },
      "source": [
        "qqq.columns"
      ],
      "execution_count": 4,
      "outputs": [
        {
          "output_type": "execute_result",
          "data": {
            "text/plain": [
              "Index(['High', 'Low', 'Open', 'Close', 'Volume', 'Adj Close'], dtype='object')"
            ]
          },
          "metadata": {
            "tags": []
          },
          "execution_count": 4
        }
      ]
    },
    {
      "cell_type": "code",
      "metadata": {
        "colab": {
          "base_uri": "https://localhost:8080/"
        },
        "id": "Q4Hucphh4s_K",
        "outputId": "893780a5-2b89-44f8-a131-f46847c676c5"
      },
      "source": [
        "qqq = qqq[['Open','Close']]\r\n",
        "print(qqq.head(3))"
      ],
      "execution_count": 5,
      "outputs": [
        {
          "output_type": "stream",
          "text": [
            "               Open    Close\n",
            "Date                        \n",
            "1999-03-10  51.1250  51.0625\n",
            "1999-03-11  51.4375  51.3125\n",
            "1999-03-12  51.1250  50.0625\n"
          ],
          "name": "stdout"
        }
      ]
    },
    {
      "cell_type": "code",
      "metadata": {
        "colab": {
          "base_uri": "https://localhost:8080/"
        },
        "id": "fL8Aud4H459B",
        "outputId": "50755eed-7252-4f01-d1e1-33698e6d1ba4"
      },
      "source": [
        "qqq = qqq/ 1000 # Normalization\r\n",
        "print(qqq.head(3))\r\n",
        "print(qqq['Open'].values.reshape(-1,1))"
      ],
      "execution_count": 6,
      "outputs": [
        {
          "output_type": "stream",
          "text": [
            "                Open     Close\n",
            "Date                          \n",
            "1999-03-10  0.051125  0.051062\n",
            "1999-03-11  0.051437  0.051312\n",
            "1999-03-12  0.051125  0.050063\n",
            "[[0.051125 ]\n",
            " [0.0514375]\n",
            " [0.051125 ]\n",
            " ...\n",
            " [0.3165   ]\n",
            " [0.31413  ]\n",
            " [0.31425  ]]\n"
          ],
          "name": "stdout"
        }
      ]
    },
    {
      "cell_type": "markdown",
      "metadata": {
        "id": "wZg0FLzTEe3Q"
      },
      "source": [
        "# Preprocessing"
      ]
    },
    {
      "cell_type": "code",
      "metadata": {
        "colab": {
          "base_uri": "https://localhost:8080/"
        },
        "id": "MuehzUjB8rfZ",
        "outputId": "2237d6b7-43f0-4bc0-bb12-7d0a2a4a628b"
      },
      "source": [
        "def sliding_window(data,seq_len):\r\n",
        "    x = []\r\n",
        "    y = []\r\n",
        "\r\n",
        "    for i in range(len(data) - seq_len - 1):\r\n",
        "        _x = data[i:(i+seq_len)]\r\n",
        "        _y = data[i+seq_len]\r\n",
        "        x.append(_x)\r\n",
        "        y.append(_y)\r\n",
        "\r\n",
        "    return np.array(x), np.array(y)\r\n",
        "\r\n",
        "scaler = MinMaxScaler()\r\n",
        "train_data = scaler.fit_transform(qqq['Close'].values.reshape(-1,1))\r\n",
        "seq_len = 5\r\n",
        "\r\n",
        "x,y = sliding_window(train_data, seq_len)\r\n",
        "print(x.shape,y.shape)\r\n",
        "\r\n",
        "train_size = int(len(y)*0.9+1) # int화 과정에서 총 데이터 개수 5496 에서 1 가 빠지길래, 그 빠진 1를 train_set에 넣어주었다.\r\n",
        "test_size = int(len(y)*0.1)\r\n",
        "\r\n",
        "\r\n",
        "\"\"\"\r\n",
        "autograd.Variable은 autograd 패키지의 핵심 클래스입니다. \r\n",
        "Variable 클래스는 Tensor를 감싸고 있으며, Tensor에 정의된 거의 모든 연산을 지원합니다. \r\n",
        "모든 계산을 마친 후에 .backward()를 호출하면, 자동으로 모든 기울기가 계산됩니다.\r\n",
        "\r\n",
        "cf: http://taewan.kim/trans/pytorch/tutorial/blits/02_autograd/\r\n",
        "\"\"\"\r\n",
        "dataX = Variable(torch.Tensor(np.array(x)))\r\n",
        "dataY = Variable(torch.Tensor(np.array(y)))\r\n",
        "\r\n",
        "trainX = Variable(torch.Tensor(np.array(x[0:train_size])))\r\n",
        "testX = Variable(torch.Tensor(np.array(x[train_size:len(x)])))\r\n",
        "\r\n",
        "trainY = Variable(torch.Tensor(np.array(y[0:train_size])))\r\n",
        "testY = Variable(torch.Tensor(np.array(y[train_size:len(y)])))\r\n",
        "\r\n",
        "print('\\n')\r\n",
        "print(trainX.shape)\r\n",
        "print(testX.shape)\r\n",
        "\r\n",
        "print(trainY.shape)\r\n",
        "print(testY.shape)"
      ],
      "execution_count": 50,
      "outputs": [
        {
          "output_type": "stream",
          "text": [
            "(5496, 5, 1) (5496, 1)\n",
            "\n",
            "\n",
            "torch.Size([4947, 5, 1])\n",
            "torch.Size([549, 5, 1])\n",
            "torch.Size([4947, 1])\n",
            "torch.Size([549, 1])\n"
          ],
          "name": "stdout"
        }
      ]
    },
    {
      "cell_type": "markdown",
      "metadata": {
        "id": "mYzJlHC7Ec3J"
      },
      "source": [
        "# Model LSTM"
      ]
    },
    {
      "cell_type": "markdown",
      "metadata": {
        "id": "NTW5KpqsJ81P"
      },
      "source": [
        "## use cuda"
      ]
    },
    {
      "cell_type": "code",
      "metadata": {
        "colab": {
          "base_uri": "https://localhost:8080/"
        },
        "id": "9dimAaHUJ8OA",
        "outputId": "24b79029-d6ed-4cae-a3c0-c95d375e422d"
      },
      "source": [
        "if torch.cuda.is_available():\r\n",
        "    DEVICE = torch.device('cuda')\r\n",
        "else:\r\n",
        "    DEVICE = torch.device('cpu')\r\n",
        "\r\n",
        "print(f'device:{DEVICE}')"
      ],
      "execution_count": 51,
      "outputs": [
        {
          "output_type": "stream",
          "text": [
            "device:cuda\n"
          ],
          "name": "stdout"
        }
      ]
    },
    {
      "cell_type": "code",
      "metadata": {
        "id": "hu1zi1F_AWr9"
      },
      "source": [
        "class LSTM(nn.Module):\r\n",
        "    def __init__(self,num_classes,input_size,hid_size,num_layers):\r\n",
        "        super(LSTM,self).__init__()\r\n",
        "\r\n",
        "        self.input_size = input_size\r\n",
        "        self.hid_size = hid_size\r\n",
        "        self.num_classes = num_classes\r\n",
        "        self.num_layers = num_layers\r\n",
        "\r\n",
        "        self.lstm = nn.LSTM(input_size=input_size, hidden_size= hid_size, num_layers = num_layers, batch_first = True)\r\n",
        "        self.fc = nn.Linear(hid_size,num_classes)\r\n",
        "\r\n",
        "    def forward(self,x):\r\n",
        "\r\n",
        "        h_0 = Variable(torch.zeros(self.num_layers, x.size(0), self.hid_size)).to(DEVICE)\r\n",
        "        c_0 = Variable(torch.zeros(self.num_layers, x.size(0), self.hid_size)).to(DEVICE)\r\n",
        "\r\n",
        "        out, (hout, _) = self.lstm(x,(h_0,c_0))\r\n",
        "        hout = hout.view(-1,self.hid_size).to(DEVICE)\r\n",
        "        out = self.fc(hout).to(DEVICE)\r\n",
        "\r\n",
        "        return out\r\n",
        "\r\n",
        "    def init_hidden(self, batch):\r\n",
        "        return (autograd.Variable(torch.zeros(1, 1, self.hid_size).to(device)), autograd.Variable(torch.zeros(1, 1, self.hid_size).to(device)))"
      ],
      "execution_count": 52,
      "outputs": []
    },
    {
      "cell_type": "markdown",
      "metadata": {
        "id": "ENprLKSSIQXS"
      },
      "source": [
        "# Training"
      ]
    },
    {
      "cell_type": "code",
      "metadata": {
        "colab": {
          "base_uri": "https://localhost:8080/",
          "height": 431
        },
        "id": "zUEvmjy8IOt2",
        "outputId": "428484fe-f395-4c66-aa69-aa35edfad718"
      },
      "source": [
        "EPOCHS = 2000\r\n",
        "LR = 0.01\r\n",
        "\r\n",
        "INPUT_SIZE = 1\r\n",
        "HIDDEN_SIZE = 128\r\n",
        "\r\n",
        "NUM_LAYERS = 1\r\n",
        "NUM_CLASSES = 1\r\n",
        "\r\n",
        "model = LSTM(NUM_CLASSES, INPUT_SIZE, HIDDEN_SIZE, NUM_LAYERS)\r\n",
        "\r\n",
        "criterion = torch.nn.MSELoss()\r\n",
        "optimizer = torch.optim.Adam(model.parameters(), lr = LR)\r\n",
        "\r\n",
        "## 줍줍 모드 ##\r\n",
        "\r\n",
        "train_losses = []\r\n",
        "test_losses = []\r\n",
        "correct = 0\r\n",
        "test_loss=0\r\n",
        "\r\n",
        "## ======= move datum into cuda ========= ##\r\n",
        "\r\n",
        "if (torch.cuda.is_available()):\r\n",
        "\r\n",
        "   model = model.cuda()# rnn is your model\r\n",
        "   dataX = dataX.cuda()\r\n",
        "   dataY = dataY.cuda()\r\n",
        "   trainX = trainX.cuda() \r\n",
        "   trainY = trainY.cuda()\r\n",
        "   testX = testX.cuda() \r\n",
        "   testY = testY.cuda()\r\n",
        "\r\n",
        "## ================= Train ================= ##\r\n",
        "\r\n",
        "for epoch in range(EPOCHS):\r\n",
        "    \r\n",
        "    model.train()\r\n",
        "\r\n",
        "    model.zero_grad()\r\n",
        "    optimizer.zero_grad()\r\n",
        "    \r\n",
        "    output = model(trainX)\r\n",
        "\r\n",
        "    loss = criterion(output,trainY)\r\n",
        "    loss.backward()\r\n",
        "\r\n",
        "    optimizer.step()\r\n",
        "\r\n",
        "    if epoch % 100 == 0:\r\n",
        "      print(\"Epoch: %d, loss: %1.5f\" % (epoch, loss.item()))\r\n",
        "      train_losses.append(loss.item())\r\n",
        "\"\"\"\r\n",
        "## ============== val ==================== ##\r\n",
        "\r\n",
        "with torch.no_grad():\r\n",
        "    model.eval()\r\n",
        "    for epoch in range(1):\r\n",
        "\r\n",
        "        testX = testX.float()\r\n",
        "        y_pred = model(testX)\r\n",
        "        \r\n",
        "        test_loss += criterion(y_pred, testY).item()\r\n",
        "        test_losses.append(test_loss)\r\n",
        "        prediction = y_pred.max(1,keepdim=True)[1]\r\n",
        "        correct += prediction.eq(testY.view_as(prediction)).sum().item()\r\n",
        "\r\n",
        "test_loss /= len(testY)\r\n",
        "test_acc = 100 * correct / len(testY)\r\n",
        "\r\n",
        "print(f'test_loss:{test_loss}, test_acc:{test_acc}')\r\n",
        "\"\"\"\r\n",
        "        "
      ],
      "execution_count": 102,
      "outputs": [
        {
          "output_type": "stream",
          "text": [
            "Epoch: 0, loss: 0.06955\n",
            "Epoch: 100, loss: 0.00003\n",
            "Epoch: 200, loss: 0.00002\n",
            "Epoch: 300, loss: 0.00002\n",
            "Epoch: 400, loss: 0.00002\n",
            "Epoch: 500, loss: 0.00002\n",
            "Epoch: 600, loss: 0.00002\n",
            "Epoch: 700, loss: 0.00002\n",
            "Epoch: 800, loss: 0.00002\n",
            "Epoch: 900, loss: 0.00002\n",
            "Epoch: 1000, loss: 0.00002\n",
            "Epoch: 1100, loss: 0.00002\n",
            "Epoch: 1200, loss: 0.00002\n",
            "Epoch: 1300, loss: 0.00002\n",
            "Epoch: 1400, loss: 0.00002\n",
            "Epoch: 1500, loss: 0.00002\n",
            "Epoch: 1600, loss: 0.00002\n",
            "Epoch: 1700, loss: 0.00002\n",
            "Epoch: 1800, loss: 0.00002\n",
            "Epoch: 1900, loss: 0.00002\n"
          ],
          "name": "stdout"
        },
        {
          "output_type": "execute_result",
          "data": {
            "application/vnd.google.colaboratory.intrinsic+json": {
              "type": "string"
            },
            "text/plain": [
              "\"\\n## ============== val ==================== ##\\n\\nwith torch.no_grad():\\n    model.eval()\\n    for epoch in range(1):\\n\\n        testX = testX.float()\\n        y_pred = model(testX)\\n        \\n        test_loss += criterion(y_pred, testY).item()\\n        test_losses.append(test_loss)\\n        prediction = y_pred.max(1,keepdim=True)[1]\\n        correct += prediction.eq(testY.view_as(prediction)).sum().item()\\n\\ntest_loss /= len(testY)\\ntest_acc = 100 * correct / len(testY)\\n\\nprint(f'test_loss:{test_loss}, test_acc:{test_acc}')\\n\""
            ]
          },
          "metadata": {
            "tags": []
          },
          "execution_count": 102
        }
      ]
    },
    {
      "cell_type": "code",
      "metadata": {
        "colab": {
          "base_uri": "https://localhost:8080/",
          "height": 294
        },
        "id": "h2_jGBv_XfS3",
        "outputId": "c4cd8d17-5d53-4181-d129-d9706a236452"
      },
      "source": [
        "model.eval()\r\n",
        "train_predict = model(dataX)\r\n",
        "\r\n",
        "data_predict = train_predict.data.cpu()\r\n",
        "dataY_plot = dataY.data.cpu()\r\n",
        "\r\n",
        "data_predict = scaler.inverse_transform(data_predict)\r\n",
        "dataY_plot = scaler.inverse_transform(dataY_plot)\r\n",
        "\r\n",
        "plt.axvline(x=train_size, c='r', linestyle='--')\r\n",
        "\r\n",
        "plt.plot(dataY_plot)\r\n",
        "plt.plot(data_predict)\r\n",
        "plt.suptitle('Time-Series Prediction')\r\n",
        "plt.show()"
      ],
      "execution_count": 103,
      "outputs": [
        {
          "output_type": "display_data",
          "data": {
            "image/png": "[encoded data removed]",
            "text/plain": [
              "<Figure size 432x288 with 1 Axes>"
            ]
          },
          "metadata": {
            "tags": [],
            "needs_background": "light"
          }
        }
      ]
    }
  ]
}