{
  "nbformat": 4,
  "nbformat_minor": 0,
  "metadata": {
    "colab": {
      "name": "image_classification.ipynb",
      "provenance": [],
      "toc_visible": true,
      "authorship_tag": "ABX9TyMHaOdlWoid+F1ki0hDILFx",
      "include_colab_link": true
    },
    "kernelspec": {
      "name": "python3",
      "display_name": "Python 3"
    }
  },
  "cells": [
    {
      "cell_type": "markdown",
      "metadata": {
        "id": "view-in-github",
        "colab_type": "text"
      },
      "source": [
        "<a href=\"https://colab.research.google.com/github/musicjae/intro_to_python/blob/master/Pytorch/image_classification.ipynb\" target=\"_parent\"><img src=\"https://colab.research.google.com/assets/colab-badge.svg\" alt=\"Open In Colab\"/></a>"
      ]
    },
    {
      "cell_type": "markdown",
      "metadata": {
        "id": "hJI6WzD30uY1"
      },
      "source": [
        "https://github.com/zergtant/pytorch-handbook/blob/master/chapter1/neural_networks_tutorial.ipynb"
      ]
    },
    {
      "cell_type": "code",
      "metadata": {
        "id": "1cc9-tMEzU4j"
      },
      "source": [
        "import torch\r\n",
        "import torch.nn as nn\r\n",
        "import torch.nn.functional as F\r\n",
        "import torch.optim as optim\r\n",
        "import torch.utils.data as data\r\n",
        "\r\n",
        "import torchvision.transforms as transforms\r\n",
        "import torchvision.datasets as datasets\r\n",
        "\r\n",
        "from sklearn import metrics\r\n",
        "from sklearn import decomposition\r\n",
        "from sklearn import manifold\r\n",
        "import matplotlib.pyplot as plt\r\n",
        "import numpy as np\r\n",
        "\r\n",
        "import copy\r\n",
        "import random\r\n",
        "import time\r\n"
      ],
      "execution_count": 214,
      "outputs": []
    },
    {
      "cell_type": "markdown",
      "metadata": {
        "id": "7YfFKDhU3uKd"
      },
      "source": [
        "# 1 Data Load"
      ]
    },
    {
      "cell_type": "code",
      "metadata": {
        "id": "1VKxwuDG33XF"
      },
      "source": [
        "SEED = 42\r\n",
        "\r\n",
        "random.seed(SEED)\r\n",
        "np.random.seed(SEED)\r\n",
        "torch.manual_seed(SEED)\r\n",
        "torch.cuda.manual_seed(SEED)\r\n",
        "torch.backends.cudnn.deterministic = True"
      ],
      "execution_count": 215,
      "outputs": []
    },
    {
      "cell_type": "code",
      "metadata": {
        "id": "Df9u9YMj396s"
      },
      "source": [
        "ROOT = '.data'\r\n",
        "\r\n",
        "train_data = datasets.MNIST(root = ROOT, \r\n",
        "                            train = True, \r\n",
        "                            download = True)\r\n",
        "\r\n",
        "test_data = datasets.MNIST(root=ROOT,\r\n",
        "                           train=False,\r\n",
        "                           download=True\r\n",
        "                           )"
      ],
      "execution_count": 216,
      "outputs": []
    },
    {
      "cell_type": "markdown",
      "metadata": {
        "id": "EOOFgqG443Ft"
      },
      "source": [
        " Normalizing our data allows our models to train faster and to also help them avoid local minima, i.e. train more reliably."
      ]
    },
    {
      "cell_type": "markdown",
      "metadata": {
        "id": "X-CrXevT5GV3"
      },
      "source": [
        "- To calculate the means and standard deviations we get the actual data (the images) using the .data. attribute of our training data, convert them into floating point numbers and then use the built in mean and std functions"
      ]
    },
    {
      "cell_type": "markdown",
      "metadata": {
        "id": "mjMIpomE57Xz"
      },
      "source": [
        "# Preprocessing\r\n"
      ]
    },
    {
      "cell_type": "markdown",
      "metadata": {
        "id": "MzsJj4yW548m"
      },
      "source": [
        "## mean,std"
      ]
    },
    {
      "cell_type": "code",
      "metadata": {
        "id": "WeAOlINr5ITI"
      },
      "source": [
        "mean = train_data.data.float().mean()/255\r\n",
        "std = train_data.data.float().std()/255"
      ],
      "execution_count": 217,
      "outputs": []
    },
    {
      "cell_type": "code",
      "metadata": {
        "colab": {
          "base_uri": "https://localhost:8080/"
        },
        "id": "QZcFAlmC5Y1V",
        "outputId": "01cd87c6-9814-400d-fe36-a0537690a4cb"
      },
      "source": [
        "print(mean, std)"
      ],
      "execution_count": 218,
      "outputs": [
        {
          "output_type": "stream",
          "text": [
            "tensor(0.1307) tensor(0.3081)\n"
          ],
          "name": "stdout"
        }
      ]
    },
    {
      "cell_type": "markdown",
      "metadata": {
        "id": "A-IwPguf528e"
      },
      "source": [
        "## transforms"
      ]
    },
    {
      "cell_type": "markdown",
      "metadata": {
        "id": "gfQ204kW5mqy"
      },
      "source": [
        "- A transform states how our data should be augmented and processed  \r\n",
        "- We use transforms.Compose to built a list of transformations that will be applied to the image."
      ]
    },
    {
      "cell_type": "code",
      "metadata": {
        "id": "TLcfpq756pCB"
      },
      "source": [
        "train_transforms = transforms.Compose([\r\n",
        "                            transforms.ToTensor(),\r\n",
        "                            transforms.Normalize(mean = [mean], std = [std])\r\n",
        "                                      ])\r\n",
        "\r\n",
        "test_transforms = transforms.Compose([\r\n",
        "                           transforms.ToTensor(),\r\n",
        "                           transforms.Normalize(mean = [mean], std = [std])\r\n",
        "                                     ])"
      ],
      "execution_count": 274,
      "outputs": []
    },
    {
      "cell_type": "code",
      "metadata": {
        "id": "lASLJtYQ6rb8"
      },
      "source": [
        "ROOT = '.data'\r\n",
        "\r\n",
        "train_data = datasets.MNIST(root = ROOT, \r\n",
        "                            train = True, \r\n",
        "                            download = True,\r\n",
        "                            transform = train_transforms)\r\n",
        "\r\n",
        "test_data = datasets.MNIST(root=ROOT,\r\n",
        "                           train=False,\r\n",
        "                           download=True,\r\n",
        "                           transform = test_transforms\r\n",
        "                           )"
      ],
      "execution_count": 260,
      "outputs": []
    },
    {
      "cell_type": "code",
      "metadata": {
        "colab": {
          "base_uri": "https://localhost:8080/",
          "height": 248
        },
        "id": "_wWrzOqx66Ej",
        "outputId": "6ae62cbc-80d2-476b-87a4-6a3ff9c24b5d"
      },
      "source": [
        "def plot_images(images):\r\n",
        "\r\n",
        "    n_images = len(images)\r\n",
        "\r\n",
        "    rows = int(np.sqrt(n_images))\r\n",
        "    cols = int(np.sqrt(n_images))\r\n",
        "\r\n",
        "    fig = plt.figure()\r\n",
        "    for i in range(rows*cols):\r\n",
        "        ax = fig.add_subplot(rows, cols, i+1)\r\n",
        "        ax.imshow(images[i].view(28, 28).cpu().numpy(), cmap = 'bone')\r\n",
        "        ax.axis('off')\r\n",
        "\r\n",
        "N_IMAGES = 10\r\n",
        "\r\n",
        "images = [image for image, label in [train_data[i] for i in range(N_IMAGES)]] \r\n",
        "\r\n",
        "plot_images(images)"
      ],
      "execution_count": 261,
      "outputs": [
        {
          "output_type": "display_data",
          "data": {
            "image/png": "[encoded data removed]",
            "text/plain": [
              "<Figure size 432x288 with 9 Axes>"
            ]
          },
          "metadata": {
            "tags": [],
            "needs_background": "light"
          }
        }
      ]
    },
    {
      "cell_type": "markdown",
      "metadata": {
        "id": "yp1xTOrO7iBP"
      },
      "source": [
        "## split dataset"
      ]
    },
    {
      "cell_type": "code",
      "metadata": {
        "id": "hlI_Lfjf7jaG"
      },
      "source": [
        "VAL_RATE = 0.9\r\n",
        "n_train_ex = int(len(train_data)*VAL_RATE)\r\n",
        "n_val_ex = len(train_data) - n_train_ex\r\n",
        "train_data, valid_data = data.random_split(train_data,[n_train_ex, n_val_ex])"
      ],
      "execution_count": 262,
      "outputs": []
    },
    {
      "cell_type": "code",
      "metadata": {
        "colab": {
          "base_uri": "https://localhost:8080/"
        },
        "id": "kPnBhxfo8tID",
        "outputId": "6cb6bd7a-a4cd-4949-e981-d9647bf2ca3e"
      },
      "source": [
        "print(f'Number of training examples: {len(train_data)}')\r\n",
        "print(f'Number of validation examples: {len(valid_data)}')\r\n",
        "print(f'Number of testing examples: {len(test_data)}')"
      ],
      "execution_count": 263,
      "outputs": [
        {
          "output_type": "stream",
          "text": [
            "Number of training examples: 54000\n",
            "Number of validation examples: 6000\n",
            "Number of testing examples: 10000\n"
          ],
          "name": "stdout"
        }
      ]
    },
    {
      "cell_type": "markdown",
      "metadata": {
        "id": "BJIi96Wf9XID"
      },
      "source": [
        "As the validation set is a Subset of the training set, if we change the transforms of one then by default Torchvision will change the transforms of the other. To stop this from happening we make a deepcopy of the validation data."
      ]
    },
    {
      "cell_type": "code",
      "metadata": {
        "id": "E7rBtIui9CSW"
      },
      "source": [
        "valid_data = copy.deepcopy(valid_data)\r\n",
        "valid_data.dataset.transform = test_transforms"
      ],
      "execution_count": 264,
      "outputs": []
    },
    {
      "cell_type": "code",
      "metadata": {
        "colab": {
          "base_uri": "https://localhost:8080/"
        },
        "id": "foImnroQ9a7S",
        "outputId": "806e3d03-a95e-4167-e4de-b8164eed89d6"
      },
      "source": [
        "print(type(train_data))"
      ],
      "execution_count": 265,
      "outputs": [
        {
          "output_type": "stream",
          "text": [
            "torch.utils.data.dataset.Subset\n"
          ],
          "name": "stdout"
        }
      ]
    },
    {
      "cell_type": "markdown",
      "metadata": {
        "id": "SVy3Bu6G936k"
      },
      "source": [
        "## dataloader"
      ]
    },
    {
      "cell_type": "code",
      "metadata": {
        "id": "xearq_Xn94-2"
      },
      "source": [
        "BATCH_SIZE = 50\r\n",
        "\r\n",
        "train_iterator = data.DataLoader(train_data,\r\n",
        "                                 shuffle = True,\r\n",
        "                                 batch_size = BATCH_SIZE)\r\n",
        "\r\n",
        "valid_iterator = data.DataLoader(valid_data,\r\n",
        "                                 batch_size = BATCH_SIZE)\r\n",
        "\r\n",
        "test_iterator = data.DataLoader(test_data,\r\n",
        "                                 batch_size = BATCH_SIZE)"
      ],
      "execution_count": 286,
      "outputs": []
    },
    {
      "cell_type": "markdown",
      "metadata": {
        "id": "IB_fKdkT3w27"
      },
      "source": [
        "# Model"
      ]
    },
    {
      "cell_type": "code",
      "metadata": {
        "colab": {
          "base_uri": "https://localhost:8080/"
        },
        "id": "LvoBR1fBz8eI",
        "outputId": "8a670a18-7eec-4b98-cdb7-0366e8239fd0"
      },
      "source": [
        "class Net(nn.Module):\r\n",
        "    def __init__(self):\r\n",
        "        super(Net,self).__init__()\r\n",
        "        self.conv1 = nn.Conv2d(1,10,5)\r\n",
        "        self.bn1 = nn.BatchNorm2d(10)\r\n",
        "        self.conv2 = nn.Conv2d(10,20,3)\r\n",
        "        self.bn2 = nn.BatchNorm2d(20)\r\n",
        "        #affine\r\n",
        "        self.fc1 = nn.Linear(64,500)\r\n",
        "        self.fc2 = nn.Linear(500,10)\r\n",
        "\r\n",
        "    def forward(self, x):\r\n",
        "\r\n",
        "        #x = x.permute(0,1,2,3)\r\n",
        "        x = self.conv1(x)\r\n",
        "        x = self.bn1(x)\r\n",
        "        x = F.relu(x)\r\n",
        "        x = F.max_pool2d(x,2,2) # # batch*10*24*24 -> batch*10*12*12\r\n",
        "\r\n",
        "        x = self.conv2(x)\r\n",
        "        x = self.bn2(x)\r\n",
        "        x = F.relu(x)\r\n",
        "        x = F.max_pool2d(x,2,2)\r\n",
        "\r\n",
        "        x = x.view(-1, 16*2*2) # Flattening  # batch*20*10*10 -> batch*2000（\r\n",
        "        #x = x.Flattening(x)\r\n",
        "        x = F.relu(self.fc1(x))\r\n",
        "        x = self.fc2(x)\r\n",
        "\r\n",
        "        \r\n",
        "        return F.log_softmax(x,dim=1)\r\n",
        "\r\n",
        "model = Net()\r\n",
        "print(model)"
      ],
      "execution_count": 287,
      "outputs": [
        {
          "output_type": "stream",
          "text": [
            "Net(\n",
            "  (conv1): Conv2d(1, 10, kernel_size=(5, 5), stride=(1, 1))\n",
            "  (bn1): BatchNorm2d(10, eps=1e-05, momentum=0.1, affine=True, track_running_stats=True)\n",
            "  (conv2): Conv2d(10, 20, kernel_size=(3, 3), stride=(1, 1))\n",
            "  (bn2): BatchNorm2d(20, eps=1e-05, momentum=0.1, affine=True, track_running_stats=True)\n",
            "  (fc1): Linear(in_features=64, out_features=500, bias=True)\n",
            "  (fc2): Linear(in_features=500, out_features=10, bias=True)\n",
            ")\n"
          ],
          "name": "stdout"
        }
      ]
    },
    {
      "cell_type": "code",
      "metadata": {
        "colab": {
          "base_uri": "https://localhost:8080/"
        },
        "id": "EBzaBC0mBT3H",
        "outputId": "6b60e396-5760-43a4-8fef-eed0db3a4e7a"
      },
      "source": [
        "def count_parameters(model):\r\n",
        "    return sum(p.numel() for p in model.parameters() if p.requires_grad)\r\n",
        "\r\n",
        "print(count_parameters(model))"
      ],
      "execution_count": 268,
      "outputs": [
        {
          "output_type": "stream",
          "text": [
            "2425914\n"
          ],
          "name": "stdout"
        }
      ]
    },
    {
      "cell_type": "markdown",
      "metadata": {
        "id": "y4S18LV0C_OP"
      },
      "source": [
        "# preparing"
      ]
    },
    {
      "cell_type": "code",
      "metadata": {
        "id": "6zCw9iCBDAUH"
      },
      "source": [
        "optimizer = optim.Adam(model.parameters(), lr=0.01)\r\n",
        "criterion = nn.CrossEntropyLoss()\r\n",
        "device = torch.device('cuda' if torch.cuda.is_available() else 'cpu')"
      ],
      "execution_count": 288,
      "outputs": []
    },
    {
      "cell_type": "code",
      "metadata": {
        "colab": {
          "base_uri": "https://localhost:8080/"
        },
        "id": "nTLYxKxkDPkC",
        "outputId": "58759a9f-0d4a-4fb9-82e5-1e742c81fd84"
      },
      "source": [
        "model.to(device)\r\n",
        "criterion.to(device)"
      ],
      "execution_count": 289,
      "outputs": [
        {
          "output_type": "execute_result",
          "data": {
            "text/plain": [
              "CrossEntropyLoss()"
            ]
          },
          "metadata": {
            "tags": []
          },
          "execution_count": 289
        }
      ]
    },
    {
      "cell_type": "code",
      "metadata": {
        "id": "H3_vhYlUDTNq"
      },
      "source": [
        "def train(model, iterator, optimizer, criterion, device):\r\n",
        "\r\n",
        "    epoch_loss=0\r\n",
        "    \r\n",
        "    model.train()\r\n",
        "    for (x,y) in iterator:\r\n",
        "        x=x.to(device)\r\n",
        "        y=y.to(device)\r\n",
        "\r\n",
        "        optimizer.zero_grad()\r\n",
        "        y_pred = model(x)\r\n",
        "    \r\n",
        "        loss = criterion(y_pred, y)\r\n",
        "        loss.backward()\r\n",
        "        optimizer.step()\r\n",
        "\r\n",
        "        epoch_loss += loss.item()\r\n",
        "\r\n",
        "    return epoch_loss/len(iterator)"
      ],
      "execution_count": 290,
      "outputs": []
    },
    {
      "cell_type": "code",
      "metadata": {
        "id": "txN-YxIqEaqV"
      },
      "source": [
        "def evaluate(model, iterator, optimizer, criterion, device):\r\n",
        "\r\n",
        "    epoch_loss=0\r\n",
        "    \r\n",
        "    model.eval()\r\n",
        "\r\n",
        "    with torch.no_grad():\r\n",
        "\r\n",
        "        for (x,y) in iterator:\r\n",
        "            x=x.to(device)\r\n",
        "            y=y.to(device)\r\n",
        "\r\n",
        "            y_pred = model(x)\r\n",
        "    \r\n",
        "            loss = criterion(y_pred, y)\r\n",
        "\r\n",
        "            epoch_loss += loss.item()\r\n",
        "\r\n",
        "    return epoch_loss/len(iterator)"
      ],
      "execution_count": 291,
      "outputs": []
    },
    {
      "cell_type": "markdown",
      "metadata": {
        "id": "19HD5Z0HFt06"
      },
      "source": [
        "# Train & Eval"
      ]
    },
    {
      "cell_type": "code",
      "metadata": {
        "colab": {
          "base_uri": "https://localhost:8080/",
          "height": 394
        },
        "id": "GbgwkSBIFC_u",
        "outputId": "a0dda93a-3128-424f-a4d1-40157fbaa27d"
      },
      "source": [
        "EPOCHS = 10\r\n",
        "\r\n",
        "for epoch in range(EPOCHS):\r\n",
        "\r\n",
        "    train_loss = train(model,train_iterator,optimizer,criterion,device)\r\n",
        "    valid_loss = evaluate(model, valid_iterator,criterion, device)\r\n",
        "\r\n",
        "    print(f'Epoch: {epoch+1:02}')\r\n",
        "    print(f'\\tTrain Loss: {train_loss:.3f}')\r\n",
        "    print(f'\\t Val. Loss: {valid_loss:.3f}')"
      ],
      "execution_count": 292,
      "outputs": [
        {
          "output_type": "error",
          "ename": "RuntimeError",
          "evalue": "ignored",
          "traceback": [
            "\u001b[0;31m---------------------------------------------------------------------------\u001b[0m",
            "\u001b[0;31mRuntimeError\u001b[0m                              Traceback (most recent call last)",
            "\u001b[0;32m<ipython-input-292-7666acb274fe>\u001b[0m in \u001b[0;36m<module>\u001b[0;34m()\u001b[0m\n\u001b[1;32m      3\u001b[0m \u001b[0;32mfor\u001b[0m \u001b[0mepoch\u001b[0m \u001b[0;32min\u001b[0m \u001b[0mrange\u001b[0m\u001b[0;34m(\u001b[0m\u001b[0mEPOCHS\u001b[0m\u001b[0;34m)\u001b[0m\u001b[0;34m:\u001b[0m\u001b[0;34m\u001b[0m\u001b[0;34m\u001b[0m\u001b[0m\n\u001b[1;32m      4\u001b[0m \u001b[0;34m\u001b[0m\u001b[0m\n\u001b[0;32m----> 5\u001b[0;31m     \u001b[0mtrain_loss\u001b[0m \u001b[0;34m=\u001b[0m \u001b[0mtrain\u001b[0m\u001b[0;34m(\u001b[0m\u001b[0mmodel\u001b[0m\u001b[0;34m,\u001b[0m\u001b[0mtrain_iterator\u001b[0m\u001b[0;34m,\u001b[0m\u001b[0moptimizer\u001b[0m\u001b[0;34m,\u001b[0m\u001b[0mcriterion\u001b[0m\u001b[0;34m,\u001b[0m\u001b[0mdevice\u001b[0m\u001b[0;34m)\u001b[0m\u001b[0;34m\u001b[0m\u001b[0;34m\u001b[0m\u001b[0m\n\u001b[0m\u001b[1;32m      6\u001b[0m     \u001b[0mvalid_loss\u001b[0m \u001b[0;34m=\u001b[0m \u001b[0mevaluate\u001b[0m\u001b[0;34m(\u001b[0m\u001b[0mmodel\u001b[0m\u001b[0;34m,\u001b[0m \u001b[0mvalid_iterator\u001b[0m\u001b[0;34m,\u001b[0m\u001b[0mcriterion\u001b[0m\u001b[0;34m,\u001b[0m \u001b[0mdevice\u001b[0m\u001b[0;34m)\u001b[0m\u001b[0;34m\u001b[0m\u001b[0;34m\u001b[0m\u001b[0m\n\u001b[1;32m      7\u001b[0m \u001b[0;34m\u001b[0m\u001b[0m\n",
            "\u001b[0;32m<ipython-input-290-6082c70d1b82>\u001b[0m in \u001b[0;36mtrain\u001b[0;34m(model, iterator, optimizer, criterion, device)\u001b[0m\n\u001b[1;32m      9\u001b[0m \u001b[0;34m\u001b[0m\u001b[0m\n\u001b[1;32m     10\u001b[0m         \u001b[0moptimizer\u001b[0m\u001b[0;34m.\u001b[0m\u001b[0mzero_grad\u001b[0m\u001b[0;34m(\u001b[0m\u001b[0;34m)\u001b[0m\u001b[0;34m\u001b[0m\u001b[0;34m\u001b[0m\u001b[0m\n\u001b[0;32m---> 11\u001b[0;31m         \u001b[0my_pred\u001b[0m \u001b[0;34m=\u001b[0m \u001b[0mmodel\u001b[0m\u001b[0;34m(\u001b[0m\u001b[0mx\u001b[0m\u001b[0;34m)\u001b[0m\u001b[0;34m\u001b[0m\u001b[0;34m\u001b[0m\u001b[0m\n\u001b[0m\u001b[1;32m     12\u001b[0m \u001b[0;34m\u001b[0m\u001b[0m\n\u001b[1;32m     13\u001b[0m         \u001b[0mloss\u001b[0m \u001b[0;34m=\u001b[0m \u001b[0mcriterion\u001b[0m\u001b[0;34m(\u001b[0m\u001b[0my_pred\u001b[0m\u001b[0;34m,\u001b[0m \u001b[0my\u001b[0m\u001b[0;34m)\u001b[0m\u001b[0;34m\u001b[0m\u001b[0;34m\u001b[0m\u001b[0m\n",
            "\u001b[0;32m/usr/local/lib/python3.6/dist-packages/torch/nn/modules/module.py\u001b[0m in \u001b[0;36m_call_impl\u001b[0;34m(self, *input, **kwargs)\u001b[0m\n\u001b[1;32m    725\u001b[0m             \u001b[0mresult\u001b[0m \u001b[0;34m=\u001b[0m \u001b[0mself\u001b[0m\u001b[0;34m.\u001b[0m\u001b[0m_slow_forward\u001b[0m\u001b[0;34m(\u001b[0m\u001b[0;34m*\u001b[0m\u001b[0minput\u001b[0m\u001b[0;34m,\u001b[0m \u001b[0;34m**\u001b[0m\u001b[0mkwargs\u001b[0m\u001b[0;34m)\u001b[0m\u001b[0;34m\u001b[0m\u001b[0;34m\u001b[0m\u001b[0m\n\u001b[1;32m    726\u001b[0m         \u001b[0;32melse\u001b[0m\u001b[0;34m:\u001b[0m\u001b[0;34m\u001b[0m\u001b[0;34m\u001b[0m\u001b[0m\n\u001b[0;32m--> 727\u001b[0;31m             \u001b[0mresult\u001b[0m \u001b[0;34m=\u001b[0m \u001b[0mself\u001b[0m\u001b[0;34m.\u001b[0m\u001b[0mforward\u001b[0m\u001b[0;34m(\u001b[0m\u001b[0;34m*\u001b[0m\u001b[0minput\u001b[0m\u001b[0;34m,\u001b[0m \u001b[0;34m**\u001b[0m\u001b[0mkwargs\u001b[0m\u001b[0;34m)\u001b[0m\u001b[0;34m\u001b[0m\u001b[0;34m\u001b[0m\u001b[0m\n\u001b[0m\u001b[1;32m    728\u001b[0m         for hook in itertools.chain(\n\u001b[1;32m    729\u001b[0m                 \u001b[0m_global_forward_hooks\u001b[0m\u001b[0;34m.\u001b[0m\u001b[0mvalues\u001b[0m\u001b[0;34m(\u001b[0m\u001b[0;34m)\u001b[0m\u001b[0;34m,\u001b[0m\u001b[0;34m\u001b[0m\u001b[0;34m\u001b[0m\u001b[0m\n",
            "\u001b[0;32m<ipython-input-287-9894eb22495c>\u001b[0m in \u001b[0;36mforward\u001b[0;34m(self, x)\u001b[0m\n\u001b[1;32m     23\u001b[0m         \u001b[0mx\u001b[0m \u001b[0;34m=\u001b[0m \u001b[0mF\u001b[0m\u001b[0;34m.\u001b[0m\u001b[0mmax_pool2d\u001b[0m\u001b[0;34m(\u001b[0m\u001b[0mx\u001b[0m\u001b[0;34m,\u001b[0m\u001b[0;36m2\u001b[0m\u001b[0;34m,\u001b[0m\u001b[0;36m2\u001b[0m\u001b[0;34m)\u001b[0m\u001b[0;34m\u001b[0m\u001b[0;34m\u001b[0m\u001b[0m\n\u001b[1;32m     24\u001b[0m \u001b[0;34m\u001b[0m\u001b[0m\n\u001b[0;32m---> 25\u001b[0;31m         \u001b[0mx\u001b[0m \u001b[0;34m=\u001b[0m \u001b[0mx\u001b[0m\u001b[0;34m.\u001b[0m\u001b[0mview\u001b[0m\u001b[0;34m(\u001b[0m\u001b[0;34m-\u001b[0m\u001b[0;36m1\u001b[0m\u001b[0;34m,\u001b[0m \u001b[0;36m16\u001b[0m\u001b[0;34m*\u001b[0m\u001b[0;36m2\u001b[0m\u001b[0;34m*\u001b[0m\u001b[0;36m2\u001b[0m\u001b[0;34m)\u001b[0m \u001b[0;31m# Flattening  # batch*20*10*10 -> batch*2000（\u001b[0m\u001b[0;34m\u001b[0m\u001b[0;34m\u001b[0m\u001b[0m\n\u001b[0m\u001b[1;32m     26\u001b[0m         \u001b[0;31m#x = x.Flattening(x)\u001b[0m\u001b[0;34m\u001b[0m\u001b[0;34m\u001b[0m\u001b[0;34m\u001b[0m\u001b[0m\n\u001b[1;32m     27\u001b[0m         \u001b[0mx\u001b[0m \u001b[0;34m=\u001b[0m \u001b[0mF\u001b[0m\u001b[0;34m.\u001b[0m\u001b[0mrelu\u001b[0m\u001b[0;34m(\u001b[0m\u001b[0mself\u001b[0m\u001b[0;34m.\u001b[0m\u001b[0mfc1\u001b[0m\u001b[0;34m(\u001b[0m\u001b[0mx\u001b[0m\u001b[0;34m)\u001b[0m\u001b[0;34m)\u001b[0m\u001b[0;34m\u001b[0m\u001b[0;34m\u001b[0m\u001b[0m\n",
            "\u001b[0;31mRuntimeError\u001b[0m: shape '[-1, 64]' is invalid for input of size 25000"
          ]
        }
      ]
    }
  ]
}