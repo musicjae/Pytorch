{
  "nbformat": 4,
  "nbformat_minor": 0,
  "metadata": {
    "colab": {
      "name": "pytorch tutorial 3.ipynb",
      "provenance": [],
      "authorship_tag": "ABX9TyMr3VAi/AMi9RTGIlE+QBG/",
      "include_colab_link": true
    },
    "kernelspec": {
      "name": "python3",
      "display_name": "Python 3"
    },
    "accelerator": "GPU",
    "widgets": {
      "application/vnd.jupyter.widget-state+json": {
        "437b1f767f7543a3a154243a9c76988b": {
          "model_module": "@jupyter-widgets/controls",
          "model_name": "HBoxModel",
          "state": {
            "_view_name": "HBoxView",
            "_dom_classes": [],
            "_model_name": "HBoxModel",
            "_view_module": "@jupyter-widgets/controls",
            "_model_module_version": "1.5.0",
            "_view_count": null,
            "_view_module_version": "1.5.0",
            "box_style": "",
            "layout": "IPY_MODEL_2d25b502edcf4a4e966f8dfa24b38423",
            "_model_module": "@jupyter-widgets/controls",
            "children": [
              "IPY_MODEL_1dca2d9316334c22b0739520d5d9f61f",
              "IPY_MODEL_bf3b73af8cd94af890ebb5abc63115a1"
            ]
          }
        },
        "2d25b502edcf4a4e966f8dfa24b38423": {
          "model_module": "@jupyter-widgets/base",
          "model_name": "LayoutModel",
          "state": {
            "_view_name": "LayoutView",
            "grid_template_rows": null,
            "right": null,
            "justify_content": null,
            "_view_module": "@jupyter-widgets/base",
            "overflow": null,
            "_model_module_version": "1.2.0",
            "_view_count": null,
            "flex_flow": null,
            "width": null,
            "min_width": null,
            "border": null,
            "align_items": null,
            "bottom": null,
            "_model_module": "@jupyter-widgets/base",
            "top": null,
            "grid_column": null,
            "overflow_y": null,
            "overflow_x": null,
            "grid_auto_flow": null,
            "grid_area": null,
            "grid_template_columns": null,
            "flex": null,
            "_model_name": "LayoutModel",
            "justify_items": null,
            "grid_row": null,
            "max_height": null,
            "align_content": null,
            "visibility": null,
            "align_self": null,
            "height": null,
            "min_height": null,
            "padding": null,
            "grid_auto_rows": null,
            "grid_gap": null,
            "max_width": null,
            "order": null,
            "_view_module_version": "1.2.0",
            "grid_template_areas": null,
            "object_position": null,
            "object_fit": null,
            "grid_auto_columns": null,
            "margin": null,
            "display": null,
            "left": null
          }
        },
        "1dca2d9316334c22b0739520d5d9f61f": {
          "model_module": "@jupyter-widgets/controls",
          "model_name": "FloatProgressModel",
          "state": {
            "_view_name": "ProgressView",
            "style": "IPY_MODEL_7aac39ac0ef9464491c7d8588b3d0269",
            "_dom_classes": [],
            "description": "",
            "_model_name": "FloatProgressModel",
            "bar_style": "info",
            "max": 1,
            "_view_module": "@jupyter-widgets/controls",
            "_model_module_version": "1.5.0",
            "value": 1,
            "_view_count": null,
            "_view_module_version": "1.5.0",
            "orientation": "horizontal",
            "min": 0,
            "description_tooltip": null,
            "_model_module": "@jupyter-widgets/controls",
            "layout": "IPY_MODEL_f304e9f033ea47dd8e748b83d308ed6d"
          }
        },
        "bf3b73af8cd94af890ebb5abc63115a1": {
          "model_module": "@jupyter-widgets/controls",
          "model_name": "HTMLModel",
          "state": {
            "_view_name": "HTMLView",
            "style": "IPY_MODEL_a6a93e3000d244beb05c7e055e42c6e6",
            "_dom_classes": [],
            "description": "",
            "_model_name": "HTMLModel",
            "placeholder": "​",
            "_view_module": "@jupyter-widgets/controls",
            "_model_module_version": "1.5.0",
            "value": " 9920512/? [00:20&lt;00:00, 1433690.91it/s]",
            "_view_count": null,
            "_view_module_version": "1.5.0",
            "description_tooltip": null,
            "_model_module": "@jupyter-widgets/controls",
            "layout": "IPY_MODEL_5dad9757e3494f5982be21e85b2504d0"
          }
        },
        "7aac39ac0ef9464491c7d8588b3d0269": {
          "model_module": "@jupyter-widgets/controls",
          "model_name": "ProgressStyleModel",
          "state": {
            "_view_name": "StyleView",
            "_model_name": "ProgressStyleModel",
            "description_width": "initial",
            "_view_module": "@jupyter-widgets/base",
            "_model_module_version": "1.5.0",
            "_view_count": null,
            "_view_module_version": "1.2.0",
            "bar_color": null,
            "_model_module": "@jupyter-widgets/controls"
          }
        },
        "f304e9f033ea47dd8e748b83d308ed6d": {
          "model_module": "@jupyter-widgets/base",
          "model_name": "LayoutModel",
          "state": {
            "_view_name": "LayoutView",
            "grid_template_rows": null,
            "right": null,
            "justify_content": null,
            "_view_module": "@jupyter-widgets/base",
            "overflow": null,
            "_model_module_version": "1.2.0",
            "_view_count": null,
            "flex_flow": null,
            "width": null,
            "min_width": null,
            "border": null,
            "align_items": null,
            "bottom": null,
            "_model_module": "@jupyter-widgets/base",
            "top": null,
            "grid_column": null,
            "overflow_y": null,
            "overflow_x": null,
            "grid_auto_flow": null,
            "grid_area": null,
            "grid_template_columns": null,
            "flex": null,
            "_model_name": "LayoutModel",
            "justify_items": null,
            "grid_row": null,
            "max_height": null,
            "align_content": null,
            "visibility": null,
            "align_self": null,
            "height": null,
            "min_height": null,
            "padding": null,
            "grid_auto_rows": null,
            "grid_gap": null,
            "max_width": null,
            "order": null,
            "_view_module_version": "1.2.0",
            "grid_template_areas": null,
            "object_position": null,
            "object_fit": null,
            "grid_auto_columns": null,
            "margin": null,
            "display": null,
            "left": null
          }
        },
        "a6a93e3000d244beb05c7e055e42c6e6": {
          "model_module": "@jupyter-widgets/controls",
          "model_name": "DescriptionStyleModel",
          "state": {
            "_view_name": "StyleView",
            "_model_name": "DescriptionStyleModel",
            "description_width": "",
            "_view_module": "@jupyter-widgets/base",
            "_model_module_version": "1.5.0",
            "_view_count": null,
            "_view_module_version": "1.2.0",
            "_model_module": "@jupyter-widgets/controls"
          }
        },
        "5dad9757e3494f5982be21e85b2504d0": {
          "model_module": "@jupyter-widgets/base",
          "model_name": "LayoutModel",
          "state": {
            "_view_name": "LayoutView",
            "grid_template_rows": null,
            "right": null,
            "justify_content": null,
            "_view_module": "@jupyter-widgets/base",
            "overflow": null,
            "_model_module_version": "1.2.0",
            "_view_count": null,
            "flex_flow": null,
            "width": null,
            "min_width": null,
            "border": null,
            "align_items": null,
            "bottom": null,
            "_model_module": "@jupyter-widgets/base",
            "top": null,
            "grid_column": null,
            "overflow_y": null,
            "overflow_x": null,
            "grid_auto_flow": null,
            "grid_area": null,
            "grid_template_columns": null,
            "flex": null,
            "_model_name": "LayoutModel",
            "justify_items": null,
            "grid_row": null,
            "max_height": null,
            "align_content": null,
            "visibility": null,
            "align_self": null,
            "height": null,
            "min_height": null,
            "padding": null,
            "grid_auto_rows": null,
            "grid_gap": null,
            "max_width": null,
            "order": null,
            "_view_module_version": "1.2.0",
            "grid_template_areas": null,
            "object_position": null,
            "object_fit": null,
            "grid_auto_columns": null,
            "margin": null,
            "display": null,
            "left": null
          }
        },
        "3b092cf26b3448799d2bf53e7bf57610": {
          "model_module": "@jupyter-widgets/controls",
          "model_name": "HBoxModel",
          "state": {
            "_view_name": "HBoxView",
            "_dom_classes": [],
            "_model_name": "HBoxModel",
            "_view_module": "@jupyter-widgets/controls",
            "_model_module_version": "1.5.0",
            "_view_count": null,
            "_view_module_version": "1.5.0",
            "box_style": "",
            "layout": "IPY_MODEL_fbca379003584e01a57db38d2ac89b17",
            "_model_module": "@jupyter-widgets/controls",
            "children": [
              "IPY_MODEL_550e35471d7d477ba3605f7bd6e694c3",
              "IPY_MODEL_ac564ab5aeca43d0ae12dafa6f405eb2"
            ]
          }
        },
        "fbca379003584e01a57db38d2ac89b17": {
          "model_module": "@jupyter-widgets/base",
          "model_name": "LayoutModel",
          "state": {
            "_view_name": "LayoutView",
            "grid_template_rows": null,
            "right": null,
            "justify_content": null,
            "_view_module": "@jupyter-widgets/base",
            "overflow": null,
            "_model_module_version": "1.2.0",
            "_view_count": null,
            "flex_flow": null,
            "width": null,
            "min_width": null,
            "border": null,
            "align_items": null,
            "bottom": null,
            "_model_module": "@jupyter-widgets/base",
            "top": null,
            "grid_column": null,
            "overflow_y": null,
            "overflow_x": null,
            "grid_auto_flow": null,
            "grid_area": null,
            "grid_template_columns": null,
            "flex": null,
            "_model_name": "LayoutModel",
            "justify_items": null,
            "grid_row": null,
            "max_height": null,
            "align_content": null,
            "visibility": null,
            "align_self": null,
            "height": null,
            "min_height": null,
            "padding": null,
            "grid_auto_rows": null,
            "grid_gap": null,
            "max_width": null,
            "order": null,
            "_view_module_version": "1.2.0",
            "grid_template_areas": null,
            "object_position": null,
            "object_fit": null,
            "grid_auto_columns": null,
            "margin": null,
            "display": null,
            "left": null
          }
        },
        "550e35471d7d477ba3605f7bd6e694c3": {
          "model_module": "@jupyter-widgets/controls",
          "model_name": "FloatProgressModel",
          "state": {
            "_view_name": "ProgressView",
            "style": "IPY_MODEL_48e5d701b0af4989aee222d814928668",
            "_dom_classes": [],
            "description": "",
            "_model_name": "FloatProgressModel",
            "bar_style": "success",
            "max": 1,
            "_view_module": "@jupyter-widgets/controls",
            "_model_module_version": "1.5.0",
            "value": 1,
            "_view_count": null,
            "_view_module_version": "1.5.0",
            "orientation": "horizontal",
            "min": 0,
            "description_tooltip": null,
            "_model_module": "@jupyter-widgets/controls",
            "layout": "IPY_MODEL_baf4ccbefb214416b674e6a238da1565"
          }
        },
        "ac564ab5aeca43d0ae12dafa6f405eb2": {
          "model_module": "@jupyter-widgets/controls",
          "model_name": "HTMLModel",
          "state": {
            "_view_name": "HTMLView",
            "style": "IPY_MODEL_925a59c8fafc43489be35d2c9e390658",
            "_dom_classes": [],
            "description": "",
            "_model_name": "HTMLModel",
            "placeholder": "​",
            "_view_module": "@jupyter-widgets/controls",
            "_model_module_version": "1.5.0",
            "value": " 32768/? [00:06&lt;00:00, 4988.98it/s]",
            "_view_count": null,
            "_view_module_version": "1.5.0",
            "description_tooltip": null,
            "_model_module": "@jupyter-widgets/controls",
            "layout": "IPY_MODEL_e4477f45a1624ef28fbe5d2caf25bed8"
          }
        },
        "48e5d701b0af4989aee222d814928668": {
          "model_module": "@jupyter-widgets/controls",
          "model_name": "ProgressStyleModel",
          "state": {
            "_view_name": "StyleView",
            "_model_name": "ProgressStyleModel",
            "description_width": "initial",
            "_view_module": "@jupyter-widgets/base",
            "_model_module_version": "1.5.0",
            "_view_count": null,
            "_view_module_version": "1.2.0",
            "bar_color": null,
            "_model_module": "@jupyter-widgets/controls"
          }
        },
        "baf4ccbefb214416b674e6a238da1565": {
          "model_module": "@jupyter-widgets/base",
          "model_name": "LayoutModel",
          "state": {
            "_view_name": "LayoutView",
            "grid_template_rows": null,
            "right": null,
            "justify_content": null,
            "_view_module": "@jupyter-widgets/base",
            "overflow": null,
            "_model_module_version": "1.2.0",
            "_view_count": null,
            "flex_flow": null,
            "width": null,
            "min_width": null,
            "border": null,
            "align_items": null,
            "bottom": null,
            "_model_module": "@jupyter-widgets/base",
            "top": null,
            "grid_column": null,
            "overflow_y": null,
            "overflow_x": null,
            "grid_auto_flow": null,
            "grid_area": null,
            "grid_template_columns": null,
            "flex": null,
            "_model_name": "LayoutModel",
            "justify_items": null,
            "grid_row": null,
            "max_height": null,
            "align_content": null,
            "visibility": null,
            "align_self": null,
            "height": null,
            "min_height": null,
            "padding": null,
            "grid_auto_rows": null,
            "grid_gap": null,
            "max_width": null,
            "order": null,
            "_view_module_version": "1.2.0",
            "grid_template_areas": null,
            "object_position": null,
            "object_fit": null,
            "grid_auto_columns": null,
            "margin": null,
            "display": null,
            "left": null
          }
        },
        "925a59c8fafc43489be35d2c9e390658": {
          "model_module": "@jupyter-widgets/controls",
          "model_name": "DescriptionStyleModel",
          "state": {
            "_view_name": "StyleView",
            "_model_name": "DescriptionStyleModel",
            "description_width": "",
            "_view_module": "@jupyter-widgets/base",
            "_model_module_version": "1.5.0",
            "_view_count": null,
            "_view_module_version": "1.2.0",
            "_model_module": "@jupyter-widgets/controls"
          }
        },
        "e4477f45a1624ef28fbe5d2caf25bed8": {
          "model_module": "@jupyter-widgets/base",
          "model_name": "LayoutModel",
          "state": {
            "_view_name": "LayoutView",
            "grid_template_rows": null,
            "right": null,
            "justify_content": null,
            "_view_module": "@jupyter-widgets/base",
            "overflow": null,
            "_model_module_version": "1.2.0",
            "_view_count": null,
            "flex_flow": null,
            "width": null,
            "min_width": null,
            "border": null,
            "align_items": null,
            "bottom": null,
            "_model_module": "@jupyter-widgets/base",
            "top": null,
            "grid_column": null,
            "overflow_y": null,
            "overflow_x": null,
            "grid_auto_flow": null,
            "grid_area": null,
            "grid_template_columns": null,
            "flex": null,
            "_model_name": "LayoutModel",
            "justify_items": null,
            "grid_row": null,
            "max_height": null,
            "align_content": null,
            "visibility": null,
            "align_self": null,
            "height": null,
            "min_height": null,
            "padding": null,
            "grid_auto_rows": null,
            "grid_gap": null,
            "max_width": null,
            "order": null,
            "_view_module_version": "1.2.0",
            "grid_template_areas": null,
            "object_position": null,
            "object_fit": null,
            "grid_auto_columns": null,
            "margin": null,
            "display": null,
            "left": null
          }
        },
        "ec2bb6eab0d84c58bf1b51430c59a63d": {
          "model_module": "@jupyter-widgets/controls",
          "model_name": "HBoxModel",
          "state": {
            "_view_name": "HBoxView",
            "_dom_classes": [],
            "_model_name": "HBoxModel",
            "_view_module": "@jupyter-widgets/controls",
            "_model_module_version": "1.5.0",
            "_view_count": null,
            "_view_module_version": "1.5.0",
            "box_style": "",
            "layout": "IPY_MODEL_a78f80452a244848b27289ca94c5e941",
            "_model_module": "@jupyter-widgets/controls",
            "children": [
              "IPY_MODEL_9a2b5621ce2849a5b8e6e7c8aca05716",
              "IPY_MODEL_e5b3aab866484a8ba395d8b428423e14"
            ]
          }
        },
        "a78f80452a244848b27289ca94c5e941": {
          "model_module": "@jupyter-widgets/base",
          "model_name": "LayoutModel",
          "state": {
            "_view_name": "LayoutView",
            "grid_template_rows": null,
            "right": null,
            "justify_content": null,
            "_view_module": "@jupyter-widgets/base",
            "overflow": null,
            "_model_module_version": "1.2.0",
            "_view_count": null,
            "flex_flow": null,
            "width": null,
            "min_width": null,
            "border": null,
            "align_items": null,
            "bottom": null,
            "_model_module": "@jupyter-widgets/base",
            "top": null,
            "grid_column": null,
            "overflow_y": null,
            "overflow_x": null,
            "grid_auto_flow": null,
            "grid_area": null,
            "grid_template_columns": null,
            "flex": null,
            "_model_name": "LayoutModel",
            "justify_items": null,
            "grid_row": null,
            "max_height": null,
            "align_content": null,
            "visibility": null,
            "align_self": null,
            "height": null,
            "min_height": null,
            "padding": null,
            "grid_auto_rows": null,
            "grid_gap": null,
            "max_width": null,
            "order": null,
            "_view_module_version": "1.2.0",
            "grid_template_areas": null,
            "object_position": null,
            "object_fit": null,
            "grid_auto_columns": null,
            "margin": null,
            "display": null,
            "left": null
          }
        },
        "9a2b5621ce2849a5b8e6e7c8aca05716": {
          "model_module": "@jupyter-widgets/controls",
          "model_name": "FloatProgressModel",
          "state": {
            "_view_name": "ProgressView",
            "style": "IPY_MODEL_5af7541129c843cdb26974628380d539",
            "_dom_classes": [],
            "description": "",
            "_model_name": "FloatProgressModel",
            "bar_style": "success",
            "max": 1,
            "_view_module": "@jupyter-widgets/controls",
            "_model_module_version": "1.5.0",
            "value": 1,
            "_view_count": null,
            "_view_module_version": "1.5.0",
            "orientation": "horizontal",
            "min": 0,
            "description_tooltip": null,
            "_model_module": "@jupyter-widgets/controls",
            "layout": "IPY_MODEL_f1efcbb84acc42a495675b4fd9389461"
          }
        },
        "e5b3aab866484a8ba395d8b428423e14": {
          "model_module": "@jupyter-widgets/controls",
          "model_name": "HTMLModel",
          "state": {
            "_view_name": "HTMLView",
            "style": "IPY_MODEL_f9376bfa8799435aa860ed39bb34f4b4",
            "_dom_classes": [],
            "description": "",
            "_model_name": "HTMLModel",
            "placeholder": "​",
            "_view_module": "@jupyter-widgets/controls",
            "_model_module_version": "1.5.0",
            "value": " 1654784/? [00:06&lt;00:00, 262561.45it/s]",
            "_view_count": null,
            "_view_module_version": "1.5.0",
            "description_tooltip": null,
            "_model_module": "@jupyter-widgets/controls",
            "layout": "IPY_MODEL_d74302c8d0154cc5b75bbcdb8286531e"
          }
        },
        "5af7541129c843cdb26974628380d539": {
          "model_module": "@jupyter-widgets/controls",
          "model_name": "ProgressStyleModel",
          "state": {
            "_view_name": "StyleView",
            "_model_name": "ProgressStyleModel",
            "description_width": "initial",
            "_view_module": "@jupyter-widgets/base",
            "_model_module_version": "1.5.0",
            "_view_count": null,
            "_view_module_version": "1.2.0",
            "bar_color": null,
            "_model_module": "@jupyter-widgets/controls"
          }
        },
        "f1efcbb84acc42a495675b4fd9389461": {
          "model_module": "@jupyter-widgets/base",
          "model_name": "LayoutModel",
          "state": {
            "_view_name": "LayoutView",
            "grid_template_rows": null,
            "right": null,
            "justify_content": null,
            "_view_module": "@jupyter-widgets/base",
            "overflow": null,
            "_model_module_version": "1.2.0",
            "_view_count": null,
            "flex_flow": null,
            "width": null,
            "min_width": null,
            "border": null,
            "align_items": null,
            "bottom": null,
            "_model_module": "@jupyter-widgets/base",
            "top": null,
            "grid_column": null,
            "overflow_y": null,
            "overflow_x": null,
            "grid_auto_flow": null,
            "grid_area": null,
            "grid_template_columns": null,
            "flex": null,
            "_model_name": "LayoutModel",
            "justify_items": null,
            "grid_row": null,
            "max_height": null,
            "align_content": null,
            "visibility": null,
            "align_self": null,
            "height": null,
            "min_height": null,
            "padding": null,
            "grid_auto_rows": null,
            "grid_gap": null,
            "max_width": null,
            "order": null,
            "_view_module_version": "1.2.0",
            "grid_template_areas": null,
            "object_position": null,
            "object_fit": null,
            "grid_auto_columns": null,
            "margin": null,
            "display": null,
            "left": null
          }
        },
        "f9376bfa8799435aa860ed39bb34f4b4": {
          "model_module": "@jupyter-widgets/controls",
          "model_name": "DescriptionStyleModel",
          "state": {
            "_view_name": "StyleView",
            "_model_name": "DescriptionStyleModel",
            "description_width": "",
            "_view_module": "@jupyter-widgets/base",
            "_model_module_version": "1.5.0",
            "_view_count": null,
            "_view_module_version": "1.2.0",
            "_model_module": "@jupyter-widgets/controls"
          }
        },
        "d74302c8d0154cc5b75bbcdb8286531e": {
          "model_module": "@jupyter-widgets/base",
          "model_name": "LayoutModel",
          "state": {
            "_view_name": "LayoutView",
            "grid_template_rows": null,
            "right": null,
            "justify_content": null,
            "_view_module": "@jupyter-widgets/base",
            "overflow": null,
            "_model_module_version": "1.2.0",
            "_view_count": null,
            "flex_flow": null,
            "width": null,
            "min_width": null,
            "border": null,
            "align_items": null,
            "bottom": null,
            "_model_module": "@jupyter-widgets/base",
            "top": null,
            "grid_column": null,
            "overflow_y": null,
            "overflow_x": null,
            "grid_auto_flow": null,
            "grid_area": null,
            "grid_template_columns": null,
            "flex": null,
            "_model_name": "LayoutModel",
            "justify_items": null,
            "grid_row": null,
            "max_height": null,
            "align_content": null,
            "visibility": null,
            "align_self": null,
            "height": null,
            "min_height": null,
            "padding": null,
            "grid_auto_rows": null,
            "grid_gap": null,
            "max_width": null,
            "order": null,
            "_view_module_version": "1.2.0",
            "grid_template_areas": null,
            "object_position": null,
            "object_fit": null,
            "grid_auto_columns": null,
            "margin": null,
            "display": null,
            "left": null
          }
        },
        "6167ec98b59b47af96b3114e55e943a3": {
          "model_module": "@jupyter-widgets/controls",
          "model_name": "HBoxModel",
          "state": {
            "_view_name": "HBoxView",
            "_dom_classes": [],
            "_model_name": "HBoxModel",
            "_view_module": "@jupyter-widgets/controls",
            "_model_module_version": "1.5.0",
            "_view_count": null,
            "_view_module_version": "1.5.0",
            "box_style": "",
            "layout": "IPY_MODEL_05a1e5ad011844d9b679860072248e08",
            "_model_module": "@jupyter-widgets/controls",
            "children": [
              "IPY_MODEL_957400baa6514afca8658346e30979f3",
              "IPY_MODEL_3bd3e02cfdbb4825a75e6b9d12914904"
            ]
          }
        },
        "05a1e5ad011844d9b679860072248e08": {
          "model_module": "@jupyter-widgets/base",
          "model_name": "LayoutModel",
          "state": {
            "_view_name": "LayoutView",
            "grid_template_rows": null,
            "right": null,
            "justify_content": null,
            "_view_module": "@jupyter-widgets/base",
            "overflow": null,
            "_model_module_version": "1.2.0",
            "_view_count": null,
            "flex_flow": null,
            "width": null,
            "min_width": null,
            "border": null,
            "align_items": null,
            "bottom": null,
            "_model_module": "@jupyter-widgets/base",
            "top": null,
            "grid_column": null,
            "overflow_y": null,
            "overflow_x": null,
            "grid_auto_flow": null,
            "grid_area": null,
            "grid_template_columns": null,
            "flex": null,
            "_model_name": "LayoutModel",
            "justify_items": null,
            "grid_row": null,
            "max_height": null,
            "align_content": null,
            "visibility": null,
            "align_self": null,
            "height": null,
            "min_height": null,
            "padding": null,
            "grid_auto_rows": null,
            "grid_gap": null,
            "max_width": null,
            "order": null,
            "_view_module_version": "1.2.0",
            "grid_template_areas": null,
            "object_position": null,
            "object_fit": null,
            "grid_auto_columns": null,
            "margin": null,
            "display": null,
            "left": null
          }
        },
        "957400baa6514afca8658346e30979f3": {
          "model_module": "@jupyter-widgets/controls",
          "model_name": "FloatProgressModel",
          "state": {
            "_view_name": "ProgressView",
            "style": "IPY_MODEL_c9bd04c6ccad488fb25da74acea8a9e5",
            "_dom_classes": [],
            "description": "",
            "_model_name": "FloatProgressModel",
            "bar_style": "success",
            "max": 1,
            "_view_module": "@jupyter-widgets/controls",
            "_model_module_version": "1.5.0",
            "value": 1,
            "_view_count": null,
            "_view_module_version": "1.5.0",
            "orientation": "horizontal",
            "min": 0,
            "description_tooltip": null,
            "_model_module": "@jupyter-widgets/controls",
            "layout": "IPY_MODEL_100b51d4c32e411facaa3d0c29c2d651"
          }
        },
        "3bd3e02cfdbb4825a75e6b9d12914904": {
          "model_module": "@jupyter-widgets/controls",
          "model_name": "HTMLModel",
          "state": {
            "_view_name": "HTMLView",
            "style": "IPY_MODEL_c9a91b1fa2984e81a20810304aaf9163",
            "_dom_classes": [],
            "description": "",
            "_model_name": "HTMLModel",
            "placeholder": "​",
            "_view_module": "@jupyter-widgets/controls",
            "_model_module_version": "1.5.0",
            "value": " 8192/? [00:05&lt;00:00, 1465.91it/s]",
            "_view_count": null,
            "_view_module_version": "1.5.0",
            "description_tooltip": null,
            "_model_module": "@jupyter-widgets/controls",
            "layout": "IPY_MODEL_0556f7072fda431a8ef111e097c7d2b5"
          }
        },
        "c9bd04c6ccad488fb25da74acea8a9e5": {
          "model_module": "@jupyter-widgets/controls",
          "model_name": "ProgressStyleModel",
          "state": {
            "_view_name": "StyleView",
            "_model_name": "ProgressStyleModel",
            "description_width": "initial",
            "_view_module": "@jupyter-widgets/base",
            "_model_module_version": "1.5.0",
            "_view_count": null,
            "_view_module_version": "1.2.0",
            "bar_color": null,
            "_model_module": "@jupyter-widgets/controls"
          }
        },
        "100b51d4c32e411facaa3d0c29c2d651": {
          "model_module": "@jupyter-widgets/base",
          "model_name": "LayoutModel",
          "state": {
            "_view_name": "LayoutView",
            "grid_template_rows": null,
            "right": null,
            "justify_content": null,
            "_view_module": "@jupyter-widgets/base",
            "overflow": null,
            "_model_module_version": "1.2.0",
            "_view_count": null,
            "flex_flow": null,
            "width": null,
            "min_width": null,
            "border": null,
            "align_items": null,
            "bottom": null,
            "_model_module": "@jupyter-widgets/base",
            "top": null,
            "grid_column": null,
            "overflow_y": null,
            "overflow_x": null,
            "grid_auto_flow": null,
            "grid_area": null,
            "grid_template_columns": null,
            "flex": null,
            "_model_name": "LayoutModel",
            "justify_items": null,
            "grid_row": null,
            "max_height": null,
            "align_content": null,
            "visibility": null,
            "align_self": null,
            "height": null,
            "min_height": null,
            "padding": null,
            "grid_auto_rows": null,
            "grid_gap": null,
            "max_width": null,
            "order": null,
            "_view_module_version": "1.2.0",
            "grid_template_areas": null,
            "object_position": null,
            "object_fit": null,
            "grid_auto_columns": null,
            "margin": null,
            "display": null,
            "left": null
          }
        },
        "c9a91b1fa2984e81a20810304aaf9163": {
          "model_module": "@jupyter-widgets/controls",
          "model_name": "DescriptionStyleModel",
          "state": {
            "_view_name": "StyleView",
            "_model_name": "DescriptionStyleModel",
            "description_width": "",
            "_view_module": "@jupyter-widgets/base",
            "_model_module_version": "1.5.0",
            "_view_count": null,
            "_view_module_version": "1.2.0",
            "_model_module": "@jupyter-widgets/controls"
          }
        },
        "0556f7072fda431a8ef111e097c7d2b5": {
          "model_module": "@jupyter-widgets/base",
          "model_name": "LayoutModel",
          "state": {
            "_view_name": "LayoutView",
            "grid_template_rows": null,
            "right": null,
            "justify_content": null,
            "_view_module": "@jupyter-widgets/base",
            "overflow": null,
            "_model_module_version": "1.2.0",
            "_view_count": null,
            "flex_flow": null,
            "width": null,
            "min_width": null,
            "border": null,
            "align_items": null,
            "bottom": null,
            "_model_module": "@jupyter-widgets/base",
            "top": null,
            "grid_column": null,
            "overflow_y": null,
            "overflow_x": null,
            "grid_auto_flow": null,
            "grid_area": null,
            "grid_template_columns": null,
            "flex": null,
            "_model_name": "LayoutModel",
            "justify_items": null,
            "grid_row": null,
            "max_height": null,
            "align_content": null,
            "visibility": null,
            "align_self": null,
            "height": null,
            "min_height": null,
            "padding": null,
            "grid_auto_rows": null,
            "grid_gap": null,
            "max_width": null,
            "order": null,
            "_view_module_version": "1.2.0",
            "grid_template_areas": null,
            "object_position": null,
            "object_fit": null,
            "grid_auto_columns": null,
            "margin": null,
            "display": null,
            "left": null
          }
        }
      }
    }
  },
  "cells": [
    {
      "cell_type": "markdown",
      "metadata": {
        "id": "view-in-github",
        "colab_type": "text"
      },
      "source": [
        "<a href=\"https://colab.research.google.com/github/musicjae/intro_to_python/blob/master/Pytorch/pytorch_tutorial_3.ipynb\" target=\"_parent\"><img src=\"https://colab.research.google.com/assets/colab-badge.svg\" alt=\"Open In Colab\"/></a>"
      ]
    },
    {
      "cell_type": "markdown",
      "metadata": {
        "id": "SI89n-2YCdLV"
      },
      "source": [
        "# References  \n",
        "[1]  https://github.com/gyunggyung/PyTorch"
      ]
    },
    {
      "cell_type": "markdown",
      "metadata": {
        "id": "szxayLdXgTfm"
      },
      "source": [
        "# 1 MNIST를 이용한 신경망"
      ]
    },
    {
      "cell_type": "code",
      "metadata": {
        "id": "s8fFGLpHe-CS",
        "outputId": "a47aba2e-4ebc-49cf-b403-d3cdb97b2730",
        "colab": {
          "base_uri": "https://localhost:8080/"
        }
      },
      "source": [
        "from google.colab import drive\n",
        "drive.mount('/content/drive')"
      ],
      "execution_count": 1,
      "outputs": [
        {
          "output_type": "stream",
          "text": [
            "Mounted at /content/drive\n"
          ],
          "name": "stdout"
        }
      ]
    },
    {
      "cell_type": "code",
      "metadata": {
        "id": "VchQiqYdfDq_"
      },
      "source": [
        "import torch\n",
        "import torch.nn.init\n",
        "from torch.autograd import Variable\n",
        "import torchvision.utils as utils\n",
        "import torchvision.datasets as dsets\n",
        "import torchvision.transforms as transforms\n",
        "torch.manual_seed(8)\n",
        "import matplotlib.pyplot as plt\n",
        "import numpy as np\n",
        "import random\n",
        "%matplotlib inline"
      ],
      "execution_count": 2,
      "outputs": []
    },
    {
      "cell_type": "code",
      "metadata": {
        "id": "ih7vaalLfVdJ"
      },
      "source": [
        "mnist_train = dsets.MNIST(root='/content/drive/My Drive/datasets/pytorch_basic/data/MNIST/',\n",
        "                          train=True,\n",
        "                          transform=transforms.ToTensor(),\n",
        "                          download=True)\n",
        "\n",
        "mnist_test = dsets.MNIST(root='/content/drive/My Drive/datasets/pytorch_basic/data/MNIST/',\n",
        "                         train=False, # testset\n",
        "                         transform=transforms.ToTensor(),\n",
        "                         download=True)"
      ],
      "execution_count": 4,
      "outputs": []
    },
    {
      "cell_type": "code",
      "metadata": {
        "id": "jcpDUulVfcvk",
        "outputId": "4059dafc-92cf-44a9-cc1d-d55fdbe94187",
        "colab": {
          "base_uri": "https://localhost:8080/"
        }
      },
      "source": [
        "mnist_train.train_data.size()"
      ],
      "execution_count": 5,
      "outputs": [
        {
          "output_type": "stream",
          "text": [
            "/usr/local/lib/python3.6/dist-packages/torchvision/datasets/mnist.py:58: UserWarning: train_data has been renamed data\n",
            "  warnings.warn(\"train_data has been renamed data\")\n"
          ],
          "name": "stderr"
        },
        {
          "output_type": "execute_result",
          "data": {
            "text/plain": [
              "torch.Size([60000, 28, 28])"
            ]
          },
          "metadata": {
            "tags": []
          },
          "execution_count": 5
        }
      ]
    },
    {
      "cell_type": "code",
      "metadata": {
        "id": "knreaKoAg1lY",
        "outputId": "ac70f3f3-5150-4dce-bc09-ddc4a40dc883",
        "colab": {
          "base_uri": "https://localhost:8080/",
          "height": 371
        }
      },
      "source": [
        "plt.imshow(mnist_train.train_data[0].numpy())\n",
        "plt.title('%i' % mnist_train.train_labels[0])"
      ],
      "execution_count": 12,
      "outputs": [
        {
          "output_type": "stream",
          "text": [
            "/usr/local/lib/python3.6/dist-packages/torchvision/datasets/mnist.py:58: UserWarning: train_data has been renamed data\n",
            "  warnings.warn(\"train_data has been renamed data\")\n",
            "/usr/local/lib/python3.6/dist-packages/torchvision/datasets/mnist.py:48: UserWarning: train_labels has been renamed targets\n",
            "  warnings.warn(\"train_labels has been renamed targets\")\n"
          ],
          "name": "stderr"
        },
        {
          "output_type": "execute_result",
          "data": {
            "text/plain": [
              "Text(0.5, 1.0, '5')"
            ]
          },
          "metadata": {
            "tags": []
          },
          "execution_count": 12
        },
        {
          "output_type": "display_data",
          "data": {
            "image/png": "[encoded data removed]",
            "text/plain": [
              "<Figure size 432x288 with 1 Axes>"
            ]
          },
          "metadata": {
            "tags": [],
            "needs_background": "light"
          }
        }
      ]
    },
    {
      "cell_type": "markdown",
      "metadata": {
        "id": "wev2nVpthRJR"
      },
      "source": [
        "### 1.1 데이터 로드"
      ]
    },
    {
      "cell_type": "code",
      "metadata": {
        "id": "_PGWLFnzhPqF"
      },
      "source": [
        "batch_size = 100\n",
        "data_loader = torch.utils.data.DataLoader(\n",
        "    dataset = mnist_train,\n",
        "    batch_size = batch_size,\n",
        "    shuffle = True,\n",
        "    num_workers = 4\n",
        ")"
      ],
      "execution_count": 13,
      "outputs": []
    },
    {
      "cell_type": "markdown",
      "metadata": {
        "id": "ZJOV_YNhiK7M"
      },
      "source": [
        "#### 데이터 이미지 확인"
      ]
    },
    {
      "cell_type": "code",
      "metadata": {
        "id": "AZ5l2_ObiMgW",
        "outputId": "ebf62c42-8a00-4299-9b79-4dd506e0de08",
        "colab": {
          "base_uri": "https://localhost:8080/"
        }
      },
      "source": [
        "batch_img, batch_labels = next(iter(data_loader))\n",
        "print(batch_img.size())\n",
        "print(batch_label.size())"
      ],
      "execution_count": 44,
      "outputs": [
        {
          "output_type": "stream",
          "text": [
            "torch.Size([100, 1, 28, 28])\n",
            "torch.Size([100])\n"
          ],
          "name": "stdout"
        }
      ]
    },
    {
      "cell_type": "code",
      "metadata": {
        "id": "B5L5HJheiaAe",
        "outputId": "0b39a213-5df8-4efb-cda5-ac808be4c58f",
        "colab": {
          "base_uri": "https://localhost:8080/"
        }
      },
      "source": [
        "type(batch_img)"
      ],
      "execution_count": 15,
      "outputs": [
        {
          "output_type": "execute_result",
          "data": {
            "text/plain": [
              "torch.Tensor"
            ]
          },
          "metadata": {
            "tags": []
          },
          "execution_count": 15
        }
      ]
    },
    {
      "cell_type": "code",
      "metadata": {
        "id": "kBhL1zj1isu6",
        "outputId": "82975f6d-7fea-47d7-b9d0-4246b38509ef",
        "colab": {
          "base_uri": "https://localhost:8080/",
          "height": 395
        }
      },
      "source": [
        "def imshow(img):\n",
        "    img = img / 1\n",
        "    npimg = img.numpy()\n",
        "    plt.imshow(np.transpose(npimg, (1,2,0)))\n",
        "    plt.show()\n",
        "    \n",
        "batch_img, batch_labels = next(iter(data_loader))\n",
        "\n",
        "print(batch_img.size())\n",
        "print(batch_labels.size())\n",
        "\n",
        "#숫자 100개 표시\n",
        "imshow(utils.make_grid(batch_img))\n",
        "batch_labels.numpy()"
      ],
      "execution_count": 43,
      "outputs": [
        {
          "output_type": "stream",
          "text": [
            "torch.Size([100, 1, 28, 28])\n",
            "torch.Size([100])\n"
          ],
          "name": "stdout"
        },
        {
          "output_type": "display_data",
          "data": {
            "image/png": "[encoded data removed]",
            "text/plain": [
              "<Figure size 432x288 with 1 Axes>"
            ]
          },
          "metadata": {
            "tags": [],
            "needs_background": "light"
          }
        },
        {
          "output_type": "execute_result",
          "data": {
            "text/plain": [
              "array([3, 1, 7, 1, 0, 7, 4, 3, 9, 5, 1, 2, 1, 2, 3, 5, 7, 5, 5, 4, 6, 4,\n",
              "       1, 9, 0, 1, 3, 0, 9, 6, 9, 5, 3, 5, 1, 4, 3, 5, 2, 0, 3, 4, 6, 8,\n",
              "       2, 1, 7, 2, 4, 2, 2, 9, 3, 6, 5, 9, 2, 0, 6, 9, 9, 7, 4, 8, 3, 1,\n",
              "       5, 4, 8, 2, 1, 5, 2, 0, 4, 3, 0, 2, 9, 4, 9, 7, 9, 4, 2, 9, 5, 2,\n",
              "       6, 3, 7, 4, 6, 7, 0, 5, 2, 3, 3, 8])"
            ]
          },
          "metadata": {
            "tags": []
          },
          "execution_count": 43
        }
      ]
    },
    {
      "cell_type": "markdown",
      "metadata": {
        "id": "ND8Io9dcjmQL"
      },
      "source": [
        "### 1.2 NN 모델 생성"
      ]
    },
    {
      "cell_type": "code",
      "metadata": {
        "id": "JoPKpbIIjlt_",
        "outputId": "60fbad16-e808-4426-add1-dc7a81152b33",
        "colab": {
          "base_uri": "https://localhost:8080/"
        }
      },
      "source": [
        "linear1 = torch.nn.Linear(784, 512, bias=True) # 784= 28^2\n",
        "linear2 = torch.nn.Linear(512,10,bias=True)\n",
        "relu=torch.nn.ReLU()\n",
        "\n",
        "model = torch.nn.Sequential(linear1,bn1,relu,linear2)\n",
        "print(model)"
      ],
      "execution_count": 74,
      "outputs": [
        {
          "output_type": "stream",
          "text": [
            "Sequential(\n",
            "  (0): Linear(in_features=784, out_features=512, bias=True)\n",
            "  (1): BatchNorm1d(512, eps=1e-05, momentum=0.1, affine=True, track_running_stats=True)\n",
            "  (2): ReLU()\n",
            "  (3): Linear(in_features=512, out_features=10, bias=True)\n",
            ")\n"
          ],
          "name": "stdout"
        }
      ]
    },
    {
      "cell_type": "markdown",
      "metadata": {
        "id": "7Z-Mzb-Skk0J"
      },
      "source": [
        "### 옵티마이저"
      ]
    },
    {
      "cell_type": "code",
      "metadata": {
        "id": "ErVPegIskUjV"
      },
      "source": [
        "optimizer = torch.optim.Adam(model.parameters(), lr=0.01)"
      ],
      "execution_count": 76,
      "outputs": []
    },
    {
      "cell_type": "code",
      "metadata": {
        "id": "1UTbN1P0krNm",
        "outputId": "4892a5ac-8daa-4fde-f8b5-3f5751f68c53",
        "colab": {
          "base_uri": "https://localhost:8080/"
        }
      },
      "source": [
        "for i in model.parameters():\n",
        "    print(i.shape)"
      ],
      "execution_count": 77,
      "outputs": [
        {
          "output_type": "stream",
          "text": [
            "torch.Size([512, 784])\n",
            "torch.Size([512])\n",
            "torch.Size([512])\n",
            "torch.Size([512])\n",
            "torch.Size([10, 512])\n",
            "torch.Size([10])\n"
          ],
          "name": "stdout"
        }
      ]
    },
    {
      "cell_type": "markdown",
      "metadata": {
        "id": "BhL5KH1Bk4r7"
      },
      "source": [
        "### 손실 함수"
      ]
    },
    {
      "cell_type": "code",
      "metadata": {
        "id": "cyGGcocek3o2"
      },
      "source": [
        "loss_fn = torch.nn.CrossEntropyLoss()\n",
        "# softmax 내장"
      ],
      "execution_count": 78,
      "outputs": []
    },
    {
      "cell_type": "markdown",
      "metadata": {
        "id": "cTXXXue8lG2P"
      },
      "source": [
        "### 모델 학습"
      ]
    },
    {
      "cell_type": "code",
      "metadata": {
        "id": "uyVu1Ft1k-OY",
        "outputId": "4590dfe7-1e00-45de-f978-b43f9c1d419c",
        "colab": {
          "base_uri": "https://localhost:8080/"
        }
      },
      "source": [
        "epochs=50\n",
        "\n",
        "for epoch in range(epochs):\n",
        "    avg_cost= 0\n",
        "    total_batchs = len(mnist_train) // batch_size\n",
        "\n",
        "    for step, (batch_img, batch_labels) in enumerate(data_loader):\n",
        "\n",
        "        X = Variable(batch_img.view(-1,28*28))\n",
        "        Y = Variable(batch_labels)\n",
        "\n",
        "        optimizer.zero_grad()\n",
        "        Y_pred = model(X)\n",
        "\n",
        "        cost = loss_fn(Y_pred, Y)\n",
        "        cost.backward()\n",
        "        optimizer.step()\n",
        "\n",
        "        avg_cost += cost/total_batchs\n",
        "\n",
        "    print(\"[Epoch: {:>4}] cost = {:>.9}\".format(epoch + 1, avg_cost.data))\n",
        "    \n",
        "print(\"Learning Finished!\")"
      ],
      "execution_count": 46,
      "outputs": [
        {
          "output_type": "stream",
          "text": [
            "[Epoch:    1] cost = 0.186055064\n",
            "[Epoch:    2] cost = 0.0814064592\n",
            "[Epoch:    3] cost = 0.0569603704\n",
            "[Epoch:    4] cost = 0.0442758165\n",
            "[Epoch:    5] cost = 0.0380796157\n",
            "[Epoch:    6] cost = 0.0320185311\n",
            "[Epoch:    7] cost = 0.0316420458\n",
            "[Epoch:    8] cost = 0.0260009319\n",
            "[Epoch:    9] cost = 0.026643075\n",
            "[Epoch:   10] cost = 0.023093136\n",
            "[Epoch:   11] cost = 0.0218624007\n",
            "[Epoch:   12] cost = 0.0205315333\n",
            "[Epoch:   13] cost = 0.0191082507\n",
            "[Epoch:   14] cost = 0.0212672967\n",
            "[Epoch:   15] cost = 0.0196516775\n",
            "[Epoch:   16] cost = 0.0165324528\n",
            "[Epoch:   17] cost = 0.0171034243\n",
            "[Epoch:   18] cost = 0.0190319587\n",
            "[Epoch:   19] cost = 0.0124021433\n",
            "[Epoch:   20] cost = 0.0128030637\n",
            "[Epoch:   21] cost = 0.020355979\n",
            "[Epoch:   22] cost = 0.0134459212\n",
            "[Epoch:   23] cost = 0.0123578105\n",
            "[Epoch:   24] cost = 0.0167560671\n",
            "[Epoch:   25] cost = 0.012116719\n",
            "[Epoch:   26] cost = 0.015547947\n",
            "[Epoch:   27] cost = 0.012633469\n",
            "[Epoch:   28] cost = 0.0101837302\n",
            "[Epoch:   29] cost = 0.0118849901\n",
            "[Epoch:   30] cost = 0.0139036896\n",
            "[Epoch:   31] cost = 0.013878067\n",
            "[Epoch:   32] cost = 0.0113644879\n",
            "[Epoch:   33] cost = 0.0104810204\n",
            "[Epoch:   34] cost = 0.0131446067\n",
            "[Epoch:   35] cost = 0.0141445193\n",
            "[Epoch:   36] cost = 0.0132101616\n",
            "[Epoch:   37] cost = 0.00987975951\n",
            "[Epoch:   38] cost = 0.0132002439\n",
            "[Epoch:   39] cost = 0.0132112904\n",
            "[Epoch:   40] cost = 0.00994976424\n",
            "[Epoch:   41] cost = 0.00935493596\n",
            "[Epoch:   42] cost = 0.010386358\n",
            "[Epoch:   43] cost = 0.00884688552\n",
            "[Epoch:   44] cost = 0.0147118727\n",
            "[Epoch:   45] cost = 0.0125105483\n",
            "[Epoch:   46] cost = 0.0102653587\n",
            "[Epoch:   47] cost = 0.0126735792\n",
            "[Epoch:   48] cost = 0.0093588233\n",
            "[Epoch:   49] cost = 0.0111231068\n",
            "[Epoch:   50] cost = 0.0121172741\n",
            "Learning Finished!\n"
          ],
          "name": "stdout"
        }
      ]
    },
    {
      "cell_type": "markdown",
      "metadata": {
        "id": "ool2TbNAnP-h"
      },
      "source": [
        "# 2 MNIST를 이용한 심층 신경망"
      ]
    },
    {
      "cell_type": "code",
      "metadata": {
        "id": "3cFet4HfnOjd",
        "outputId": "8be37b6e-2444-4fd6-b9bb-158a464eb01b",
        "colab": {
          "base_uri": "https://localhost:8080/"
        }
      },
      "source": [
        "import torch\n",
        "import torch.nn.init\n",
        "from torch.autograd import Variable\n",
        "\n",
        "import torchvision.utils as utils\n",
        "import torchvision.datasets as dsets\n",
        "import torchvision.transforms as transforms\n",
        "\n",
        "import matplotlib.pyplot as plt\n",
        "import numpy as np\n",
        "import random\n",
        "torch.manual_seed(9)"
      ],
      "execution_count": 2,
      "outputs": [
        {
          "output_type": "execute_result",
          "data": {
            "text/plain": [
              "<torch._C.Generator at 0x7fbbf639a618>"
            ]
          },
          "metadata": {
            "tags": []
          },
          "execution_count": 2
        }
      ]
    },
    {
      "cell_type": "markdown",
      "metadata": {
        "id": "W75kEqHMn5nn"
      },
      "source": [
        "### 2.1 데이터 로드"
      ]
    },
    {
      "cell_type": "code",
      "metadata": {
        "id": "E5L6QegzoBKV",
        "outputId": "4ae018ce-bdce-4cee-bc76-280df717df89",
        "colab": {
          "base_uri": "https://localhost:8080/",
          "height": 381,
          "referenced_widgets": [
            "437b1f767f7543a3a154243a9c76988b",
            "2d25b502edcf4a4e966f8dfa24b38423",
            "1dca2d9316334c22b0739520d5d9f61f",
            "bf3b73af8cd94af890ebb5abc63115a1",
            "7aac39ac0ef9464491c7d8588b3d0269",
            "f304e9f033ea47dd8e748b83d308ed6d",
            "a6a93e3000d244beb05c7e055e42c6e6",
            "5dad9757e3494f5982be21e85b2504d0",
            "3b092cf26b3448799d2bf53e7bf57610",
            "fbca379003584e01a57db38d2ac89b17",
            "550e35471d7d477ba3605f7bd6e694c3",
            "ac564ab5aeca43d0ae12dafa6f405eb2",
            "48e5d701b0af4989aee222d814928668",
            "baf4ccbefb214416b674e6a238da1565",
            "925a59c8fafc43489be35d2c9e390658",
            "e4477f45a1624ef28fbe5d2caf25bed8",
            "ec2bb6eab0d84c58bf1b51430c59a63d",
            "a78f80452a244848b27289ca94c5e941",
            "9a2b5621ce2849a5b8e6e7c8aca05716",
            "e5b3aab866484a8ba395d8b428423e14",
            "5af7541129c843cdb26974628380d539",
            "f1efcbb84acc42a495675b4fd9389461",
            "f9376bfa8799435aa860ed39bb34f4b4",
            "d74302c8d0154cc5b75bbcdb8286531e",
            "6167ec98b59b47af96b3114e55e943a3",
            "05a1e5ad011844d9b679860072248e08",
            "957400baa6514afca8658346e30979f3",
            "3bd3e02cfdbb4825a75e6b9d12914904",
            "c9bd04c6ccad488fb25da74acea8a9e5",
            "100b51d4c32e411facaa3d0c29c2d651",
            "c9a91b1fa2984e81a20810304aaf9163",
            "0556f7072fda431a8ef111e097c7d2b5"
          ]
        }
      },
      "source": [
        "mnist_train = dsets.MNIST(root='/content/drive/My Drive/datasets/pytorch_basic/data/MNIST/',\n",
        "                         train=True,\n",
        "                         transform = transforms.ToTensor(),\n",
        "                         download=True)\n",
        "\n",
        "mnist_test = dsets.MNIST(root='/content/drive/My Drive/datasets/pytorch_basic/data/MNIST/',\n",
        "                        train=False,\n",
        "                        transform=transforms.ToTensor(),\n",
        "                        download=True)\n",
        "\n",
        "batch_size = 100\n",
        "\n",
        "data_loader =  torch.utils.data.DataLoader(dataset=mnist_train,\n",
        "                                          batch_size=batch_size,\n",
        "                                          shuffle=True,\n",
        "                                          num_workers=4)"
      ],
      "execution_count": 3,
      "outputs": [
        {
          "output_type": "stream",
          "text": [
            "Downloading http://yann.lecun.com/exdb/mnist/train-images-idx3-ubyte.gz to /content/drive/My Drive/datasets/pytorch_basic/data/MNIST/MNIST/raw/train-images-idx3-ubyte.gz\n"
          ],
          "name": "stdout"
        },
        {
          "output_type": "display_data",
          "data": {
            "application/vnd.jupyter.widget-view+json": {
              "model_id": "437b1f767f7543a3a154243a9c76988b",
              "version_minor": 0,
              "version_major": 2
            },
            "text/plain": [
              "HBox(children=(FloatProgress(value=1.0, bar_style='info', max=1.0), HTML(value='')))"
            ]
          },
          "metadata": {
            "tags": []
          }
        },
        {
          "output_type": "stream",
          "text": [
            "Extracting /content/drive/My Drive/datasets/pytorch_basic/data/MNIST/MNIST/raw/train-images-idx3-ubyte.gz to /content/drive/My Drive/datasets/pytorch_basic/data/MNIST/MNIST/raw\n",
            "Downloading http://yann.lecun.com/exdb/mnist/train-labels-idx1-ubyte.gz to /content/drive/My Drive/datasets/pytorch_basic/data/MNIST/MNIST/raw/train-labels-idx1-ubyte.gz\n"
          ],
          "name": "stdout"
        },
        {
          "output_type": "display_data",
          "data": {
            "application/vnd.jupyter.widget-view+json": {
              "model_id": "3b092cf26b3448799d2bf53e7bf57610",
              "version_minor": 0,
              "version_major": 2
            },
            "text/plain": [
              "HBox(children=(FloatProgress(value=1.0, bar_style='info', max=1.0), HTML(value='')))"
            ]
          },
          "metadata": {
            "tags": []
          }
        },
        {
          "output_type": "stream",
          "text": [
            "Extracting /content/drive/My Drive/datasets/pytorch_basic/data/MNIST/MNIST/raw/train-labels-idx1-ubyte.gz to /content/drive/My Drive/datasets/pytorch_basic/data/MNIST/MNIST/raw\n",
            "Downloading http://yann.lecun.com/exdb/mnist/t10k-images-idx3-ubyte.gz to /content/drive/My Drive/datasets/pytorch_basic/data/MNIST/MNIST/raw/t10k-images-idx3-ubyte.gz\n"
          ],
          "name": "stdout"
        },
        {
          "output_type": "display_data",
          "data": {
            "application/vnd.jupyter.widget-view+json": {
              "model_id": "ec2bb6eab0d84c58bf1b51430c59a63d",
              "version_minor": 0,
              "version_major": 2
            },
            "text/plain": [
              "HBox(children=(FloatProgress(value=1.0, bar_style='info', max=1.0), HTML(value='')))"
            ]
          },
          "metadata": {
            "tags": []
          }
        },
        {
          "output_type": "stream",
          "text": [
            "Extracting /content/drive/My Drive/datasets/pytorch_basic/data/MNIST/MNIST/raw/t10k-images-idx3-ubyte.gz to /content/drive/My Drive/datasets/pytorch_basic/data/MNIST/MNIST/raw\n",
            "Downloading http://yann.lecun.com/exdb/mnist/t10k-labels-idx1-ubyte.gz to /content/drive/My Drive/datasets/pytorch_basic/data/MNIST/MNIST/raw/t10k-labels-idx1-ubyte.gz\n"
          ],
          "name": "stdout"
        },
        {
          "output_type": "display_data",
          "data": {
            "application/vnd.jupyter.widget-view+json": {
              "model_id": "6167ec98b59b47af96b3114e55e943a3",
              "version_minor": 0,
              "version_major": 2
            },
            "text/plain": [
              "HBox(children=(FloatProgress(value=1.0, bar_style='info', max=1.0), HTML(value='')))"
            ]
          },
          "metadata": {
            "tags": []
          }
        },
        {
          "output_type": "stream",
          "text": [
            "Extracting /content/drive/My Drive/datasets/pytorch_basic/data/MNIST/MNIST/raw/t10k-labels-idx1-ubyte.gz to /content/drive/My Drive/datasets/pytorch_basic/data/MNIST/MNIST/raw\n",
            "Processing...\n",
            "Done!\n"
          ],
          "name": "stdout"
        },
        {
          "output_type": "stream",
          "text": [
            "/usr/local/lib/python3.6/dist-packages/torchvision/datasets/mnist.py:480: UserWarning: The given NumPy array is not writeable, and PyTorch does not support non-writeable tensors. This means you can write to the underlying (supposedly non-writeable) NumPy array using the tensor. You may want to copy the array to protect its data or make it writeable before converting it to a tensor. This type of warning will be suppressed for the rest of this program. (Triggered internally at  /pytorch/torch/csrc/utils/tensor_numpy.cpp:141.)\n",
            "  return torch.from_numpy(parsed.astype(m[2], copy=False)).view(*s)\n"
          ],
          "name": "stderr"
        }
      ]
    },
    {
      "cell_type": "markdown",
      "metadata": {
        "id": "rGYXHHr8oXJb"
      },
      "source": [
        "### 2.2 모델 생성"
      ]
    },
    {
      "cell_type": "code",
      "metadata": {
        "id": "D0N6wU8jquDj"
      },
      "source": [
        "from torch.nn import Linear\n",
        "from torch.nn import Module"
      ],
      "execution_count": 4,
      "outputs": []
    },
    {
      "cell_type": "code",
      "metadata": {
        "id": "YXFzFplPoYOC"
      },
      "source": [
        "layer1 = Linear(28*28, 512, bias= True)\n",
        "layer2 = Linear(512, 512, bias= True)\n",
        "layer3 = Linear(512, 512, bias= True)\n",
        "layer4 = Linear(512, 512, bias= True)\n",
        "layer5 = Linear(512, 256, bias= True)\n",
        "layer6 = Linear(256, 128, bias= True)\n",
        "layer7 = Linear(128, 10, bias= True)\n",
        "selu = torch.nn.SELU()\n",
        "dropout = torch.nn.Dropout()\n",
        "relu=torch.nn.ReLU()"
      ],
      "execution_count": 22,
      "outputs": []
    },
    {
      "cell_type": "markdown",
      "metadata": {
        "id": "9FEvWWNr0ApV"
      },
      "source": [
        "##### 모델1 using selu"
      ]
    },
    {
      "cell_type": "code",
      "metadata": {
        "id": "AE5RgOKov6Ol"
      },
      "source": [
        "model=torch.nn.Sequential(layer1,dropout,selu,\n",
        "                          layer2,dropout,selu,\n",
        "                          layer3,dropout,selu,\n",
        "                          layer4,dropout,selu,\n",
        "                          layer5,dropout,selu,\n",
        "                          layer6,dropout,selu,\n",
        "                          layer7,dropout,selu)"
      ],
      "execution_count": 17,
      "outputs": []
    },
    {
      "cell_type": "markdown",
      "metadata": {
        "id": "q4Hdvgep0CN5"
      },
      "source": [
        "##### 모델2 using relu"
      ]
    },
    {
      "cell_type": "code",
      "metadata": {
        "id": "--nU1DCNz_oD"
      },
      "source": [
        "model2=torch.nn.Sequential(layer1,dropout,relu,\n",
        "                          layer2,dropout,relu,\n",
        "                          layer3,dropout,relu,\n",
        "                          layer4,dropout,relu,\n",
        "                          layer5,dropout,relu,\n",
        "                          layer6,dropout,relu,\n",
        "                          layer7,dropout,relu)"
      ],
      "execution_count": 35,
      "outputs": []
    },
    {
      "cell_type": "markdown",
      "metadata": {
        "id": "kxFVUTM4sCPz"
      },
      "source": [
        "### 2.3 옵티마이저"
      ]
    },
    {
      "cell_type": "code",
      "metadata": {
        "id": "ut2F423rsERq"
      },
      "source": [
        "optimizer = torch.optim.Adam(model.parameters(), lr=0.01)"
      ],
      "execution_count": 18,
      "outputs": []
    },
    {
      "cell_type": "markdown",
      "metadata": {
        "id": "BPzCS3_psCVa"
      },
      "source": [
        "### 2.4 손실 함수"
      ]
    },
    {
      "cell_type": "code",
      "metadata": {
        "id": "G-n0ackqqaUP"
      },
      "source": [
        "loss_fn = torch.nn.CrossEntropyLoss()"
      ],
      "execution_count": 19,
      "outputs": []
    },
    {
      "cell_type": "markdown",
      "metadata": {
        "id": "a6s4oJZ3sUsm"
      },
      "source": [
        "### 2.5 모델 학습"
      ]
    },
    {
      "cell_type": "code",
      "metadata": {
        "id": "0d_zP98-sUYA",
        "outputId": "6e871b50-8367-4c58-e250-63d19c242376",
        "colab": {
          "base_uri": "https://localhost:8080/"
        }
      },
      "source": [
        "for epoch in range(50):\n",
        "\n",
        "    avg_cost=0\n",
        "    total_batchs = len(mnist_train) // batch_size\n",
        "\n",
        "    for i, (batch_img, batch_labels) in enumerate(data_loader): # 데이터로더에서 배치 단위로 각 배치를 조사\n",
        "\n",
        "        X = Variable(batch_img.view(-1,28*28))\n",
        "        Y = Variable(batch_labels)\n",
        "\n",
        "        optimizer.zero_grad()\n",
        "        Y_pred = model(X)\n",
        "        cost = loss_fn(Y_pred, Y)\n",
        "        cost.backward()\n",
        "        optimizer.step()\n",
        "\n",
        "        avg_cost += cost/total_batchs\n",
        "\n",
        "    print(\"[Epoch: {:>4}] cost  = {:>.9}\".format(epoch+1, avg_cost.data))\n",
        "    \n",
        "print('Learning Finished')"
      ],
      "execution_count": 20,
      "outputs": [
        {
          "output_type": "stream",
          "text": [
            "[Epoch:    1] cost  = 89.1588898\n",
            "[Epoch:    2] cost  = 16.2186584\n",
            "[Epoch:    3] cost  = 2.61812639\n",
            "[Epoch:    4] cost  = 2.6225183\n",
            "[Epoch:    5] cost  = 2.6238935\n",
            "[Epoch:    6] cost  = 2.62349844\n",
            "[Epoch:    7] cost  = 5.3628912\n",
            "[Epoch:    8] cost  = 337.871094\n",
            "[Epoch:    9] cost  = 2.61866379\n",
            "[Epoch:   10] cost  = 2.62214541\n",
            "[Epoch:   11] cost  = 2.6166234\n",
            "[Epoch:   12] cost  = 123.770302\n",
            "[Epoch:   13] cost  = 2.6184032\n",
            "[Epoch:   14] cost  = 2.61592221\n",
            "[Epoch:   15] cost  = 53.1939316\n",
            "[Epoch:   16] cost  = 191.165558\n",
            "[Epoch:   17] cost  = 2.62039471\n",
            "[Epoch:   18] cost  = 2.62100315\n",
            "[Epoch:   19] cost  = 2.61930799\n",
            "[Epoch:   20] cost  = 2.61975265\n",
            "[Epoch:   21] cost  = 2.61772537\n",
            "[Epoch:   22] cost  = 2.62106466\n",
            "[Epoch:   23] cost  = 49.9879265\n",
            "[Epoch:   24] cost  = 2.61867929\n",
            "[Epoch:   25] cost  = 2.62246966\n",
            "[Epoch:   26] cost  = 2.62267852\n",
            "[Epoch:   27] cost  = 2.61904407\n",
            "[Epoch:   28] cost  = 2.6149497\n",
            "[Epoch:   29] cost  = 2.61425424\n",
            "[Epoch:   30] cost  = 2.61827731\n",
            "[Epoch:   31] cost  = 2.62294388\n",
            "[Epoch:   32] cost  = 2.62010694\n",
            "[Epoch:   33] cost  = 2.61560678\n",
            "[Epoch:   34] cost  = 2.61608243\n",
            "[Epoch:   35] cost  = 2.62004018\n",
            "[Epoch:   36] cost  = 2.61927056\n",
            "[Epoch:   37] cost  = 2.62314343\n",
            "[Epoch:   38] cost  = 2.61993432\n",
            "[Epoch:   39] cost  = 2.62103915\n",
            "[Epoch:   40] cost  = 2.62435293\n",
            "[Epoch:   41] cost  = 2.62225723\n",
            "[Epoch:   42] cost  = 2.62232542\n",
            "[Epoch:   43] cost  = 2.62093759\n",
            "[Epoch:   44] cost  = 2.61730146\n",
            "[Epoch:   45] cost  = 2.62299466\n",
            "[Epoch:   46] cost  = 2.61664844\n",
            "[Epoch:   47] cost  = 2.62023735\n",
            "[Epoch:   48] cost  = 2.62234902\n",
            "[Epoch:   49] cost  = 2.61545777\n",
            "[Epoch:   50] cost  = 2.62004638\n",
            "Learning Finished\n"
          ],
          "name": "stdout"
        }
      ]
    },
    {
      "cell_type": "markdown",
      "metadata": {
        "id": "bqmnW5NFymhU"
      },
      "source": [
        "# 3 MNIST를 이용한 CNN 신경망"
      ]
    },
    {
      "cell_type": "code",
      "metadata": {
        "id": "S6fNq4peyqto"
      },
      "source": [
        "import torch\n",
        "import torch.nn as nn\n",
        "import torchvision.datasets as dsets\n",
        "import torchvision.transforms as transforms\n",
        "from torch.autograd import Variable\n",
        "import os"
      ],
      "execution_count": 21,
      "outputs": []
    },
    {
      "cell_type": "markdown",
      "metadata": {
        "id": "Xmr_Ktn3ytXi"
      },
      "source": [
        "### 3.1 데이터 로드"
      ]
    },
    {
      "cell_type": "code",
      "metadata": {
        "id": "Tw3MBZwP0_EJ"
      },
      "source": [
        "batch_size=100"
      ],
      "execution_count": null,
      "outputs": []
    },
    {
      "cell_type": "code",
      "metadata": {
        "id": "exPHNVa8yuh2"
      },
      "source": [
        "train_dataset = dsets.MNIST(root='/content/drive/My Drive/datasets/pytorch_basic/data/MNIST/',\n",
        "                            train = True,\n",
        "                            transform=transforms.ToTensor(),\n",
        "                            download=True)\n",
        "\n",
        "test_dataset=dsets.MNIST(\n",
        "    root='/content/drive/My Drive/datasets/pytorch_basic/data/MNIST/',\n",
        "    train=False,\n",
        "    transform = transforms.ToTensor())"
      ],
      "execution_count": 51,
      "outputs": []
    },
    {
      "cell_type": "code",
      "metadata": {
        "id": "AwHZyaL30qT_"
      },
      "source": [
        "train_loader = torch.utils.data.DataLoader(dataset=train_dataset,\n",
        "                                           batch_size=batch_size,\n",
        "                                           shuffle=True)\n",
        "\n",
        "test_loader = torch.utils.data.DataLoader(dataset=test_dataset,\n",
        "                                          batch_size=batch_size)"
      ],
      "execution_count": 84,
      "outputs": []
    },
    {
      "cell_type": "markdown",
      "metadata": {
        "id": "1zZr-TgL16uF"
      },
      "source": [
        "### 3.2 모델 생성"
      ]
    },
    {
      "cell_type": "markdown",
      "metadata": {
        "id": "pzu6ySiXA_yw"
      },
      "source": [
        "\n",
        "\n",
        "```\n",
        "torch.nn.Conv2d(\n",
        "    in_channels: int, \n",
        "    out_channels: int, \n",
        "    kernel_size: Union[T, Tuple[T, T]], \n",
        "    stride: Union[T, Tuple[T, T]] = 1, \n",
        "    padding: Union[T, Tuple[T, T]] = 0, \n",
        "    dilation: Union[T, Tuple[T, T]] = 1, \n",
        "    groups: int = 1, bias: bool = True, \n",
        "    padding_mode: str = 'zeros')\n",
        "```\n",
        "\n"
      ]
    },
    {
      "cell_type": "code",
      "metadata": {
        "id": "yRdN4FJQ179I"
      },
      "source": [
        "class CNN(nn.Module):\n",
        "\n",
        "    def __init__(self):\n",
        "        super(CNN, self).__init__()\n",
        "\n",
        "        self.layer1 = nn.Sequential(\n",
        "            nn.Conv2d(1,16,kernel_size=5,padding=(2,2)),\n",
        "            nn.MaxPool2d(2),\n",
        "            nn.ReLU(2),\n",
        "            nn.BatchNorm2d(16))\n",
        "        \n",
        "        self.layer2 = nn.Sequential(\n",
        "            nn.Conv2d(16,32,kernel_size=5,padding=(2,2)), #  # 가중치 개수: 16(필터개수)x5x5\n",
        "                                                               # 필터마다 고유한 특징을 뽑아 고유한 출력 이미지로 만들기 때문에 필터의 출력값을 더해서 하나의 이미지로 만들거나 그렇게 하지 않습니다.                                                       #\n",
        "            nn.MaxPool2d(2), # 32*7*7\n",
        "            nn.ReLU(),\n",
        "            nn.BatchNorm2d(32))\n",
        "        \n",
        "        self.fc = nn.Linear(32*7*7,10)\n",
        "        \n",
        "    def forward(self, x):\n",
        "\n",
        "        out = self.layer1(x)\n",
        "        out = self.layer2(out)\n",
        "        out = out.view(out.size(0),-1) # flattening\n",
        "        out = self.fc(out)\n",
        "\n",
        "        return out"
      ],
      "execution_count": 86,
      "outputs": []
    },
    {
      "cell_type": "code",
      "metadata": {
        "id": "H2d5DrYE7mJP"
      },
      "source": [
        "cnn = CNN()"
      ],
      "execution_count": 87,
      "outputs": []
    },
    {
      "cell_type": "markdown",
      "metadata": {
        "id": "9u3kCNQc8Khz"
      },
      "source": [
        "### 3.3 모델 학습"
      ]
    },
    {
      "cell_type": "code",
      "metadata": {
        "id": "z8Xm3dvI8fjB"
      },
      "source": [
        "loss_list=[]"
      ],
      "execution_count": 88,
      "outputs": []
    },
    {
      "cell_type": "code",
      "metadata": {
        "id": "pHzVTN8V8Lh4",
        "outputId": "4fc98876-1d7c-4377-c2e6-75cc516d5838",
        "colab": {
          "base_uri": "https://localhost:8080/"
        }
      },
      "source": [
        "criterion = nn.CrossEntropyLoss() # Loss\n",
        "optimizer = torch.optim.Adam(cnn.parameters(), lr=0.01)\n",
        "\n",
        "for epoch in range(30):\n",
        "    for i, (images, labels) in enumerate(train_loader):\n",
        "        images = Variable(images)\n",
        "        labels = Variable(labels)\n",
        "            \n",
        "        optimizer.zero_grad()\n",
        "        outputs = cnn(images)\n",
        "        loss = criterion(outputs, labels)\n",
        "        loss.backward()\n",
        "        optimizer.step()\n",
        "            \n",
        "        if (i+1) % 100 == 0:\n",
        "            print('Epoch [%d/%d], lter [%d/%d] Loss: %.4f'%(epoch+1, 30, i+1, len(train_dataset)//batch_size, loss.data))\n",
        "\n",
        "\n",
        "    loss_list.append(loss.data)"
      ],
      "execution_count": 89,
      "outputs": [
        {
          "output_type": "stream",
          "text": [
            "Epoch [1/30], lter [100/600] Loss: 0.0783\n",
            "Epoch [1/30], lter [200/600] Loss: 0.0263\n",
            "Epoch [1/30], lter [300/600] Loss: 0.1188\n",
            "Epoch [1/30], lter [400/600] Loss: 0.0290\n",
            "Epoch [1/30], lter [500/600] Loss: 0.0116\n",
            "Epoch [1/30], lter [600/600] Loss: 0.1076\n",
            "Epoch [2/30], lter [100/600] Loss: 0.0218\n",
            "Epoch [2/30], lter [200/600] Loss: 0.0265\n",
            "Epoch [2/30], lter [300/600] Loss: 0.0488\n",
            "Epoch [2/30], lter [400/600] Loss: 0.0928\n",
            "Epoch [2/30], lter [500/600] Loss: 0.0057\n",
            "Epoch [2/30], lter [600/600] Loss: 0.0209\n",
            "Epoch [3/30], lter [100/600] Loss: 0.0416\n",
            "Epoch [3/30], lter [200/600] Loss: 0.0017\n",
            "Epoch [3/30], lter [300/600] Loss: 0.1263\n",
            "Epoch [3/30], lter [400/600] Loss: 0.0849\n",
            "Epoch [3/30], lter [500/600] Loss: 0.0248\n",
            "Epoch [3/30], lter [600/600] Loss: 0.0282\n",
            "Epoch [4/30], lter [100/600] Loss: 0.0262\n",
            "Epoch [4/30], lter [200/600] Loss: 0.0479\n",
            "Epoch [4/30], lter [300/600] Loss: 0.0110\n",
            "Epoch [4/30], lter [400/600] Loss: 0.0009\n",
            "Epoch [4/30], lter [500/600] Loss: 0.0084\n",
            "Epoch [4/30], lter [600/600] Loss: 0.0050\n",
            "Epoch [5/30], lter [100/600] Loss: 0.0015\n",
            "Epoch [5/30], lter [200/600] Loss: 0.0176\n",
            "Epoch [5/30], lter [300/600] Loss: 0.0132\n",
            "Epoch [5/30], lter [400/600] Loss: 0.0034\n",
            "Epoch [5/30], lter [500/600] Loss: 0.0686\n",
            "Epoch [5/30], lter [600/600] Loss: 0.0082\n",
            "Epoch [6/30], lter [100/600] Loss: 0.0021\n",
            "Epoch [6/30], lter [200/600] Loss: 0.0093\n",
            "Epoch [6/30], lter [300/600] Loss: 0.0158\n",
            "Epoch [6/30], lter [400/600] Loss: 0.0736\n",
            "Epoch [6/30], lter [500/600] Loss: 0.0015\n",
            "Epoch [6/30], lter [600/600] Loss: 0.0063\n",
            "Epoch [7/30], lter [100/600] Loss: 0.0024\n",
            "Epoch [7/30], lter [200/600] Loss: 0.0010\n",
            "Epoch [7/30], lter [300/600] Loss: 0.0045\n",
            "Epoch [7/30], lter [400/600] Loss: 0.0026\n",
            "Epoch [7/30], lter [500/600] Loss: 0.0089\n",
            "Epoch [7/30], lter [600/600] Loss: 0.0037\n",
            "Epoch [8/30], lter [100/600] Loss: 0.0181\n",
            "Epoch [8/30], lter [200/600] Loss: 0.0125\n",
            "Epoch [8/30], lter [300/600] Loss: 0.0601\n",
            "Epoch [8/30], lter [400/600] Loss: 0.0008\n",
            "Epoch [8/30], lter [500/600] Loss: 0.0124\n",
            "Epoch [8/30], lter [600/600] Loss: 0.0297\n",
            "Epoch [9/30], lter [100/600] Loss: 0.0088\n",
            "Epoch [9/30], lter [200/600] Loss: 0.0090\n",
            "Epoch [9/30], lter [300/600] Loss: 0.0020\n",
            "Epoch [9/30], lter [400/600] Loss: 0.0599\n",
            "Epoch [9/30], lter [500/600] Loss: 0.0040\n",
            "Epoch [9/30], lter [600/600] Loss: 0.0024\n",
            "Epoch [10/30], lter [100/600] Loss: 0.0043\n",
            "Epoch [10/30], lter [200/600] Loss: 0.0230\n",
            "Epoch [10/30], lter [300/600] Loss: 0.0165\n",
            "Epoch [10/30], lter [400/600] Loss: 0.0060\n",
            "Epoch [10/30], lter [500/600] Loss: 0.0124\n",
            "Epoch [10/30], lter [600/600] Loss: 0.0010\n",
            "Epoch [11/30], lter [100/600] Loss: 0.0321\n",
            "Epoch [11/30], lter [200/600] Loss: 0.0029\n",
            "Epoch [11/30], lter [300/600] Loss: 0.0022\n",
            "Epoch [11/30], lter [400/600] Loss: 0.0498\n",
            "Epoch [11/30], lter [500/600] Loss: 0.0057\n",
            "Epoch [11/30], lter [600/600] Loss: 0.0084\n",
            "Epoch [12/30], lter [100/600] Loss: 0.0001\n",
            "Epoch [12/30], lter [200/600] Loss: 0.0026\n",
            "Epoch [12/30], lter [300/600] Loss: 0.0050\n",
            "Epoch [12/30], lter [400/600] Loss: 0.0308\n",
            "Epoch [12/30], lter [500/600] Loss: 0.0470\n",
            "Epoch [12/30], lter [600/600] Loss: 0.0674\n",
            "Epoch [13/30], lter [100/600] Loss: 0.0002\n",
            "Epoch [13/30], lter [200/600] Loss: 0.0024\n",
            "Epoch [13/30], lter [300/600] Loss: 0.0085\n",
            "Epoch [13/30], lter [400/600] Loss: 0.0002\n",
            "Epoch [13/30], lter [500/600] Loss: 0.0271\n",
            "Epoch [13/30], lter [600/600] Loss: 0.0065\n",
            "Epoch [14/30], lter [100/600] Loss: 0.0130\n",
            "Epoch [14/30], lter [200/600] Loss: 0.0000\n",
            "Epoch [14/30], lter [300/600] Loss: 0.0162\n",
            "Epoch [14/30], lter [400/600] Loss: 0.0001\n",
            "Epoch [14/30], lter [500/600] Loss: 0.0007\n",
            "Epoch [14/30], lter [600/600] Loss: 0.0005\n",
            "Epoch [15/30], lter [100/600] Loss: 0.0001\n",
            "Epoch [15/30], lter [200/600] Loss: 0.0290\n",
            "Epoch [15/30], lter [300/600] Loss: 0.0203\n",
            "Epoch [15/30], lter [400/600] Loss: 0.0090\n",
            "Epoch [15/30], lter [500/600] Loss: 0.0008\n",
            "Epoch [15/30], lter [600/600] Loss: 0.0218\n",
            "Epoch [16/30], lter [100/600] Loss: 0.0018\n",
            "Epoch [16/30], lter [200/600] Loss: 0.0040\n",
            "Epoch [16/30], lter [300/600] Loss: 0.0003\n",
            "Epoch [16/30], lter [400/600] Loss: 0.0205\n",
            "Epoch [16/30], lter [500/600] Loss: 0.0002\n",
            "Epoch [16/30], lter [600/600] Loss: 0.0667\n",
            "Epoch [17/30], lter [100/600] Loss: 0.0001\n",
            "Epoch [17/30], lter [200/600] Loss: 0.0645\n",
            "Epoch [17/30], lter [300/600] Loss: 0.0000\n",
            "Epoch [17/30], lter [400/600] Loss: 0.1859\n",
            "Epoch [17/30], lter [500/600] Loss: 0.0019\n",
            "Epoch [17/30], lter [600/600] Loss: 0.0015\n",
            "Epoch [18/30], lter [100/600] Loss: 0.0014\n",
            "Epoch [18/30], lter [200/600] Loss: 0.0000\n",
            "Epoch [18/30], lter [300/600] Loss: 0.0006\n",
            "Epoch [18/30], lter [400/600] Loss: 0.0000\n",
            "Epoch [18/30], lter [500/600] Loss: 0.0002\n",
            "Epoch [18/30], lter [600/600] Loss: 0.0020\n",
            "Epoch [19/30], lter [100/600] Loss: 0.0027\n",
            "Epoch [19/30], lter [200/600] Loss: 0.0001\n",
            "Epoch [19/30], lter [300/600] Loss: 0.0056\n",
            "Epoch [19/30], lter [400/600] Loss: 0.0000\n",
            "Epoch [19/30], lter [500/600] Loss: 0.0004\n",
            "Epoch [19/30], lter [600/600] Loss: 0.0022\n",
            "Epoch [20/30], lter [100/600] Loss: 0.0017\n",
            "Epoch [20/30], lter [200/600] Loss: 0.0001\n",
            "Epoch [20/30], lter [300/600] Loss: 0.0000\n",
            "Epoch [20/30], lter [400/600] Loss: 0.0038\n",
            "Epoch [20/30], lter [500/600] Loss: 0.0094\n",
            "Epoch [20/30], lter [600/600] Loss: 0.0006\n",
            "Epoch [21/30], lter [100/600] Loss: 0.0374\n",
            "Epoch [21/30], lter [200/600] Loss: 0.0011\n",
            "Epoch [21/30], lter [300/600] Loss: 0.0000\n",
            "Epoch [21/30], lter [400/600] Loss: 0.0004\n",
            "Epoch [21/30], lter [500/600] Loss: 0.0452\n",
            "Epoch [21/30], lter [600/600] Loss: 0.0000\n",
            "Epoch [22/30], lter [100/600] Loss: 0.1026\n",
            "Epoch [22/30], lter [200/600] Loss: 0.0178\n",
            "Epoch [22/30], lter [300/600] Loss: 0.0000\n",
            "Epoch [22/30], lter [400/600] Loss: 0.0000\n",
            "Epoch [22/30], lter [500/600] Loss: 0.0000\n",
            "Epoch [22/30], lter [600/600] Loss: 0.0751\n",
            "Epoch [23/30], lter [100/600] Loss: 0.0000\n",
            "Epoch [23/30], lter [200/600] Loss: 0.0000\n",
            "Epoch [23/30], lter [300/600] Loss: 0.0000\n",
            "Epoch [23/30], lter [400/600] Loss: 0.0548\n",
            "Epoch [23/30], lter [500/600] Loss: 0.0210\n",
            "Epoch [23/30], lter [600/600] Loss: 0.0002\n",
            "Epoch [24/30], lter [100/600] Loss: 0.0001\n",
            "Epoch [24/30], lter [200/600] Loss: 0.0002\n",
            "Epoch [24/30], lter [300/600] Loss: 0.0011\n",
            "Epoch [24/30], lter [400/600] Loss: 0.0000\n",
            "Epoch [24/30], lter [500/600] Loss: 0.0001\n",
            "Epoch [24/30], lter [600/600] Loss: 0.0001\n",
            "Epoch [25/30], lter [100/600] Loss: 0.0000\n",
            "Epoch [25/30], lter [200/600] Loss: 0.0066\n",
            "Epoch [25/30], lter [300/600] Loss: 0.0000\n",
            "Epoch [25/30], lter [400/600] Loss: 0.0000\n",
            "Epoch [25/30], lter [500/600] Loss: 0.0087\n",
            "Epoch [25/30], lter [600/600] Loss: 0.0004\n",
            "Epoch [26/30], lter [100/600] Loss: 0.0001\n",
            "Epoch [26/30], lter [200/600] Loss: 0.0000\n",
            "Epoch [26/30], lter [300/600] Loss: 0.0000\n",
            "Epoch [26/30], lter [400/600] Loss: 0.0000\n",
            "Epoch [26/30], lter [500/600] Loss: 0.0000\n",
            "Epoch [26/30], lter [600/600] Loss: 0.0000\n",
            "Epoch [27/30], lter [100/600] Loss: 0.0000\n",
            "Epoch [27/30], lter [200/600] Loss: 0.0726\n",
            "Epoch [27/30], lter [300/600] Loss: 0.0000\n",
            "Epoch [27/30], lter [400/600] Loss: 0.0091\n",
            "Epoch [27/30], lter [500/600] Loss: 0.0005\n",
            "Epoch [27/30], lter [600/600] Loss: 0.0000\n",
            "Epoch [28/30], lter [100/600] Loss: 0.0040\n",
            "Epoch [28/30], lter [200/600] Loss: 0.0000\n",
            "Epoch [28/30], lter [300/600] Loss: 0.0026\n",
            "Epoch [28/30], lter [400/600] Loss: 0.0000\n",
            "Epoch [28/30], lter [500/600] Loss: 0.0157\n",
            "Epoch [28/30], lter [600/600] Loss: 0.0055\n",
            "Epoch [29/30], lter [100/600] Loss: 0.0000\n",
            "Epoch [29/30], lter [200/600] Loss: 0.0000\n",
            "Epoch [29/30], lter [300/600] Loss: 0.0000\n",
            "Epoch [29/30], lter [400/600] Loss: 0.0000\n",
            "Epoch [29/30], lter [500/600] Loss: 0.0003\n",
            "Epoch [29/30], lter [600/600] Loss: 0.0275\n",
            "Epoch [30/30], lter [100/600] Loss: 0.0000\n",
            "Epoch [30/30], lter [200/600] Loss: 0.0000\n",
            "Epoch [30/30], lter [300/600] Loss: 0.0000\n",
            "Epoch [30/30], lter [400/600] Loss: 0.0001\n",
            "Epoch [30/30], lter [500/600] Loss: 0.0000\n",
            "Epoch [30/30], lter [600/600] Loss: 0.0008\n"
          ],
          "name": "stdout"
        }
      ]
    },
    {
      "cell_type": "code",
      "metadata": {
        "id": "ItuTNgFFFiEk",
        "outputId": "0e57396c-6f98-48c9-c96d-fc5caacf4924",
        "colab": {
          "base_uri": "https://localhost:8080/"
        }
      },
      "source": [
        "len(loss_list)"
      ],
      "execution_count": 90,
      "outputs": [
        {
          "output_type": "execute_result",
          "data": {
            "text/plain": [
              "30"
            ]
          },
          "metadata": {
            "tags": []
          },
          "execution_count": 90
        }
      ]
    },
    {
      "cell_type": "code",
      "metadata": {
        "id": "aYbXrz2eE0rr",
        "outputId": "4ebf01ed-cf94-48b5-ea51-f8bfc2090d52",
        "colab": {
          "base_uri": "https://localhost:8080/",
          "height": 269
        }
      },
      "source": [
        "X = np.linspace(0,30,30)\n",
        "plt.plot(X,loss_list, c='red')\n",
        "plt.ylim((0.000,0.08))\n",
        "plt.show()"
      ],
      "execution_count": 94,
      "outputs": [
        {
          "output_type": "display_data",
          "data": {
            "image/png": "[encoded data removed]",
            "text/plain": [
              "<Figure size 432x288 with 1 Axes>"
            ]
          },
          "metadata": {
            "tags": [],
            "needs_background": "light"
          }
        }
      ]
    },
    {
      "cell_type": "markdown",
      "metadata": {
        "id": "FtngPEzjBM7q"
      },
      "source": [
        "### 3.4 평가"
      ]
    },
    {
      "cell_type": "code",
      "metadata": {
        "id": "LrSLUgsn8Qju",
        "outputId": "f3f4db17-addf-413e-84d0-7867a0b9eca3",
        "colab": {
          "base_uri": "https://localhost:8080/"
        }
      },
      "source": [
        "cnn.eval()\n",
        "correct = 0\n",
        "total = 0\n",
        "for images, labels in test_loader:\n",
        "    images = Variable(images)\n",
        "    outputs = cnn(images)\n",
        "    _, predicted = torch.max(outputs.data, 1)\n",
        "    total += labels.size(0)\n",
        "    correct += (predicted == labels).sum()\n",
        "    \n",
        "print('test Accuracy 10000 test images  = %f %%' % (100 * correct/total))"
      ],
      "execution_count": 95,
      "outputs": [
        {
          "output_type": "stream",
          "text": [
            "test Accuracy 10000 test images  = 98.639999 %\n"
          ],
          "name": "stdout"
        }
      ]
    }
  ]
}