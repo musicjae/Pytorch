{
  "nbformat": 4,
  "nbformat_minor": 0,
  "metadata": {
    "colab": {
      "name": "3 CBOW.ipynb",
      "provenance": [],
      "authorship_tag": "ABX9TyNbDNHK5KD7PZCE90cLHovz",
      "include_colab_link": true
    },
    "kernelspec": {
      "name": "python3",
      "display_name": "Python 3"
    }
  },
  "cells": [
    {
      "cell_type": "markdown",
      "metadata": {
        "id": "view-in-github",
        "colab_type": "text"
      },
      "source": [
        "<a href=\"https://colab.research.google.com/github/musicjae/intro_to_python/blob/master/Pytorch/NLP/3_CBOW.ipynb\" target=\"_parent\"><img src=\"https://colab.research.google.com/assets/colab-badge.svg\" alt=\"Open In Colab\"/></a>"
      ]
    },
    {
      "cell_type": "markdown",
      "metadata": {
        "id": "qGIGL3NsBxe3"
      },
      "source": [
        "참고: https://github.com/rguthrie3/DeepLearningForNLPInPytorch/blob/master/Deep%20Learning%20for%20Natural%20Language%20Processing%20with%20Pytorch.ipynb"
      ]
    },
    {
      "cell_type": "markdown",
      "metadata": {
        "id": "bCLS5FgBBrGz"
      },
      "source": [
        "CBOW is distinct from language modeling, since CBOW is not sequential and does not have to be probabilistic. Typcially, CBOW is used to quickly train word embeddings, and these embeddings are used to initialize the embeddings of some more complicated model."
      ]
    },
    {
      "cell_type": "markdown",
      "metadata": {
        "id": "BhIuPjTWBvzK"
      },
      "source": [
        "The CBOW model is as follows. Given a target word $w_i$ and an $N$ context window on each side, $w_{i-1}, \\dots, w_{i-N}$ and $w_{i+1}, \\dots, w_{i+N}$, referring to all context words collectively as $C$, CBOW tries to minimize$$ -\\log p(w_i | C) = \\log \\text{Softmax}(A(\\sum_{w \\in C} q_w) + b) $$where $q_w$ is the embedding for word $w$."
      ]
    },
    {
      "cell_type": "code",
      "metadata": {
        "id": "XEuS4gezBpBn"
      },
      "source": [
        "import torch\r\n",
        "import torch.nn as nn\r\n",
        "import torch.nn.functional as F\r\n",
        "import torch.autograd as autograd\r\n",
        "import numpy as np\r\n",
        "import matplotlib.pyplot as plt"
      ],
      "execution_count": 1,
      "outputs": []
    },
    {
      "cell_type": "markdown",
      "metadata": {
        "id": "0L3zB51ZCJmK"
      },
      "source": [
        "[text 출처]('https://www.yna.co.kr/view/AKR20201210086400009?section=international/all')"
      ]
    },
    {
      "cell_type": "code",
      "metadata": {
        "colab": {
          "base_uri": "https://localhost:8080/"
        },
        "id": "FnqXjv4VB8GO",
        "outputId": "ab991853-38d7-4393-dd9e-7f61a97d0c9d"
      },
      "source": [
        "CONTEXT_SIZE = 4 \r\n",
        "EMBEDDING_SIZE= 32\r\n",
        "\r\n",
        "raw_text = \"\"\"공화·민주 양당 의원이 참여한 9천80억달러(약 986조원) 규모의 '2020 코로나19 긴급 부양법안'에 이 같은 실업 보조금 지급 방안이 포함됐다고 CNBC 방송 9일(현지시간) 보도했다.\r\n",
        "\r\n",
        "법안에는 현재 받는 지원금과는 별개로 12월 말부터 내년 4월 말까지 16주 동안 주당 300달러(약 32만원)의 실업자 보조금 지급안이 담겼다.\r\n",
        "\r\n",
        "다만, 현 실업수당에 더해 지급될 보조금의 구체적인 지급 날짜는 언급되지 않았다.\r\n",
        "\r\n",
        "\r\n",
        "노동부 통계에 따르면 10월 기준 미국 정부가 지급하는 평균 실업수당은 주당 320달러다. 다만 실업수당이 주당 5달러에 그친 주도 있다.\r\n",
        "\r\n",
        "상원은 또 이달 마지막 주말에 기한이 만료되는 실업보험 보조금도 역시 16주 동안 추가로 지급하는 방안도 제안했다.\r\n",
        "\r\n",
        "코로나19로 영향을 받은 자영업자와 중소영업장 근로자, 프리랜서 등 실업수당 지원 제외 대상자에게는 '팬데믹 실업 지원'(PUA)과 '팬데믹 긴급실업수당(PEUC) 지급도 최장 13주간 연장하는 방안도 제시됐다.\r\n",
        "\r\n",
        "이들 혜택을 받게 될 취약계층은 전체 실업자의 3분의 2에 해당하는 1천300만 명에 이른다.\"\"\".split()\r\n",
        "word_to_ix = { word: i for i, word in enumerate(set(raw_text)) }\r\n",
        "ix_to_word = {i:word for i,word in enumerate(set(raw_text))}\r\n",
        "data = []\r\n",
        "for i in range(2, len(raw_text) - 2):\r\n",
        "    context = [ raw_text[i-2], raw_text[i-1], raw_text[i+1], raw_text[i+2] ]\r\n",
        "    target = raw_text[i]\r\n",
        "    data.append( (context, target) )\r\n",
        "print(data[:5])\r\n",
        "VOCAB_SIZE = len(set(raw_text))"
      ],
      "execution_count": 40,
      "outputs": [
        {
          "output_type": "stream",
          "text": [
            "[(['공화·민주', '양당', '참여한', '9천80억달러(약'], '의원이'), (['양당', '의원이', '9천80억달러(약', '986조원)'], '참여한'), (['의원이', '참여한', '986조원)', '규모의'], '9천80억달러(약'), (['참여한', '9천80억달러(약', '규모의', \"'2020\"], '986조원)'), (['9천80억달러(약', '986조원)', \"'2020\", '코로나19'], '규모의')]\n"
          ],
          "name": "stdout"
        }
      ]
    },
    {
      "cell_type": "code",
      "metadata": {
        "id": "ABCENpesCULB"
      },
      "source": [
        "class CBOW(nn.Module):\r\n",
        "    def __init__(self, vocab_size, embedding_size, context_size):\r\n",
        "        super(CBOW,self).__init__()\r\n",
        "        self.embedding = nn.Embedding(vocab_size, embedding_size)\r\n",
        "        self.linear = nn.Linear(embedding_size*context_size, 64)\r\n",
        "        self.linear2 = nn.Linear(64, vocab_size)\r\n",
        "\r\n",
        "    def forward(self,inputs):\r\n",
        "        x = self.embedding(inputs).view((1,-1))\r\n",
        "        x = F.relu(x)\r\n",
        "        x = F.relu(self.linear(x))\r\n",
        "        x = F.log_softmax(self.linear2(x))\r\n",
        "\r\n",
        "        return x"
      ],
      "execution_count": 42,
      "outputs": []
    },
    {
      "cell_type": "code",
      "metadata": {
        "colab": {
          "base_uri": "https://localhost:8080/"
        },
        "id": "7YCo4aCjDPlB",
        "outputId": "f0714909-e86b-43f0-b61c-20d4ed63a664"
      },
      "source": [
        "model = CBOW(VOCAB_SIZE,EMBEDDING_SIZE,CONTEXT_SIZE)\r\n",
        "print(model)"
      ],
      "execution_count": 43,
      "outputs": [
        {
          "output_type": "stream",
          "text": [
            "CBOW(\n",
            "  (embedding): Embedding(113, 32)\n",
            "  (linear): Linear(in_features=128, out_features=64, bias=True)\n",
            "  (linear2): Linear(in_features=64, out_features=113, bias=True)\n",
            ")\n"
          ],
          "name": "stdout"
        }
      ]
    },
    {
      "cell_type": "code",
      "metadata": {
        "colab": {
          "base_uri": "https://localhost:8080/"
        },
        "id": "9v3I4G1rDWxc",
        "outputId": "4f7a47b5-fb8b-4f17-f7f1-aafcaf07b75a"
      },
      "source": [
        "for param in model.parameters():\r\n",
        "    print(param.shape)"
      ],
      "execution_count": 14,
      "outputs": [
        {
          "output_type": "stream",
          "text": [
            "torch.Size([113, 16])\n",
            "torch.Size([64, 32])\n",
            "torch.Size([64])\n",
            "torch.Size([113, 64])\n",
            "torch.Size([113])\n"
          ],
          "name": "stdout"
        }
      ]
    },
    {
      "cell_type": "markdown",
      "metadata": {
        "id": "zWS_MakVETiB"
      },
      "source": [
        "## utils"
      ]
    },
    {
      "cell_type": "code",
      "metadata": {
        "colab": {
          "base_uri": "https://localhost:8080/"
        },
        "id": "EPEldvLrEUQx",
        "outputId": "abc4fc3f-66c2-4c7c-bcfc-de7bea26c3bd"
      },
      "source": [
        "def make_context_vector(context, word_to_ix):\r\n",
        "    idxs = list(map(lambda w: word_to_ix[w], context))\r\n",
        "    tensor = torch.LongTensor(idxs)\r\n",
        "    return autograd.Variable(tensor)\r\n",
        "\r\n",
        "print(make_context_vector(data[0][0], word_to_ix)) # example\r\n",
        "print(data[0][0])\r\n",
        "print(ix_to_word[70],ix_to_word[74],ix_to_word[75],ix_to_word[13])"
      ],
      "execution_count": 44,
      "outputs": [
        {
          "output_type": "stream",
          "text": [
            "tensor([70, 74, 75, 13])\n",
            "['공화·민주', '양당', '참여한', '9천80억달러(약']\n",
            "공화·민주 양당 참여한 9천80억달러(약\n"
          ],
          "name": "stdout"
        }
      ]
    },
    {
      "cell_type": "code",
      "metadata": {
        "colab": {
          "base_uri": "https://localhost:8080/"
        },
        "id": "r3_2XOVFDxK3",
        "outputId": "b05b8870-9e2e-4bf1-9c9b-240e20978787"
      },
      "source": [
        "losses = []\r\n",
        "epochs = []\r\n",
        "\r\n",
        "loss_fn = nn.NLLLoss()\r\n",
        "optimizer = torch.optim.Adam(model.parameters(), lr=0.001)\r\n",
        "\r\n",
        "for epoch in range(100):\r\n",
        "    total_loss = torch.Tensor([0])\r\n",
        "    for ctx, target in data:\r\n",
        "        input_data = make_context_vector(ctx,word_to_ix)\r\n",
        "\r\n",
        "        model.zero_grad()\r\n",
        "        predictions = model(input_data)\r\n",
        "        loss = loss_fn(predictions, autograd.Variable(torch.LongTensor([word_to_ix[target]])))\r\n",
        "\r\n",
        "        loss.backward()\r\n",
        "        optimizer.step()\r\n",
        "\r\n",
        "        total_loss += loss.data\r\n",
        "    losses.append(total_loss.item())\r\n",
        "    if epoch % 10 == 0:\r\n",
        "        epochs.append(epoch)\r\n",
        "        print(f'Epoch: {epoch}')\r\n",
        "        print(f'  loss: {total_loss.item()}')\r\n",
        "    "
      ],
      "execution_count": 46,
      "outputs": [
        {
          "output_type": "stream",
          "text": [
            "/usr/local/lib/python3.6/dist-packages/ipykernel_launcher.py:12: UserWarning: Implicit dimension choice for log_softmax has been deprecated. Change the call to include dim=X as an argument.\n",
            "  if sys.path[0] == '':\n"
          ],
          "name": "stderr"
        },
        {
          "output_type": "stream",
          "text": [
            "Epoch: 0\n",
            "  loss: 572.94921875\n",
            "Epoch: 10\n",
            "  loss: 4.6993560791015625\n",
            "Epoch: 20\n",
            "  loss: 0.9091975688934326\n",
            "Epoch: 30\n",
            "  loss: 0.32865235209465027\n",
            "Epoch: 40\n",
            "  loss: 0.14326675236225128\n",
            "Epoch: 50\n",
            "  loss: 0.0676746666431427\n",
            "Epoch: 60\n",
            "  loss: 0.03332846984267235\n",
            "Epoch: 70\n",
            "  loss: 0.016775736585259438\n",
            "Epoch: 80\n",
            "  loss: 0.008555074222385883\n",
            "Epoch: 90\n",
            "  loss: 0.00440147565677762\n"
          ],
          "name": "stdout"
        }
      ]
    },
    {
      "cell_type": "code",
      "metadata": {
        "colab": {
          "base_uri": "https://localhost:8080/",
          "height": 295
        },
        "id": "A-MJkQHQJiwK",
        "outputId": "5b05d59d-da92-46ed-83fe-d447285baa1d"
      },
      "source": [
        "plt.title('Training')\r\n",
        "plt.plot(losses)\r\n",
        "plt.xlabel('Epochs')\r\n",
        "plt.ylabel('Loss')\r\n",
        "plt.show()"
      ],
      "execution_count": 47,
      "outputs": [
        {
          "output_type": "display_data",
          "data": {
            "image/png": "[encoded data removed]",
            "text/plain": [
              "<Figure size 432x288 with 1 Axes>"
            ]
          },
          "metadata": {
            "tags": [],
            "needs_background": "light"
          }
        }
      ]
    },
    {
      "cell_type": "code",
      "metadata": {
        "colab": {
          "base_uri": "https://localhost:8080/"
        },
        "id": "QiRd3cYQJqVV",
        "outputId": "a6bc2505-9452-4cf5-8c25-f5b30f24bad5"
      },
      "source": [
        "for param in model.parameters():\r\n",
        "    print(param)"
      ],
      "execution_count": 48,
      "outputs": [
        {
          "output_type": "stream",
          "text": [
            "Parameter containing:\n",
            "tensor([[ 1.0026e+00, -5.2364e-03,  7.7003e-01,  ..., -1.1951e-02,\n",
            "         -3.3244e-01,  1.1951e+00],\n",
            "        [-1.7780e-01,  5.5054e-01, -6.6319e-02,  ..., -2.3858e-01,\n",
            "         -2.7820e+00,  4.7581e-01],\n",
            "        [-1.2531e-01, -5.7280e-01, -2.1951e-01,  ..., -1.3314e+00,\n",
            "         -2.9937e-02, -1.7079e-01],\n",
            "        ...,\n",
            "        [-2.2184e+00,  8.4705e-01, -7.2615e-03,  ...,  2.7064e-01,\n",
            "          9.9539e-01,  1.8244e+00],\n",
            "        [-1.7891e+00, -2.8514e-01, -9.2926e-05,  ...,  1.0939e+00,\n",
            "         -2.7649e-04,  2.7731e-01],\n",
            "        [-2.2860e-01,  1.3320e+00, -1.3727e-01,  ...,  7.0118e-02,\n",
            "         -5.3068e-02,  2.7356e-01]], requires_grad=True)\n",
            "Parameter containing:\n",
            "tensor([[ 0.1250, -0.0269,  0.1931,  ..., -0.1447, -0.3130,  0.0297],\n",
            "        [ 0.0329,  0.0828,  0.0932,  ...,  0.0435,  0.1451,  0.1282],\n",
            "        [-0.0599,  0.0050, -0.0396,  ...,  0.2248,  0.0487,  0.2173],\n",
            "        ...,\n",
            "        [ 0.0186,  0.0475,  0.1970,  ...,  0.0474, -0.2160,  0.0364],\n",
            "        [-0.0947, -0.0198, -0.0385,  ..., -0.1790, -0.2793, -0.0540],\n",
            "        [ 0.0278,  0.1727, -0.1099,  ...,  0.0930, -0.1178, -0.0709]],\n",
            "       requires_grad=True)\n",
            "Parameter containing:\n",
            "tensor([ 0.0454,  0.1015,  0.1507,  0.0848, -0.0242,  0.0848,  0.0501,  0.1365,\n",
            "         0.0311, -0.0208,  0.0749,  0.0753,  0.0214, -0.0055, -0.0278,  0.0436,\n",
            "         0.1193,  0.0347,  0.0789,  0.0664,  0.1553,  0.0823,  0.0696,  0.0963,\n",
            "         0.0896, -0.0041,  0.0137,  0.0088,  0.0475,  0.0943,  0.0048,  0.1352,\n",
            "        -0.0083,  0.1110,  0.0082,  0.0562,  0.0467,  0.1214,  0.1293,  0.0995,\n",
            "         0.0686,  0.1493,  0.0078,  0.0253,  0.0240,  0.0734,  0.0128, -0.0027,\n",
            "         0.1157,  0.0306, -0.0149,  0.1054,  0.0246,  0.1556,  0.1122,  0.0664,\n",
            "         0.0860,  0.0744,  0.0414,  0.0701,  0.0100,  0.0276,  0.1344,  0.0685],\n",
            "       requires_grad=True)\n",
            "Parameter containing:\n",
            "tensor([[-0.2970,  0.0441, -0.1132,  ..., -0.3803, -0.4979, -0.2649],\n",
            "        [-0.3803, -0.2406,  0.0565,  ..., -0.3132, -0.1813, -0.1519],\n",
            "        [-0.0634, -0.1438, -0.4538,  ...,  0.0589, -0.3148, -0.2537],\n",
            "        ...,\n",
            "        [-0.1388, -0.2470, -0.8132,  ..., -0.2655,  0.0136, -0.7476],\n",
            "        [-0.7703, -0.0957, -0.1148,  ..., -0.0385, -0.0626, -0.0997],\n",
            "        [-0.1081, -0.3345, -0.3761,  ...,  0.1096, -0.1100, -0.1881]],\n",
            "       requires_grad=True)\n",
            "Parameter containing:\n",
            "tensor([-1.6397e-01, -5.1940e-02,  2.5489e-02, -1.8792e-01,  1.8036e-02,\n",
            "        -1.3176e-01,  9.4570e-03, -1.2021e-01, -5.2573e-02,  5.3759e-02,\n",
            "        -1.0746e-01, -1.3492e-01, -9.4875e-02,  8.8126e-02, -6.7197e-03,\n",
            "        -1.0018e-01, -2.1589e-03, -5.4094e-03,  3.6682e-02, -3.1509e-04,\n",
            "        -3.6310e-02, -1.8963e-01, -8.3127e-02, -1.1771e-01, -1.4338e-01,\n",
            "         2.4102e-02,  4.5306e-02,  8.7263e-03, -5.7242e-02, -1.4683e-01,\n",
            "        -1.6958e-02,  9.3266e-03, -2.2975e-02, -9.6423e-03, -6.9049e-02,\n",
            "        -1.2297e-01, -1.3128e-01, -2.1003e-02, -8.6549e-02,  8.6913e-04,\n",
            "        -8.1070e-02, -6.7887e-02,  3.4255e-02,  5.7748e-02, -2.0171e-01,\n",
            "        -1.1070e-01, -5.7133e-02, -3.3551e-02, -7.6178e-02, -7.9632e-02,\n",
            "        -1.3210e-02,  2.1727e-03, -1.2876e-01, -5.2223e-02, -5.6864e-02,\n",
            "        -1.5567e-01, -1.3677e-01, -8.2614e-02, -1.9810e-01, -1.7951e-01,\n",
            "        -9.8554e-02, -8.0634e-02,  4.4460e-03, -1.9654e-01, -1.3426e-01,\n",
            "        -2.2180e-02, -4.4054e-02, -3.4869e-01,  5.6155e-02, -6.6298e-02,\n",
            "        -2.7115e-01, -8.8075e-02,  2.3405e-02, -7.2587e-02, -2.4891e-01,\n",
            "         5.2571e-02,  4.8370e-02, -1.4922e-01, -1.7153e-01, -1.2883e-01,\n",
            "        -8.7358e-02, -9.3643e-05, -1.3608e-01, -1.0496e-01, -8.7944e-02,\n",
            "        -5.2492e-02, -8.2614e-02,  5.2954e-02, -7.0297e-02, -5.2999e-02,\n",
            "        -4.9640e-02, -3.2985e-02, -8.9862e-02, -1.9207e-01, -6.1048e-02,\n",
            "        -3.2607e-01,  6.1499e-03, -4.8867e-02, -4.6665e-02, -1.5952e-01,\n",
            "        -1.8942e-02, -1.0743e-01, -9.4257e-02, -1.0861e-01, -1.6326e-02,\n",
            "        -1.2973e-01, -8.3565e-02,  7.1223e-02, -1.8319e-01, -1.5667e-01,\n",
            "        -2.1388e-01, -3.2199e-02,  1.0519e-01], requires_grad=True)\n"
          ],
          "name": "stdout"
        }
      ]
    }
  ]
}