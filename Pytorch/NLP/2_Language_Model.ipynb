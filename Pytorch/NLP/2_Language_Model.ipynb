{
  "nbformat": 4,
  "nbformat_minor": 0,
  "metadata": {
    "colab": {
      "name": "2 Language Model.ipynb",
      "provenance": [],
      "authorship_tag": "ABX9TyNj06wp69CJIXH+dymYxRbK",
      "include_colab_link": true
    },
    "kernelspec": {
      "name": "python3",
      "display_name": "Python 3"
    }
  },
  "cells": [
    {
      "cell_type": "markdown",
      "metadata": {
        "id": "view-in-github",
        "colab_type": "text"
      },
      "source": [
        "<a href=\"https://colab.research.google.com/github/musicjae/intro_to_python/blob/master/Pytorch/NLP/2_Language_Model.ipynb\" target=\"_parent\"><img src=\"https://colab.research.google.com/assets/colab-badge.svg\" alt=\"Open In Colab\"/></a>"
      ]
    },
    {
      "cell_type": "markdown",
      "metadata": {
        "id": "8Jov2jm8v6Yb"
      },
      "source": [
        "참고: https://github.com/rguthrie3/DeepLearningForNLPInPytorch/blob/master/Deep%20Learning%20for%20Natural%20Language%20Processing%20with%20Pytorch.ipynb"
      ]
    },
    {
      "cell_type": "code",
      "metadata": {
        "id": "jdSlJRHAv0L8"
      },
      "source": [
        "import torch\r\n",
        "import torch.nn as nn\r\n",
        "import torch.nn.functional as F\r\n",
        "import torch.autograd as autograd\r\n",
        "import numpy as np\r\n",
        "import matplotlib.pyplot as plt\r\n"
      ],
      "execution_count": 37,
      "outputs": []
    },
    {
      "cell_type": "markdown",
      "metadata": {
        "id": "BHAR0tnQwdnV"
      },
      "source": [
        "# Word Embedding  \r\n",
        "  \r\n",
        "- word embeddings are a representation of the semantics of a word, efficiently encoding semantic information that might be relevant to the task at hand.  \r\n",
        "  \r\n",
        "-  embeddings are stored as a $|V| \\times D$ matrix, where $D$ is the dimensionality of the embeddings, such that the word assigned index $i$ has its embedding stored in the $i$'th row of the matrix"
      ]
    },
    {
      "cell_type": "markdown",
      "metadata": {
        "id": "mTl0hFVTxIhc"
      },
      "source": [
        "# Language Model  \r\n",
        "  \r\n",
        "- Recall that in an n-gram language model, given a sequence of words $w$, we want to compute$$ P(w_i | w_{i-1}, w_{i-2}, \\dots, w_{i-n+1} ) $$Where $w_i$ is the ith word of the sequence"
      ]
    },
    {
      "cell_type": "markdown",
      "metadata": {
        "id": "EgMSP4gFx52R"
      },
      "source": [
        "text: 신문 기사 [“제2의 비틀즈 아닌 최초의 BTS”…美음악매체 선정 ‘올해의 밴드‘]('https://www.seoul.co.kr/news/newsView.php?id=20201210500045')"
      ]
    },
    {
      "cell_type": "markdown",
      "metadata": {
        "id": "VCB7q-MEyha2"
      },
      "source": [
        "## Data Load"
      ]
    },
    {
      "cell_type": "code",
      "metadata": {
        "id": "ivTt34P_wHis"
      },
      "source": [
        "text = \"\"\"그룹 방탄소년단(BTS)이 미국의 음악 매체 컨시퀀스 오브 사운드(Consequence of Sound)가 꼽은 ‘올해의 밴드’(2020 Band of the Year)에 이름을 올렸다.\r\n",
        "\r\n",
        "컨시퀀스 오브 사운드는 8일(현지시간) 공식 홈페이지를 통해 방탄소년단을 ‘올해의 밴드’로 선정했다고 밝혔다. 이 매체는 매년 미국 내 뉴스 및 음악, 영화, TV 중심의 온라인 매체에서 주목을 받은 올해의 아티스트와 밴드를 꼽는다.\r\n",
        "\r\n",
        "이 매체는 한국 가수 최초로 ‘다이너마이트’(Dynamite)와 ‘라이프 고즈 온’(Life Goes On)으로 빌보드 메인 싱글 차트 ‘핫 100’에서 연속으로 정상에 오른 점, 빌보드 역사상 처음으로 ‘핫 100’과 ‘빌보드 200’에 동시 1위로 신규 진입한 점, 케이팝 최초 그래미 어워즈 후보 선정 등 올해 이룬 성과들을 조명했다.\r\n",
        "\r\n",
        "이어 “방탄소년단이 불확실성과 상실감으로 가득했던 한 해에 행복과 희망의 메시지를 가져왔다”며 “이들은 ‘제2의 비틀스’가 아닌 ‘최초의 방탄소년단’일지 모른다”고 평했다.\r\n",
        "\r\n",
        "앞서 펄 잼, 아케이드 파이어, 더 루츠, 툴 등을 ‘올해의 밴드’로 선정했던 컨시퀀스 오브 사운드는 “공통점은 진실성, 인지도, 끈기, 진정성, 음악에 대한 헌신”이라며 “방탄소년단은 이 모든 기준을 충족하고도 남는다”고 덧붙였다.\"\"\".split(\" \")"
      ],
      "execution_count": 6,
      "outputs": []
    },
    {
      "cell_type": "markdown",
      "metadata": {
        "id": "DKOtmPfSyjUd"
      },
      "source": [
        "### Trigrams 만들기"
      ]
    },
    {
      "cell_type": "code",
      "metadata": {
        "colab": {
          "base_uri": "https://localhost:8080/"
        },
        "id": "uFId93S3yLW0",
        "outputId": "b1823095-c681-40d6-b5ee-153ea04d1ce6"
      },
      "source": [
        "trigrams = [([text[i], text[i+1]], text[i+2]) for i in range(len(text)-2)]\r\n",
        "print(trigrams[:3])\r\n",
        "print(trigrams[50:53])\r\n",
        "print(len(trigrams))"
      ],
      "execution_count": 32,
      "outputs": [
        {
          "output_type": "stream",
          "text": [
            "[(['그룹', '방탄소년단(BTS)이'], '미국의'), (['방탄소년단(BTS)이', '미국의'], '음악'), (['미국의', '음악'], '매체')]\n",
            "[(['한국', '가수'], '최초로'), (['가수', '최초로'], '‘다이너마이트’(Dynamite)와'), (['최초로', '‘다이너마이트’(Dynamite)와'], '‘라이프')]\n",
            "137\n"
          ],
          "name": "stdout"
        }
      ]
    },
    {
      "cell_type": "markdown",
      "metadata": {
        "id": "7k1e_yRTy7D4"
      },
      "source": [
        "### word to index"
      ]
    },
    {
      "cell_type": "code",
      "metadata": {
        "colab": {
          "base_uri": "https://localhost:8080/"
        },
        "id": "lZVuaxzvy8to",
        "outputId": "6e809112-0bb2-4358-ff48-bcd77836428b"
      },
      "source": [
        "vocab = set(text)\r\n",
        "w2i = {word:idx for idx,word in enumerate(vocab)}\r\n",
        "i2w = {idx:word for idx,word in enumerate(vocab)}\r\n",
        "print(f'단어 집합 사이즈: {len(w2i)}')"
      ],
      "execution_count": 85,
      "outputs": [
        {
          "output_type": "stream",
          "text": [
            "단어 집합 사이즈: 126\n"
          ],
          "name": "stdout"
        }
      ]
    },
    {
      "cell_type": "markdown",
      "metadata": {
        "id": "4_ufuzP00gnZ"
      },
      "source": [
        "## LM model"
      ]
    },
    {
      "cell_type": "code",
      "metadata": {
        "colab": {
          "base_uri": "https://localhost:8080/"
        },
        "id": "7ja806jN0hwT",
        "outputId": "1477de14-418d-4330-bd05-62e1ae3f90f7"
      },
      "source": [
        "VOCAB_SIZE = len(vocab)\r\n",
        "CONTEXT_SIZE = 2\r\n",
        "EMBEDDING_DIM = 16\r\n",
        "\r\n",
        "\r\n",
        "class trigram_LM(nn.Module):\r\n",
        "\r\n",
        "    def __init__(self, vocab_size, embedding_dim, context_size):\r\n",
        "        super(trigram_LM, self).__init__()\r\n",
        "        self.emb = nn.Embedding(vocab_size, embedding_dim)\r\n",
        "        self.linear = nn.Linear(embedding_dim*context_size, 128)\r\n",
        "        self.linear2 = nn.Linear(128, vocab_size)\r\n",
        "\r\n",
        "    def forward(self, inputs):\r\n",
        "        embed = self.emb(inputs).view((1,-1)) # Flattening\r\n",
        "        out = F.tanh(self.linear(embed))\r\n",
        "        out = F.log_softmax(self.linear2(out))\r\n",
        "\r\n",
        "        return out\r\n",
        "\r\n",
        "model = trigram_LM(VOCAB_SIZE,EMBEDDING_DIM,CONTEXT_SIZE)\r\n",
        "print(model)"
      ],
      "execution_count": 60,
      "outputs": [
        {
          "output_type": "stream",
          "text": [
            "trigram_LM(\n",
            "  (emb): Embedding(126, 16)\n",
            "  (linear): Linear(in_features=32, out_features=128, bias=True)\n",
            "  (linear2): Linear(in_features=128, out_features=126, bias=True)\n",
            ")\n"
          ],
          "name": "stdout"
        }
      ]
    },
    {
      "cell_type": "code",
      "metadata": {
        "colab": {
          "base_uri": "https://localhost:8080/"
        },
        "id": "nOYsD_yU2H0M",
        "outputId": "49a8dff3-ffaf-4d48-c6fc-132df77bb0c0"
      },
      "source": [
        "for param in model.parameters():\r\n",
        "    print(param.shape)"
      ],
      "execution_count": 57,
      "outputs": [
        {
          "output_type": "stream",
          "text": [
            "torch.Size([126, 16])\n",
            "torch.Size([128, 80])\n",
            "torch.Size([128])\n",
            "torch.Size([126, 128])\n",
            "torch.Size([126])\n"
          ],
          "name": "stdout"
        }
      ]
    },
    {
      "cell_type": "code",
      "metadata": {
        "colab": {
          "base_uri": "https://localhost:8080/"
        },
        "id": "FBqBdVg77OMY",
        "outputId": "ce788d1a-674d-4117-9e76-9078fd18c5ca"
      },
      "source": [
        "for layer_name, layer in model.named_modules():\r\n",
        "    print(layer_name)"
      ],
      "execution_count": 58,
      "outputs": [
        {
          "output_type": "stream",
          "text": [
            "\n",
            "emb\n",
            "linear\n",
            "linear2\n"
          ],
          "name": "stdout"
        }
      ]
    },
    {
      "cell_type": "markdown",
      "metadata": {
        "id": "J59TDswm12_N"
      },
      "source": [
        "## Training"
      ]
    },
    {
      "cell_type": "code",
      "metadata": {
        "colab": {
          "base_uri": "https://localhost:8080/"
        },
        "id": "d4COZ3IY12kF",
        "outputId": "2984c884-7491-46f4-fcbe-8b77b0efba51"
      },
      "source": [
        "losses = []\r\n",
        "epochs = []\r\n",
        "loss_fn = nn.NLLLoss()\r\n",
        "optimizer = torch.optim.SGD(model.parameters(), lr=0.001)\r\n",
        "\r\n",
        "print('Learning...........................')\r\n",
        "for epoch in range(500):\r\n",
        "    total_loss = torch.Tensor([0]) # init loss\r\n",
        "    \r\n",
        "    for ctx, target in trigrams:\r\n",
        "\r\n",
        "        # 1. input 준비\r\n",
        "        context_idx = list(map(lambda w: w2i[w], ctx))\r\n",
        "        context_var = autograd.Variable(torch.LongTensor(context_idx))\r\n",
        "\r\n",
        "        model.zero_grad() # clear grad\r\n",
        "        predictions = model(context_var)\r\n",
        "        loss = loss_fn(predictions, torch.autograd.Variable(torch.LongTensor([w2i[target]])))\r\n",
        "\r\n",
        "        loss.backward()\r\n",
        "        optimizer.step()\r\n",
        "\r\n",
        "        total_loss += loss.data\r\n",
        "    losses.append(total_loss.item())\r\n",
        "    if epoch % 10 == 0:\r\n",
        "        epochs.append(epoch)\r\n",
        "        print(f'Epoch: {epoch}')\r\n",
        "        print(f'  loss: {total_loss.item()}')\r\n"
      ],
      "execution_count": 67,
      "outputs": [
        {
          "output_type": "stream",
          "text": [
            "Learning...........................\n",
            "Epoch: 0\n",
            "  loss: 40.84033203125\n"
          ],
          "name": "stdout"
        },
        {
          "output_type": "stream",
          "text": [
            "/usr/local/lib/python3.6/dist-packages/torch/nn/functional.py:1628: UserWarning: nn.functional.tanh is deprecated. Use torch.tanh instead.\n",
            "  warnings.warn(\"nn.functional.tanh is deprecated. Use torch.tanh instead.\")\n",
            "/usr/local/lib/python3.6/dist-packages/ipykernel_launcher.py:17: UserWarning: Implicit dimension choice for log_softmax has been deprecated. Change the call to include dim=X as an argument.\n"
          ],
          "name": "stderr"
        },
        {
          "output_type": "stream",
          "text": [
            "Epoch: 10\n",
            "  loss: 37.84450149536133\n",
            "Epoch: 20\n",
            "  loss: 35.249210357666016\n",
            "Epoch: 30\n",
            "  loss: 32.98527526855469\n",
            "Epoch: 40\n",
            "  loss: 30.997621536254883\n",
            "Epoch: 50\n",
            "  loss: 29.24197769165039\n",
            "Epoch: 60\n",
            "  loss: 27.682510375976562\n",
            "Epoch: 70\n",
            "  loss: 26.29001235961914\n",
            "Epoch: 80\n",
            "  loss: 25.040523529052734\n",
            "Epoch: 90\n",
            "  loss: 23.91423797607422\n",
            "Epoch: 100\n",
            "  loss: 22.894668579101562\n",
            "Epoch: 110\n",
            "  loss: 21.968074798583984\n",
            "Epoch: 120\n",
            "  loss: 21.122848510742188\n",
            "Epoch: 130\n",
            "  loss: 20.349199295043945\n",
            "Epoch: 140\n",
            "  loss: 19.638765335083008\n",
            "Epoch: 150\n",
            "  loss: 18.984420776367188\n",
            "Epoch: 160\n",
            "  loss: 18.380037307739258\n",
            "Epoch: 170\n",
            "  loss: 17.820302963256836\n",
            "Epoch: 180\n",
            "  loss: 17.300628662109375\n",
            "Epoch: 190\n",
            "  loss: 16.817020416259766\n",
            "Epoch: 200\n",
            "  loss: 16.365962982177734\n",
            "Epoch: 210\n",
            "  loss: 15.9443998336792\n",
            "Epoch: 220\n",
            "  loss: 15.549616813659668\n",
            "Epoch: 230\n",
            "  loss: 15.179221153259277\n",
            "Epoch: 240\n",
            "  loss: 14.831095695495605\n",
            "Epoch: 250\n",
            "  loss: 14.503337860107422\n",
            "Epoch: 260\n",
            "  loss: 14.194275856018066\n",
            "Epoch: 270\n",
            "  loss: 13.902393341064453\n",
            "Epoch: 280\n",
            "  loss: 13.626347541809082\n",
            "Epoch: 290\n",
            "  loss: 13.364897727966309\n",
            "Epoch: 300\n",
            "  loss: 13.11697006225586\n",
            "Epoch: 310\n",
            "  loss: 12.88155746459961\n",
            "Epoch: 320\n",
            "  loss: 12.657763481140137\n",
            "Epoch: 330\n",
            "  loss: 12.44477367401123\n",
            "Epoch: 340\n",
            "  loss: 12.241847038269043\n",
            "Epoch: 350\n",
            "  loss: 12.048290252685547\n",
            "Epoch: 360\n",
            "  loss: 11.863495826721191\n",
            "Epoch: 370\n",
            "  loss: 11.686893463134766\n",
            "Epoch: 380\n",
            "  loss: 11.517964363098145\n",
            "Epoch: 390\n",
            "  loss: 11.356229782104492\n",
            "Epoch: 400\n",
            "  loss: 11.201257705688477\n",
            "Epoch: 410\n",
            "  loss: 11.052624702453613\n",
            "Epoch: 420\n",
            "  loss: 10.909966468811035\n",
            "Epoch: 430\n",
            "  loss: 10.772940635681152\n",
            "Epoch: 440\n",
            "  loss: 10.641236305236816\n",
            "Epoch: 450\n",
            "  loss: 10.514538764953613\n",
            "Epoch: 460\n",
            "  loss: 10.392586708068848\n",
            "Epoch: 470\n",
            "  loss: 10.275114059448242\n",
            "Epoch: 480\n",
            "  loss: 10.16189193725586\n",
            "Epoch: 490\n",
            "  loss: 10.052691459655762\n"
          ],
          "name": "stdout"
        }
      ]
    },
    {
      "cell_type": "code",
      "metadata": {
        "colab": {
          "base_uri": "https://localhost:8080/",
          "height": 295
        },
        "id": "WUKLwAa28g14",
        "outputId": "fecd82f1-34fe-4556-8aa7-da6b25e36274"
      },
      "source": [
        "plt.title('Training')\r\n",
        "plt.plot(losses)\r\n",
        "plt.xlabel('Epochs')\r\n",
        "plt.ylabel('Loss')\r\n",
        "plt.show()"
      ],
      "execution_count": 72,
      "outputs": [
        {
          "output_type": "display_data",
          "data": {
            "image/png": "[encoded data removed]",
            "text/plain": [
              "<Figure size 432x288 with 1 Axes>"
            ]
          },
          "metadata": {
            "tags": [],
            "needs_background": "light"
          }
        }
      ]
    },
    {
      "cell_type": "code",
      "metadata": {
        "colab": {
          "base_uri": "https://localhost:8080/"
        },
        "id": "cDQ3_pp089z6",
        "outputId": "3162e702-9f2a-41a9-99b5-51b27e029118"
      },
      "source": [
        "for i in model.parameters():\r\n",
        "    print(i.shape)"
      ],
      "execution_count": 83,
      "outputs": [
        {
          "output_type": "stream",
          "text": [
            "torch.Size([126, 16])\n",
            "torch.Size([128, 32])\n",
            "torch.Size([128])\n",
            "torch.Size([126, 128])\n",
            "torch.Size([126])\n"
          ],
          "name": "stdout"
        }
      ]
    }
  ]
}