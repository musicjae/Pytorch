{
  "nbformat": 4,
  "nbformat_minor": 0,
  "metadata": {
    "colab": {
      "name": "Pytorch_studying(2).ipynb",
      "provenance": [],
      "collapsed_sections": [],
      "authorship_tag": "ABX9TyOHqikyj1u9Om0oNvMV31jZ",
      "include_colab_link": true
    },
    "kernelspec": {
      "name": "python3",
      "display_name": "Python 3"
    },
    "accelerator": "GPU"
  },
  "cells": [
    {
      "cell_type": "markdown",
      "metadata": {
        "id": "view-in-github",
        "colab_type": "text"
      },
      "source": [
        "<a href=\"https://colab.research.google.com/github/musicjae/intro_to_python/blob/master/Pytorch/Pytorch_studying(2).ipynb\" target=\"_parent\"><img src=\"https://colab.research.google.com/assets/colab-badge.svg\" alt=\"Open In Colab\"/></a>"
      ]
    },
    {
      "cell_type": "code",
      "metadata": {
        "id": "6Q7hNUQW3Zq5",
        "colab_type": "code",
        "colab": {
          "resources": {
            "http://localhost:8080/nbextensions/google.colab/files.js": {
              "data": "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",
              "ok": true,
              "headers": [
                [
                  "content-type",
                  "application/javascript"
                ]
              ],
              "status": 200,
              "status_text": ""
            }
          },
          "base_uri": "https://localhost:8080/",
          "height": 90
        },
        "outputId": "42755d76-8a98-490c-b46b-80b9b1dbb1b2"
      },
      "source": [
        "from google.colab import files\n",
        "uploaded = files.upload() # 파일 업로드 기능 실행\n",
        "\n",
        "for fn in uploaded.keys(): # 업로드된 파일 정보 출력\n",
        "    print('User uploaded file \"{name}\" with length {length} bytes'.format(\n",
        "        name=fn, length=len(uploaded[fn])))\n"
      ],
      "execution_count": 23,
      "outputs": [
        {
          "output_type": "display_data",
          "data": {
            "text/html": [
              "\n",
              "     <input type=\"file\" id=\"files-2a6101d7-d590-4a4a-8c5d-88fcd14b3d41\" name=\"files[]\" multiple disabled\n",
              "        style=\"border:none\" />\n",
              "     <output id=\"result-2a6101d7-d590-4a4a-8c5d-88fcd14b3d41\">\n",
              "      Upload widget is only available when the cell has been executed in the\n",
              "      current browser session. Please rerun this cell to enable.\n",
              "      </output>\n",
              "      <script src=\"/nbextensions/google.colab/files.js\"></script> "
            ],
            "text/plain": [
              "<IPython.core.display.HTML object>"
            ]
          },
          "metadata": {
            "tags": []
          }
        },
        {
          "output_type": "stream",
          "text": [
            "Saving pt1.png to pt1.png\n",
            "User uploaded file \"pt1.png\" with length 80241 bytes\n"
          ],
          "name": "stdout"
        }
      ]
    },
    {
      "cell_type": "code",
      "metadata": {
        "id": "4rnOffsi3eZI",
        "colab_type": "code",
        "colab": {}
      },
      "source": [
        "from IPython.display import Image"
      ],
      "execution_count": 25,
      "outputs": []
    },
    {
      "cell_type": "markdown",
      "metadata": {
        "id": "KpVy55ZBmmB-",
        "colab_type": "text"
      },
      "source": [
        "PYTORCH는 무엇인가?  \n",
        "\n",
        "Python 기반의 과학 연산 패키지로 다음과 같은 두 집단을 대상으로 합니다:\n",
        "\n",
        "- NumPy를 대체하면서 GPU를 이용한 연산이 필요한 경우\n",
        "\n",
        "- 최대한의 유연성과 속도를 제공하는 딥러닝 연구 플랫폼이 필요한 경우"
      ]
    },
    {
      "cell_type": "markdown",
      "metadata": {
        "id": "vDmQn1yckEUR",
        "colab_type": "text"
      },
      "source": [
        "# 1. 텐서"
      ]
    },
    {
      "cell_type": "code",
      "metadata": {
        "id": "nEZiBN2Ne_7l",
        "colab_type": "code",
        "colab": {
          "base_uri": "https://localhost:8080/",
          "height": 510
        },
        "outputId": "64e4b7ad-b4a1-4eaf-dd95-ec2942da270c"
      },
      "source": [
        "import torch\n",
        "\n",
        "test1 = torch.empty(5,3)\n",
        "test2 = torch.rand(5,3)\n",
        "test3 = torch.tensor([2,1]) # data --> tensor\n",
        "print('\\n\\n1',test1,'\\n\\n2', test2,'\\n\\n3', test3)\n",
        "\n",
        "x = test2.new_ones(5, 3, dtype=torch.double)  # new_* 메소드는 크기를 받습니다\n",
        "print('\\n\\n4',x)\n",
        "\n",
        "print('\\n\\n5',test1+test2)"
      ],
      "execution_count": 11,
      "outputs": [
        {
          "output_type": "stream",
          "text": [
            "\n",
            "\n",
            "1 tensor([[1.8054e-35, 0.0000e+00, 1.6675e-43],\n",
            "        [5.6052e-44, 1.6816e-43, 6.1657e-44],\n",
            "        [4.4842e-44, 1.6956e-43, 6.1657e-44],\n",
            "        [4.4842e-44, 1.7096e-43, 5.7453e-44],\n",
            "        [7.3063e-01, 8.1877e-01, 4.2083e-01]]) \n",
            "\n",
            "2 tensor([[0.6857, 0.4001, 0.3928],\n",
            "        [0.5153, 0.3877, 0.9543],\n",
            "        [0.5612, 0.0323, 0.2096],\n",
            "        [0.3465, 0.2714, 0.2285],\n",
            "        [0.2157, 0.8310, 0.0175]]) \n",
            "\n",
            "3 tensor([2, 1])\n",
            "\n",
            "\n",
            "4 tensor([[1., 1., 1.],\n",
            "        [1., 1., 1.],\n",
            "        [1., 1., 1.],\n",
            "        [1., 1., 1.],\n",
            "        [1., 1., 1.]], dtype=torch.float64)\n",
            "\n",
            "\n",
            "5 tensor([[0.6857, 0.4001, 0.3928],\n",
            "        [0.5153, 0.3877, 0.9543],\n",
            "        [0.5612, 0.0323, 0.2096],\n",
            "        [0.3465, 0.2714, 0.2285],\n",
            "        [0.9464, 1.6497, 0.4384]])\n"
          ],
          "name": "stdout"
        }
      ]
    },
    {
      "cell_type": "markdown",
      "metadata": {
        "id": "xeALmggjkGMJ",
        "colab_type": "text"
      },
      "source": [
        "## 1.2 크기 변경"
      ]
    },
    {
      "cell_type": "code",
      "metadata": {
        "id": "kVUGar1ckH-y",
        "colab_type": "code",
        "colab": {
          "base_uri": "https://localhost:8080/",
          "height": 153
        },
        "outputId": "372da8c8-2e89-4cb3-8fb6-4fcd3bee863b"
      },
      "source": [
        "tor = torch.rand(5,3)\n",
        "print(tor)\n",
        "\n",
        "tor = tor.view(3,5) # resize\n",
        "print(tor)"
      ],
      "execution_count": 17,
      "outputs": [
        {
          "output_type": "stream",
          "text": [
            "tensor([[0.9183, 0.0772, 0.9426],\n",
            "        [0.6906, 0.8982, 0.5494],\n",
            "        [0.1190, 0.1512, 0.7501],\n",
            "        [0.4374, 0.9671, 0.2858],\n",
            "        [0.5406, 0.5627, 0.9293]])\n",
            "tensor([[0.9183, 0.0772, 0.9426, 0.6906, 0.8982],\n",
            "        [0.5494, 0.1190, 0.1512, 0.7501, 0.4374],\n",
            "        [0.9671, 0.2858, 0.5406, 0.5627, 0.9293]])\n"
          ],
          "name": "stdout"
        }
      ]
    },
    {
      "cell_type": "markdown",
      "metadata": {
        "id": "c3MNMbnlklip",
        "colab_type": "text"
      },
      "source": [
        "## 1.3 텐서값을 하나의 수로 뽑아내기 item"
      ]
    },
    {
      "cell_type": "code",
      "metadata": {
        "id": "wD88gzFJkoLa",
        "colab_type": "code",
        "colab": {
          "base_uri": "https://localhost:8080/",
          "height": 51
        },
        "outputId": "2130bbd6-d663-44a5-dcfc-86ea606d749d"
      },
      "source": [
        "tor = torch.rand(1)\n",
        "print(tor)  \n",
        "\n",
        "torr = tor.item()\n",
        "print(torr)\n",
        "  \n"
      ],
      "execution_count": 24,
      "outputs": [
        {
          "output_type": "stream",
          "text": [
            "tensor([0.1570])\n",
            "0.15695178508758545\n"
          ],
          "name": "stdout"
        }
      ]
    },
    {
      "cell_type": "markdown",
      "metadata": {
        "id": "v5lVSeOzlzTq",
        "colab_type": "text"
      },
      "source": [
        "## 1.4 tensor --> numpy"
      ]
    },
    {
      "cell_type": "code",
      "metadata": {
        "id": "m0F6YOxfl2Ji",
        "colab_type": "code",
        "colab": {
          "base_uri": "https://localhost:8080/",
          "height": 51
        },
        "outputId": "b02003e3-8879-4a3d-c089-8b44ea858ca9"
      },
      "source": [
        "tor = torch.rand(1)\n",
        "print(tor)  \n",
        "\n",
        "tor2 = tor.numpy()\n",
        "print(tor2)"
      ],
      "execution_count": 25,
      "outputs": [
        {
          "output_type": "stream",
          "text": [
            "tensor([0.3287])\n",
            "[0.32868278]\n"
          ],
          "name": "stdout"
        }
      ]
    },
    {
      "cell_type": "markdown",
      "metadata": {
        "id": "d4vFs1EHl9tX",
        "colab_type": "text"
      },
      "source": [
        "## 1.5 numpy --> tensor"
      ]
    },
    {
      "cell_type": "code",
      "metadata": {
        "id": "N1aw_m18mDi5",
        "colab_type": "code",
        "colab": {
          "base_uri": "https://localhost:8080/",
          "height": 68
        },
        "outputId": "7b65dfc3-3cc9-4ea4-900f-ad89f05aaefe"
      },
      "source": [
        "import numpy as np\n",
        "import torch\n",
        "\n",
        "num = np.ones(5)\n",
        "print(num,'\\n')\n",
        "tor3 = torch.from_numpy(num)\n",
        "print(tor3)"
      ],
      "execution_count": 29,
      "outputs": [
        {
          "output_type": "stream",
          "text": [
            "[1. 1. 1. 1. 1.] \n",
            "\n",
            "tensor([1., 1., 1., 1., 1.], dtype=torch.float64)\n"
          ],
          "name": "stdout"
        }
      ]
    },
    {
      "cell_type": "markdown",
      "metadata": {
        "id": "SODMeOBcnl-M",
        "colab_type": "text"
      },
      "source": [
        "# 2. 예제로 배우는 파이토치"
      ]
    },
    {
      "cell_type": "markdown",
      "metadata": {
        "id": "VLXcQAXxpQnS",
        "colab_type": "text"
      },
      "source": [
        "## 2.1 넘파이 사용 시"
      ]
    },
    {
      "cell_type": "code",
      "metadata": {
        "id": "GVj85H9fnjJn",
        "colab_type": "code",
        "colab": {
          "base_uri": "https://localhost:8080/",
          "height": 238
        },
        "outputId": "519400ac-65ef-455c-8f0f-49b1016948ca"
      },
      "source": [
        "# 넘파이\n",
        "\n",
        "import numpy as np\n",
        "import time\n",
        "\n",
        "# N은 배치 크기이며, D_in은 입력의 차원입니다;\n",
        "# H는 은닉층의 차원이며, D_out은 출력 차원입니다.\n",
        "N, D_in, H, D_out = 64, 1000, 100, 10\n",
        "\n",
        "# 무작위의 입력과 출력 데이터를 생성합니다.\n",
        "x = np.random.randn(N, D_in)\n",
        "y = np.random.randn(N, D_out)\n",
        "\n",
        "# 무작위로 가중치를 초기화합니다.\n",
        "w1 = np.random.randn(D_in, H)\n",
        "w2 = np.random.randn(H, D_out)\n",
        "\n",
        "learning_rate = 1e-6\n",
        "start = time.time()\n",
        "for t in range(500):\n",
        "    # 순전파 단계: 예측값 y를 계산합니다.\n",
        "    h = x.dot(w1)\n",
        "    h_relu = np.maximum(h, 0)\n",
        "    y_pred = h_relu.dot(w2)\n",
        "\n",
        "    # 손실(loss)을 계산하고 출력합니다.\n",
        "    loss = np.square(y_pred - y).sum()\n",
        "    if (t+1) % 50 == 0:\n",
        "        print('Epoch:', '%04d' % (t + 1), 'cost =', '{:.6f}'.format(loss))\n",
        "\n",
        "    # 손실에 따른 w1, w2의 변화도를 계산하고 역전파합니다.\n",
        "    grad_y_pred = 2.0 * (y_pred - y)\n",
        "    grad_w2 = h_relu.T.dot(grad_y_pred)\n",
        "    grad_h_relu = grad_y_pred.dot(w2.T)\n",
        "    grad_h = grad_h_relu.copy()\n",
        "    grad_h[h < 0] = 0\n",
        "    grad_w1 = x.T.dot(grad_h)\n",
        "\n",
        "    # 가중치를 갱신합니다.\n",
        "    w1 -= learning_rate * grad_w1\n",
        "    w2 -= learning_rate * grad_w2\n",
        "end= time.time()\n",
        "print('\\n\\n','>>>>>> 소요 시간: ',end-start,'sec')"
      ],
      "execution_count": 53,
      "outputs": [
        {
          "output_type": "stream",
          "text": [
            "Epoch: 0050 cost = 10074.721998\n",
            "Epoch: 0100 cost = 297.387863\n",
            "Epoch: 0150 cost = 16.145471\n",
            "Epoch: 0200 cost = 1.197034\n",
            "Epoch: 0250 cost = 0.107648\n",
            "Epoch: 0300 cost = 0.010891\n",
            "Epoch: 0350 cost = 0.001180\n",
            "Epoch: 0400 cost = 0.000133\n",
            "Epoch: 0450 cost = 0.000015\n",
            "Epoch: 0500 cost = 0.000002\n",
            "\n",
            "\n",
            " >>>>>> 소요 시간:  1.0614979267120361 sec\n"
          ],
          "name": "stdout"
        }
      ]
    },
    {
      "cell_type": "markdown",
      "metadata": {
        "id": "a5KffJTOpVLW",
        "colab_type": "text"
      },
      "source": [
        "## 2.2 파이토치 사용 시"
      ]
    },
    {
      "cell_type": "code",
      "metadata": {
        "id": "8xpQXFpEpWSD",
        "colab_type": "code",
        "colab": {
          "base_uri": "https://localhost:8080/",
          "height": 493
        },
        "outputId": "ba05a809-3934-4a26-fe31-75f67eea1972"
      },
      "source": [
        "import torch\n",
        "import time\n",
        "\n",
        "\n",
        "dtype = torch.float\n",
        "device = torch.device(\"cpu\")\n",
        "device = torch.device(\"cuda:0\") # GPU에서 실행\n",
        "\n",
        "N, D_in, H, D_out = 64, 1000, 100, 10 # N은 배치 크기이며, D_in은 입력의 차원입니다; # H는 은닉층의 차원이며, D_out은 출력 차원입니다.\n",
        "\n",
        "x = torch.randn(N,D_in)\n",
        "y=torch.randn(N,D_out)\n",
        "\n",
        "w1 = torch.randn(D_in, H)\n",
        "w2 = torch.randn(H,D_out)\n",
        "\n",
        "learning_rate = 1e-6\n",
        "start = time.time()\n",
        "\n",
        "\n",
        "for t in range(500):\n",
        "\n",
        "    # forward \n",
        "\n",
        "    h=x.mm(w1)\n",
        "    h_relu = h.clamp(min=0) # relu\n",
        "    y_pred = h_relu.mm(w2)\n",
        "\n",
        "    # loss\n",
        "\n",
        "    loss = (y_pred - y).pow(2).sum().item()\n",
        "    if (t+1)%20==0:\n",
        "\n",
        "        print(\"epoch:\", '%.04d' % (t+1), 'cost: {:.06f}'.format(loss))\n",
        "\n",
        "    # backward\n",
        "\n",
        "    grad_y_pred = 2.0*(y_pred - y)\n",
        "    grad_w2 = h_relu.t().mm(grad_y_pred)\n",
        "    grad_h_relu = grad_y_pred.mm(w2.t())\n",
        "    grad_h = grad_h_relu.clone()\n",
        "    grad_h[h<0] = 0\n",
        "    grad_w1 = x.t().mm(grad_h)\n",
        "\n",
        "    # update by sgd\n",
        "\n",
        "    w1 -= learning_rate*grad_w1\n",
        "    w2 -= learning_rate*grad_w2\n",
        "end = time.time()\n",
        "print('\\n\\n >>>>> 소요 시간: ',end-start,'sec')"
      ],
      "execution_count": 54,
      "outputs": [
        {
          "output_type": "stream",
          "text": [
            "epoch: 0020 cost: 279092.062500\n",
            "epoch: 0040 cost: 39204.929688\n",
            "epoch: 0060 cost: 9579.550781\n",
            "epoch: 0080 cost: 2985.496582\n",
            "epoch: 0100 cost: 1051.449097\n",
            "epoch: 0120 cost: 394.996124\n",
            "epoch: 0140 cost: 154.387115\n",
            "epoch: 0160 cost: 61.952080\n",
            "epoch: 0180 cost: 25.351934\n",
            "epoch: 0200 cost: 10.541975\n",
            "epoch: 0220 cost: 4.451124\n",
            "epoch: 0240 cost: 1.902354\n",
            "epoch: 0260 cost: 0.821489\n",
            "epoch: 0280 cost: 0.357924\n",
            "epoch: 0300 cost: 0.157300\n",
            "epoch: 0320 cost: 0.069628\n",
            "epoch: 0340 cost: 0.031095\n",
            "epoch: 0360 cost: 0.014058\n",
            "epoch: 0380 cost: 0.006507\n",
            "epoch: 0400 cost: 0.003128\n",
            "epoch: 0420 cost: 0.001597\n",
            "epoch: 0440 cost: 0.000878\n",
            "epoch: 0460 cost: 0.000518\n",
            "epoch: 0480 cost: 0.000326\n",
            "epoch: 0500 cost: 0.000218\n",
            "\n",
            "\n",
            " >>>>> 소요 시간:  0.5359079837799072 sec\n"
          ],
          "name": "stdout"
        }
      ]
    },
    {
      "cell_type": "markdown",
      "metadata": {
        "id": "TFIegva1trvm",
        "colab_type": "text"
      },
      "source": [
        "## ****이 비교에서는 파이토치가 넘파이 보다 약 2 배 더 빠르다!"
      ]
    },
    {
      "cell_type": "markdown",
      "metadata": {
        "id": "ykzEUc28stwx",
        "colab_type": "text"
      },
      "source": [
        "# 3. 자동 미분 Autograd"
      ]
    },
    {
      "cell_type": "markdown",
      "metadata": {
        "id": "yZrOjbU5tMNJ",
        "colab_type": "text"
      },
      "source": [
        "\"다행히도, 자동 미분 을 사용하여 신경망에서 역전파 단계의 연산을 자동화할 수 있습니다. PyTorch의 autograd 패키지는 정확히 이런 기능을 제공합니다. Autograd를 사용할 때, *신경망의 순전파 단계는 연산 그래프 를 정의하게 됩니다*; 이 그래프의 노드(node)는 Tensor, 엣지(edge)는 입력 Tensor로부터 출력 Tensor를 만들어내는 함수가 됩니다. 이 그래프를 통해 역전파를 하게 되면 변화도를 쉽게 계산할 수 있습니다.\n",
        "\n",
        "이는 복잡하게 들리지만, 실제로 사용하는 것은 매우 간단합니다. 각 Tensor는 연산 그래프에서 노드로 표현됩니다. 만약 x 가 x.requires_grad=True 인 Tensor면 x.grad 는 어떤 스칼라 값에 대한 x 의 변화도를 갖는 또 다른 Tensor입니다.\"\n",
        "https://tutorials.pytorch.kr/beginner/pytorch_with_examples.html"
      ]
    },
    {
      "cell_type": "markdown",
      "metadata": {
        "id": "WwwIHqMorlGF",
        "colab_type": "text"
      },
      "source": [
        "(1) torch.autograd.Function의 서브클래스 정의  \n",
        "(2) forward, backward 함수 구현  \n",
        "(3) 인스턴스 생성"
      ]
    },
    {
      "cell_type": "code",
      "metadata": {
        "id": "-AH4Y_61pP8Y",
        "colab_type": "code",
        "colab": {
          "base_uri": "https://localhost:8080/",
          "height": 238
        },
        "outputId": "0f70f411-c24e-478b-c4bc-47761bd7941c"
      },
      "source": [
        "import torch\n",
        "import time\n",
        "\n",
        "class MyReLU(torch.autograd.Function):\n",
        "\n",
        "    @staticmethod\n",
        "    def forward(ctx, input): # ctx는 컨텍스트 객체(context object)로 역전파 연산을 위한 정보 저장에 사용합니다. ctx.save_for_backward method를 사용하여 역전파 단계에서 사용할 어떠한 객체도 저장(cache)해 둘 수 있습니다.\n",
        "        \n",
        "        ctx.save_for_backward(input)\n",
        "        return input.clamp(min=0)\n",
        "\n",
        "    def backward(ctx, grad_output):\n",
        "\n",
        "        input, = ctx.saved_tensors\n",
        "        grad_input = grad_output.clone()\n",
        "        grad_input[input < 0] = 0\n",
        "        return grad_input\n",
        "\n",
        "dtype = torch.float\n",
        "device = torch.device(\"cpu\")\n",
        "\n",
        "# N : batch size\n",
        "# D_in: dimentionality of input\n",
        "# H: hidden layers #\n",
        "# D_out\n",
        "\n",
        "N, D_in, H, D_out = 64, 1000, 100,10\n",
        "\n",
        "#입력, 출력 저장하려고 무작위 값 생성\n",
        "x = torch.randn(N, D_in, device = device, dtype = dtype)\n",
        "y = torch.randn(N, D_out, device = device, dtype = dtype)\n",
        "\n",
        "w1 = torch.randn(D_in, H, device = device, dtype = dtype, requires_grad = True)\n",
        "w2 = torch.randn(H, D_out, device = device, dtype = dtype, requires_grad = True)\n",
        "\n",
        "learning_rate = 1e-6\n",
        "start = time.time()\n",
        "for t in range(500):\n",
        "\n",
        "    relu = MyReLU.apply # 사용자 정의 Function을 적용하기 위해 --.apply 메소드 사용.\n",
        "\n",
        "    # 순전파\n",
        "    y_pred = relu(x.mm(w1)).mm(w2)\n",
        "\n",
        "    # loss는 (1,) 형태의 텐서니까 loss.item()를 통해 그 안의 수를 빼낸다\n",
        "    loss = (y_pred - y).pow(2).sum()\n",
        "\n",
        "    if (t+1) % 50 == 0:\n",
        "\n",
        "        print('epoch: ',t+1, 'cost: ',loss.item())\n",
        "\n",
        "    # autograd: 이것은 requires_grad=True 를 갖는 모든 텐서에 대한 loss_grad를 계산.\n",
        "    #  이후 w1.grad와 w2.grad는 w1과 w2 각각에 대한 손실의 변화도를 갖는 Tensor가 됩니다\n",
        "    loss.backward()\n",
        "\n",
        "    #  수동으로 가중치 갱신\n",
        "\n",
        "    with torch.no_grad(): # 이것으로 감싸는 이유는 가중치들이 requires_grad = True 지만, autograd에서는 이것을 추적 x\n",
        "\n",
        "        w1 -= learning_rate*w1.grad\n",
        "        w2 -= learning_rate*w2.grad\n",
        "\n",
        "        # 가중치 갱신 이후 ==> 수동으로 변화도를 0으로 초기화\n",
        "\n",
        "        w1.grad.zero_()\n",
        "        w2.grad.zero_()\n",
        "\n",
        "end = time.time()\n",
        "print('\\n\\n >>>>> 소요 시간: ',end-start,'sec')\n"
      ],
      "execution_count": 22,
      "outputs": [
        {
          "output_type": "stream",
          "text": [
            "epoch:  50 cost:  17388.783203125\n",
            "epoch:  100 cost:  786.827392578125\n",
            "epoch:  150 cost:  57.27821731567383\n",
            "epoch:  200 cost:  5.198742389678955\n",
            "epoch:  250 cost:  0.5696195363998413\n",
            "epoch:  300 cost:  0.07543689012527466\n",
            "epoch:  350 cost:  0.012183597311377525\n",
            "epoch:  400 cost:  0.0024957151617854834\n",
            "epoch:  450 cost:  0.0007140944362618029\n",
            "epoch:  500 cost:  0.00027196871815249324\n",
            "\n",
            "\n",
            " >>>>> 소요 시간:  0.5701742172241211 sec\n"
          ],
          "name": "stdout"
        }
      ]
    },
    {
      "cell_type": "code",
      "metadata": {
        "id": "2kvl7jJE3rlf",
        "colab_type": "code",
        "colab": {
          "base_uri": "https://localhost:8080/",
          "height": 333
        },
        "outputId": "1a02306d-ec92-4cec-9446-748049c67ec2"
      },
      "source": [
        "Image('pt1.png',width=800)"
      ],
      "execution_count": 26,
      "outputs": [
        {
          "output_type": "execute_result",
          "data": {
            "image/png": "[encoded data removed]",
            "text/plain": [
              "<IPython.core.display.Image object>"
            ]
          },
          "metadata": {
            "tags": [],
            "image/png": {
              "width": 800
            }
          },
          "execution_count": 26
        }
      ]
    },
    {
      "cell_type": "markdown",
      "metadata": {
        "id": "ScYatwkG0Jf5",
        "colab_type": "text"
      },
      "source": [
        "## 4.nn모듈  \n",
        "  \n",
        "규모가 큰 경우에 autograd는 낮은 수준일 수 있다.  \n",
        "신경망 만들 때, 연산을 여러 층에 arrange 하는 것으로 생각한다. 이 중 일부는 학습 도중에 최적화가 될 learnable param을 갖고 있다.  \n",
        "  \n",
        "pytorch의 nn패키지는 연산 그래프를 higher-level abstraction하게 해준다."
      ]
    },
    {
      "cell_type": "code",
      "metadata": {
        "id": "AaZ9Pfsq4Yv8",
        "colab_type": "code",
        "colab": {
          "base_uri": "https://localhost:8080/",
          "height": 153
        },
        "outputId": "28d9731b-5066-4cf5-f63d-deca03fa88a0"
      },
      "source": [
        "import torch\n",
        "import time\n",
        "\n",
        "device = torch.device(\"cuda:0\")\n",
        "N,D_in,H,D_out = 64, 1000, 100, 10\n",
        "\n",
        "x = torch.randn(N,D_in)\n",
        "y = torch.randn(N,D_out)\n",
        "\n",
        "# nn을 사용하여 모델을 순차적 계층 sequence of layers으로 정의\n",
        "# nn.Sequential을 사용 --> 모듈을 순차적으로 적용 후 출력.\n",
        "# nn.Linear 사용 --> 입력에서 출력 계산 & 내부 텐서에 w, b 저장\n",
        "\n",
        "model = torch.nn.Sequential(\n",
        "    torch.nn.Linear(D_in,H),\n",
        "    torch.nn.ReLU(),\n",
        "    torch.nn.Linear(H,H),\n",
        "    torch.nn.ReLU(),\n",
        "    torch.nn.Linear(H,D_out)\n",
        ")\n",
        "\n",
        "# nn 패키지에는 loss 함수도 포함.\n",
        "loss_fn = torch.nn.MSELoss(reduction='sum')\n",
        "\n",
        "learning_rate=1e-4\n",
        "\n",
        "start = time.time()\n",
        "for t in range(500):\n",
        "\n",
        "    y_pred = model(x)\n",
        "    loss = loss_fn(y_pred, y)\n",
        "\n",
        "    if (t+1) % 100 ==0:\n",
        "\n",
        "        print('epoch: ',t+1,'cost: ',loss.item())\n",
        "\n",
        "    model.zero_grad()\n",
        "    loss.backward()\n",
        "\n",
        "    with torch.no_grad():\n",
        "        for param in model.parameters():\n",
        "\n",
        "            param -= learning_rate*param.grad\n",
        "\n",
        "end = time.time()\n",
        "print('\\n\\n >>>>> 소요 시간: ',end-start,'sec')"
      ],
      "execution_count": 38,
      "outputs": [
        {
          "output_type": "stream",
          "text": [
            "epoch:  100 cost:  61.023338317871094\n",
            "epoch:  200 cost:  2.1354663372039795\n",
            "epoch:  300 cost:  0.1565343737602234\n",
            "epoch:  400 cost:  0.021196234971284866\n",
            "epoch:  500 cost:  0.004153297748416662\n",
            "\n",
            "\n",
            " >>>>> 소요 시간:  0.6285409927368164 sec\n"
          ],
          "name": "stdout"
        }
      ]
    },
    {
      "cell_type": "markdown",
      "metadata": {
        "id": "TcbJB2H474sV",
        "colab_type": "text"
      },
      "source": [
        "## 5. Optim 모듈  \n",
        "  \n",
        " AdaGrad, RMSProp, Adam 등과 같은 좀 더 정교한 Optimizer를 간편히 사용해보자.  \n",
        "   \n",
        " optim 패키지는 최적화 알고리즘에 대한 아이디어를 추상화하고 일반적으로 사용하는 최적화 알고리즘의 구현체(implementation)를 제공합니다."
      ]
    },
    {
      "cell_type": "code",
      "metadata": {
        "id": "74VTaHhf8Ayh",
        "colab_type": "code",
        "colab": {
          "base_uri": "https://localhost:8080/",
          "height": 153
        },
        "outputId": "bf3d6750-fb9d-479b-e286-9618782ca636"
      },
      "source": [
        "import torch\n",
        "import time\n",
        "\n",
        "device = torch.device(\"cuda:0\")\n",
        "N,D_in,H,D_out = 64, 1000, 100, 10\n",
        "\n",
        "x = torch.randn(N,D_in)\n",
        "y = torch.randn(N,D_out)\n",
        "\n",
        "model = torch.nn.Sequential(\n",
        "    torch.nn.Linear(D_in,H),\n",
        "    torch.nn.ReLU(),\n",
        "    torch.nn.Linear(H,D_out),\n",
        ")\n",
        "\n",
        "loss_fn = torch.nn.MSELoss(reduction='sum')\n",
        "\n",
        "learning_rate=1e-4\n",
        "\n",
        "# 최적화 도구 사용\n",
        "optimizer = torch.optim.Adam(model.parameters(), lr=learning_rate)\n",
        "\n",
        "start = time.time()\n",
        "for t in range(500):\n",
        "\n",
        "    y_pred = model(x)\n",
        "\n",
        "    loss = loss_fn(y_pred, y)\n",
        "\n",
        "    if (t+1)%100 == 0:\n",
        "\n",
        "        print('epoch: ',t+1,'cost: ',loss.item())\n",
        "\n",
        "        # 역전파 전에 갱신할 변수에 대한 모든 변화도를 0으로 조정해라.\n",
        "        # 왜냐면 역전파 호출할 때 마다 변화도가 누적되기 때문이다.\n",
        "\n",
        "    optimizer.zero_grad()\n",
        "    \n",
        "    loss.backward()\n",
        "\n",
        "    optimizer.step() #update\n",
        "\n",
        "\n",
        "end = time.time()\n",
        "print('\\n\\n >>>>> 소요 시간: ',end-start,'sec')"
      ],
      "execution_count": 47,
      "outputs": [
        {
          "output_type": "stream",
          "text": [
            "epoch:  100 cost:  40.22212600708008\n",
            "epoch:  200 cost:  0.5011070370674133\n",
            "epoch:  300 cost:  0.0019243512069806457\n",
            "epoch:  400 cost:  2.478755959600676e-06\n",
            "epoch:  500 cost:  6.590921697302576e-10\n",
            "\n",
            "\n",
            " >>>>> 소요 시간:  0.6831636428833008 sec\n"
          ],
          "name": "stdout"
        }
      ]
    },
    {
      "cell_type": "markdown",
      "metadata": {
        "id": "iIZH246i9k-y",
        "colab_type": "text"
      },
      "source": [
        "## 6. 사용자 정의 nn.Module  \n",
        "  \n",
        "(1) 서브클래스로 새 모듈 정의  \n",
        "(2) 입력 텐서 take 이후에 다른 모듈 or 자동미분으로 출력 텐서를 만드는 forward 정의  \n"
      ]
    },
    {
      "cell_type": "code",
      "metadata": {
        "id": "ozygl73d97ht",
        "colab_type": "code",
        "colab": {
          "base_uri": "https://localhost:8080/",
          "height": 153
        },
        "outputId": "17d6cf0e-8998-469f-c8c7-9aa1a15eaba1"
      },
      "source": [
        "import torch\n",
        "import time\n",
        "\n",
        "\n",
        "class TwoLayerNet(torch.nn.Module):\n",
        "\n",
        "    def __init__(self,D_in,H, D_out):\n",
        "\n",
        "        super(TwoLayerNet, self).__init__()\n",
        "        self.linear1 = torch.nn.Linear(D_in,H)\n",
        "        self.linear2 = torch.nn.Linear(H,D_out)\n",
        "         \n",
        "    def forward(self, x):\n",
        "\n",
        "        h_relu = self.linear1(x).clamp(min=0)\n",
        "        y_pred = self.linear2(h_relu)\n",
        "\n",
        "        return y_pred\n",
        "\n",
        "\n",
        "N, D_in, H, D_out = 64, 1000, 100, 10\n",
        "\n",
        "# 입력과 출력을 저장하기 위해 무작위 값을 갖는 Tensor를 생성합니다.\n",
        "x = torch.randn(N, D_in)\n",
        "y = torch.randn(N, D_out)\n",
        "\n",
        "# 앞에서 정의한 클래스를 생성하여 모델을 구성합니다.\n",
        "model = TwoLayerNet(D_in, H, D_out)\n",
        "\n",
        "# (1) 손실 함수 만들기\n",
        "\n",
        "criterion = torch.nn.MSELoss(reduction='sum')\n",
        "\n",
        "# (2) optim 만들기\n",
        "\n",
        "optimizer = torch.optim.SGD(model.parameters(),lr=1e-4)\n",
        "\n",
        "start = time.time()\n",
        "for t in range(500):\n",
        "\n",
        "    y_pred = model(x)\n",
        "\n",
        "    loss = criterion(y_pred, y)\n",
        "\n",
        "    if (t+1) % 100 ==0:\n",
        "\n",
        "        print('epoch: ',t+1,'cost: ',loss.item())\n",
        "\n",
        "    optimizer.zero_grad()\n",
        "    loss.backward()\n",
        "    optimizer.step()\n",
        "\n",
        "\n",
        "end = time.time()\n",
        "print('\\n\\n >>>>> 소요 시간: ',end-start,'sec')"
      ],
      "execution_count": 49,
      "outputs": [
        {
          "output_type": "stream",
          "text": [
            "epoch:  100 cost:  2.812735080718994\n",
            "epoch:  200 cost:  0.07182228565216064\n",
            "epoch:  300 cost:  0.004011179786175489\n",
            "epoch:  400 cost:  0.0002829668519552797\n",
            "epoch:  500 cost:  2.172885615436826e-05\n",
            "\n",
            "\n",
            " >>>>> 소요 시간:  0.4449307918548584 sec\n"
          ],
          "name": "stdout"
        }
      ]
    },
    {
      "cell_type": "markdown",
      "metadata": {
        "id": "2zz5tJISBx__",
        "colab_type": "text"
      },
      "source": [
        "## 7. Control Flow + Weight Sharing"
      ]
    },
    {
      "cell_type": "markdown",
      "metadata": {
        "id": "fBPbBqJ4B2M3",
        "colab_type": "text"
      },
      "source": [
        "\"각 순전파 단계에서 많은 은닉 계층을 갖는 완전히 연결(fully-connected)된 ReLU 신경망이 무작위로 0 ~ 3 사이의 숫자를 선택하고, 가장 안쪽(innermost)의 은닉층들을 계산하기 위해 동일한 가중치를 여러 번 재사용합니다.\n",
        "\n",
        "이 모델에서는 일반적인 Python 제어 흐름을 사용하여 반복(loop)을 구현할 수 있으며, 순전파 단계를 정의할 때 단지 동일한 Module을 여러번 재사용함으로써 내부(innermost) 계층들 간의 가중치 공유를 구현할 수 있습니다.\""
      ]
    },
    {
      "cell_type": "code",
      "metadata": {
        "id": "MlpTbG50B-9_",
        "colab_type": "code",
        "colab": {
          "base_uri": "https://localhost:8080/",
          "height": 102
        },
        "outputId": "da880108-1985-42dc-a387-7a148735923e"
      },
      "source": [
        "import random\n",
        "import torch\n",
        "\n",
        "\n",
        "class DynamicNet(torch.nn.Module):\n",
        "    def __init__(self, D_in, H, D_out):\n",
        "        \"\"\"\n",
        "        생성자에서 순전파 단계에서 사용할 3개의 nn.Linear 인스턴스를 생성합니다.\n",
        "        \"\"\"\n",
        "        super(DynamicNet, self).__init__()\n",
        "        self.input_linear = torch.nn.Linear(D_in, H)\n",
        "        self.middle_linear = torch.nn.Linear(H, H)\n",
        "        self.output_linear = torch.nn.Linear(H, D_out)\n",
        "\n",
        "    def forward(self, x):\n",
        "        \"\"\"\n",
        "        모델의 순전파 단계에서, 무작위로 0, 1, 2 또는 3 중에 하나를 선택하고\n",
        "        은닉층을 계산하기 위해 \"여러번 사용한 middle_linear Module을 재사용\"합니다.\n",
        "\n",
        "        각 순전파 단계는 동적 연산 그래프를 구성하기 때문에, 모델의 순전파 단계를\n",
        "        정의할 때 반복문이나 조건문과 같은 일반적인 Python 제어 흐름 연산자를 사용할\n",
        "        수 있습니다.\n",
        "\n",
        "        여기에서 연산 그래프를 정의할 때 동일 Module을 여러번 재사용하는 것이\n",
        "        완벽히 안전하다는 것을 알 수 있습니다. 이것이 각 Module을 한 번씩만 사용할\n",
        "        수 있었던 Lua Torch보다 크게 개선된 부분입니다.\n",
        "        \"\"\"\n",
        "        h_relu = self.input_linear(x).clamp(min=0)\n",
        "        for _ in range(random.randint(0, 3)):\n",
        "            h_relu = self.middle_linear(h_relu).clamp(min=0)\n",
        "        y_pred = self.output_linear(h_relu)\n",
        "        return y_pred\n",
        "\n",
        "\n",
        "# N은 배치 크기이며, D_in은 입력의 차원입니다;\n",
        "# H는 은닉층의 차원이며, D_out은 출력 차원입니다.\n",
        "N, D_in, H, D_out = 64, 1000, 100, 10\n",
        "\n",
        "# 입력과 출력을 저장하기 위해 무작위 값을 갖는 Tensor를 생성합니다.\n",
        "x = torch.randn(N, D_in)\n",
        "y = torch.randn(N, D_out)\n",
        "\n",
        "# 앞서 정의한 클래스를 생성(instantiating)하여 모델을 구성합니다.\n",
        "model = DynamicNet(D_in, H, D_out)\n",
        "\n",
        "# 손실함수와 Optimizer를 만듭니다. 이 이상한 모델을 순수한 확률적 경사 하강법\n",
        "# (stochastic gradient decent)으로 학습하는 것은 어려우므로, 모멘텀(momentum)을\n",
        "# 사용합니다.\n",
        "criterion = torch.nn.MSELoss(reduction='sum')\n",
        "optimizer = torch.optim.SGD(model.parameters(), lr=1e-4, momentum=0.9)\n",
        "for t in range(500):\n",
        "    # 순전파 단계: 모델에 x를 전달하여 예상되는 y 값을 계산합니다.\n",
        "    y_pred = model(x)\n",
        "\n",
        "    # 손실을 계산하고 출력합니다.\n",
        "    loss = criterion(y_pred, y)\n",
        "    if t % 100 == 99:\n",
        "        print(t, loss.item())\n",
        "\n",
        "    # 변화도를 0으로 만들고, 역전파 단계를 수행하고, 가중치를 갱신합니다.\n",
        "    optimizer.zero_grad()\n",
        "    loss.backward()\n",
        "    optimizer.step()"
      ],
      "execution_count": 50,
      "outputs": [
        {
          "output_type": "stream",
          "text": [
            "99 35.73106002807617\n",
            "199 1.0500552654266357\n",
            "299 0.5155643224716187\n",
            "399 1.7770872116088867\n",
            "499 0.8140354752540588\n"
          ],
          "name": "stdout"
        }
      ]
    },
    {
      "cell_type": "markdown",
      "metadata": {
        "id": "4qOa2g5DfEhX",
        "colab_type": "text"
      },
      "source": [
        "# References. \n",
        "  \n",
        "[1] [예제로 배우는 파이토치](https://tutorials.pytorch.kr/beginner/pytorch_with_examples.html)"
      ]
    }
  ]
}