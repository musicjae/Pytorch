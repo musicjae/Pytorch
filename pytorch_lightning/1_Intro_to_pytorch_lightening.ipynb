{
  "nbformat": 4,
  "nbformat_minor": 0,
  "metadata": {
    "colab": {
      "name": "1 Intro to pytorch_lightening.ipynb",
      "provenance": [],
      "collapsed_sections": [],
      "authorship_tag": "ABX9TyPRkBF/SR2zeeuWJGrdw3uY",
      "include_colab_link": true
    },
    "kernelspec": {
      "name": "python3",
      "display_name": "Python 3"
    },
    "accelerator": "GPU"
  },
  "cells": [
    {
      "cell_type": "markdown",
      "metadata": {
        "id": "view-in-github",
        "colab_type": "text"
      },
      "source": [
        "<a href=\"https://colab.research.google.com/github/musicjae/Pytorch/blob/main/pytorch_lightning/1_Intro_to_pytorch_lightening.ipynb\" target=\"_parent\"><img src=\"https://colab.research.google.com/assets/colab-badge.svg\" alt=\"Open In Colab\"/></a>"
      ]
    },
    {
      "cell_type": "code",
      "metadata": {
        "colab": {
          "base_uri": "https://localhost:8080/"
        },
        "id": "N0sWi3J3Nx4n",
        "outputId": "6fdd1aec-d5f7-4626-8c6a-27e697bf200c"
      },
      "source": [
        "!pip install pytorch-lightning"
      ],
      "execution_count": 7,
      "outputs": [
        {
          "output_type": "stream",
          "text": [
            "Requirement already satisfied: pytorch-lightning in /usr/local/lib/python3.6/dist-packages (1.1.4)\n",
            "Requirement already satisfied: torch>=1.3 in /usr/local/lib/python3.6/dist-packages (from pytorch-lightning) (1.7.0+cu101)\n",
            "Requirement already satisfied: fsspec[http]>=0.8.1 in /usr/local/lib/python3.6/dist-packages (from pytorch-lightning) (0.8.5)\n",
            "Requirement already satisfied: future>=0.17.1 in /usr/local/lib/python3.6/dist-packages (from pytorch-lightning) (0.18.2)\n",
            "Requirement already satisfied: tqdm>=4.41.0 in /usr/local/lib/python3.6/dist-packages (from pytorch-lightning) (4.41.1)\n",
            "Requirement already satisfied: PyYAML>=5.1 in /usr/local/lib/python3.6/dist-packages (from pytorch-lightning) (5.3.1)\n",
            "Requirement already satisfied: numpy>=1.16.6 in /usr/local/lib/python3.6/dist-packages (from pytorch-lightning) (1.19.5)\n",
            "Requirement already satisfied: tensorboard>=2.2.0 in /usr/local/lib/python3.6/dist-packages (from pytorch-lightning) (2.4.0)\n",
            "Requirement already satisfied: dataclasses in /usr/local/lib/python3.6/dist-packages (from torch>=1.3->pytorch-lightning) (0.8)\n",
            "Requirement already satisfied: typing-extensions in /usr/local/lib/python3.6/dist-packages (from torch>=1.3->pytorch-lightning) (3.7.4.3)\n",
            "Requirement already satisfied: aiohttp; extra == \"http\" in /usr/local/lib/python3.6/dist-packages (from fsspec[http]>=0.8.1->pytorch-lightning) (3.7.3)\n",
            "Requirement already satisfied: requests; extra == \"http\" in /usr/local/lib/python3.6/dist-packages (from fsspec[http]>=0.8.1->pytorch-lightning) (2.23.0)\n",
            "Requirement already satisfied: google-auth-oauthlib<0.5,>=0.4.1 in /usr/local/lib/python3.6/dist-packages (from tensorboard>=2.2.0->pytorch-lightning) (0.4.2)\n",
            "Requirement already satisfied: protobuf>=3.6.0 in /usr/local/lib/python3.6/dist-packages (from tensorboard>=2.2.0->pytorch-lightning) (3.12.4)\n",
            "Requirement already satisfied: setuptools>=41.0.0 in /usr/local/lib/python3.6/dist-packages (from tensorboard>=2.2.0->pytorch-lightning) (51.1.1)\n",
            "Requirement already satisfied: tensorboard-plugin-wit>=1.6.0 in /usr/local/lib/python3.6/dist-packages (from tensorboard>=2.2.0->pytorch-lightning) (1.7.0)\n",
            "Requirement already satisfied: absl-py>=0.4 in /usr/local/lib/python3.6/dist-packages (from tensorboard>=2.2.0->pytorch-lightning) (0.10.0)\n",
            "Requirement already satisfied: werkzeug>=0.11.15 in /usr/local/lib/python3.6/dist-packages (from tensorboard>=2.2.0->pytorch-lightning) (1.0.1)\n",
            "Requirement already satisfied: grpcio>=1.24.3 in /usr/local/lib/python3.6/dist-packages (from tensorboard>=2.2.0->pytorch-lightning) (1.32.0)\n",
            "Requirement already satisfied: markdown>=2.6.8 in /usr/local/lib/python3.6/dist-packages (from tensorboard>=2.2.0->pytorch-lightning) (3.3.3)\n",
            "Requirement already satisfied: google-auth<2,>=1.6.3 in /usr/local/lib/python3.6/dist-packages (from tensorboard>=2.2.0->pytorch-lightning) (1.17.2)\n",
            "Requirement already satisfied: wheel>=0.26; python_version >= \"3\" in /usr/local/lib/python3.6/dist-packages (from tensorboard>=2.2.0->pytorch-lightning) (0.36.2)\n",
            "Requirement already satisfied: six>=1.10.0 in /usr/local/lib/python3.6/dist-packages (from tensorboard>=2.2.0->pytorch-lightning) (1.15.0)\n",
            "Requirement already satisfied: chardet<4.0,>=2.0 in /usr/local/lib/python3.6/dist-packages (from aiohttp; extra == \"http\"->fsspec[http]>=0.8.1->pytorch-lightning) (3.0.4)\n",
            "Requirement already satisfied: async-timeout<4.0,>=3.0 in /usr/local/lib/python3.6/dist-packages (from aiohttp; extra == \"http\"->fsspec[http]>=0.8.1->pytorch-lightning) (3.0.1)\n",
            "Requirement already satisfied: yarl<2.0,>=1.0 in /usr/local/lib/python3.6/dist-packages (from aiohttp; extra == \"http\"->fsspec[http]>=0.8.1->pytorch-lightning) (1.6.3)\n",
            "Requirement already satisfied: attrs>=17.3.0 in /usr/local/lib/python3.6/dist-packages (from aiohttp; extra == \"http\"->fsspec[http]>=0.8.1->pytorch-lightning) (20.3.0)\n",
            "Requirement already satisfied: idna-ssl>=1.0; python_version < \"3.7\" in /usr/local/lib/python3.6/dist-packages (from aiohttp; extra == \"http\"->fsspec[http]>=0.8.1->pytorch-lightning) (1.1.0)\n",
            "Requirement already satisfied: multidict<7.0,>=4.5 in /usr/local/lib/python3.6/dist-packages (from aiohttp; extra == \"http\"->fsspec[http]>=0.8.1->pytorch-lightning) (5.1.0)\n",
            "Requirement already satisfied: idna<3,>=2.5 in /usr/local/lib/python3.6/dist-packages (from requests; extra == \"http\"->fsspec[http]>=0.8.1->pytorch-lightning) (2.10)\n",
            "Requirement already satisfied: certifi>=2017.4.17 in /usr/local/lib/python3.6/dist-packages (from requests; extra == \"http\"->fsspec[http]>=0.8.1->pytorch-lightning) (2020.12.5)\n",
            "Requirement already satisfied: urllib3!=1.25.0,!=1.25.1,<1.26,>=1.21.1 in /usr/local/lib/python3.6/dist-packages (from requests; extra == \"http\"->fsspec[http]>=0.8.1->pytorch-lightning) (1.24.3)\n",
            "Requirement already satisfied: requests-oauthlib>=0.7.0 in /usr/local/lib/python3.6/dist-packages (from google-auth-oauthlib<0.5,>=0.4.1->tensorboard>=2.2.0->pytorch-lightning) (1.3.0)\n",
            "Requirement already satisfied: importlib-metadata; python_version < \"3.8\" in /usr/local/lib/python3.6/dist-packages (from markdown>=2.6.8->tensorboard>=2.2.0->pytorch-lightning) (3.3.0)\n",
            "Requirement already satisfied: cachetools<5.0,>=2.0.0 in /usr/local/lib/python3.6/dist-packages (from google-auth<2,>=1.6.3->tensorboard>=2.2.0->pytorch-lightning) (4.2.0)\n",
            "Requirement already satisfied: pyasn1-modules>=0.2.1 in /usr/local/lib/python3.6/dist-packages (from google-auth<2,>=1.6.3->tensorboard>=2.2.0->pytorch-lightning) (0.2.8)\n",
            "Requirement already satisfied: rsa<5,>=3.1.4; python_version >= \"3\" in /usr/local/lib/python3.6/dist-packages (from google-auth<2,>=1.6.3->tensorboard>=2.2.0->pytorch-lightning) (4.6)\n",
            "Requirement already satisfied: oauthlib>=3.0.0 in /usr/local/lib/python3.6/dist-packages (from requests-oauthlib>=0.7.0->google-auth-oauthlib<0.5,>=0.4.1->tensorboard>=2.2.0->pytorch-lightning) (3.1.0)\n",
            "Requirement already satisfied: zipp>=0.5 in /usr/local/lib/python3.6/dist-packages (from importlib-metadata; python_version < \"3.8\"->markdown>=2.6.8->tensorboard>=2.2.0->pytorch-lightning) (3.4.0)\n",
            "Requirement already satisfied: pyasn1<0.5.0,>=0.4.6 in /usr/local/lib/python3.6/dist-packages (from pyasn1-modules>=0.2.1->google-auth<2,>=1.6.3->tensorboard>=2.2.0->pytorch-lightning) (0.4.8)\n"
          ],
          "name": "stdout"
        }
      ]
    },
    {
      "cell_type": "code",
      "metadata": {
        "id": "Bdd-L8aDN836"
      },
      "source": [
        "import os\r\n",
        "import torch\r\n",
        "from torch import nn\r\n",
        "import torch.nn.functional as F\r\n",
        "from torchvision import transforms\r\n",
        "from torchvision.datasets import MNIST\r\n",
        "from torch.utils.data import DataLoader, random_split\r\n",
        "import pytorch_lightning as pl\r\n",
        "from pytorch_lightning.core.lightning import LightningModule\r\n"
      ],
      "execution_count": 8,
      "outputs": []
    },
    {
      "cell_type": "markdown",
      "metadata": {
        "id": "Zia-MgSsRbJo"
      },
      "source": [
        "## Data"
      ]
    },
    {
      "cell_type": "code",
      "metadata": {
        "id": "2d7CaMsmRcRV"
      },
      "source": [
        "from torch.utils.data import DataLoader, random_split\r\n",
        "from torchvision.datasets import MNIST\r\n",
        "import os\r\n",
        "from torchvision import datasets, transforms\r\n",
        "from pytorch_lightning import Trainer\r\n",
        "from torch.optim import Adam\r\n"
      ],
      "execution_count": 9,
      "outputs": []
    },
    {
      "cell_type": "code",
      "metadata": {
        "id": "N5Nvr_IGRgCy"
      },
      "source": [
        "transform = transforms.Compose([transforms.ToTensor(),\r\n",
        "                                transforms.Normalize((0.1307,),(0.3081,))])\r\n",
        "\r\n",
        "dataset = MNIST(os.getcwd(), train=True,download=True,transform=transforms.ToTensor()) # os.getcwd는 현재 자신의 디렉터리 위치를 돌려준다.\r\n",
        "mnist_test = MNIST(os.getcwd(), train=False,download=True,transform=transforms.ToTensor())\r\n",
        "\r\n",
        "train_loader, val_loader = random_split(dataset, [55000,5000]) #  torch.Size([60000, 28, 28])"
      ],
      "execution_count": 10,
      "outputs": []
    },
    {
      "cell_type": "code",
      "metadata": {
        "id": "UtwtH-c0zbPV"
      },
      "source": [
        "train_loader = DataLoader(train_loader,batch_size = 32)\r\n",
        "val_loader = DataLoader(val_loader, batch_size = 32)\r\n",
        "test_loader = DataLoader(mnist_test, batch_size=32)\r\n"
      ],
      "execution_count": 11,
      "outputs": []
    },
    {
      "cell_type": "markdown",
      "metadata": {
        "id": "NgQ40c6ayF1t"
      },
      "source": [
        "## model"
      ]
    },
    {
      "cell_type": "code",
      "metadata": {
        "id": "YCbDBZnhN_3i"
      },
      "source": [
        "class lightening_mnist(pl.LightningModule):\r\n",
        "    def __init__(self, lr_rate):\r\n",
        "        super().__init__() # super 안이 비어있다는 점 차이\r\n",
        "        self.layer1 = torch.nn.Linear(28*28,64)#mnist img(28,28)\r\n",
        "        self.layer2 = torch.nn.Linear(64,64)\r\n",
        "        self.layer3 = torch.nn.Linear(64,10)\r\n",
        "        self.lr_rate = lr_rate\r\n",
        "\r\n",
        "    def forward(self,x):\r\n",
        "        batch_size, channels, width, height = x.size()\r\n",
        "\r\n",
        "        x = x.view(batch_size,-1) # # (b, 1, 28, 28) -> (b, 1*28*28)\r\n",
        "        x = F.relu(self.layer1(x))\r\n",
        "        x = F.relu(self.layer2(x))\r\n",
        "        x = F.log_softmax(self.layer3(x))\r\n",
        "\r\n",
        "        return x\r\n",
        "\r\n",
        "    def training_step(self,batch,batch_idx):\r\n",
        "        x,y = batch\r\n",
        "        logits = self.forward(x)\r\n",
        "        loss = F.nll_loss(logits,y)\r\n",
        "        self.log('train_loss',loss)\r\n",
        "        return loss\r\n",
        "\r\n",
        "    def validation_step(self,batch,batch_idx):\r\n",
        "        x,y = batch\r\n",
        "        logits = self.forward(x)\r\n",
        "        loss = F.nll_loss(logits,y)\r\n",
        "        self.log('val_loss',loss)\r\n",
        "        return loss\r\n",
        "\r\n",
        "    def configure_optimizers(self):\r\n",
        "        # self.hparams available because we called self.save_hyperparameters()\r\n",
        "        return torch.optim.Adam(self.parameters(), lr=self.lr_rate)\r\n"
      ],
      "execution_count": 12,
      "outputs": []
    },
    {
      "cell_type": "code",
      "metadata": {
        "colab": {
          "base_uri": "https://localhost:8080/"
        },
        "id": "qUpwlZ4R1kuN",
        "outputId": "2532d4fc-cc33-461f-9d12-a7dd39b025f5"
      },
      "source": [
        "net = lightening_mnist()\r\n",
        "net.summarize()"
      ],
      "execution_count": 22,
      "outputs": [
        {
          "output_type": "stream",
          "text": [
            "\n",
            "  | Name   | Type   | Params\n",
            "----------------------------------\n",
            "0 | layer1 | Linear | 50.2 K\n",
            "1 | layer2 | Linear | 4.2 K \n",
            "2 | layer3 | Linear | 650   \n",
            "----------------------------------\n",
            "55.1 K    Trainable params\n",
            "0         Non-trainable params\n",
            "55.1 K    Total params\n"
          ],
          "name": "stderr"
        },
        {
          "output_type": "execute_result",
          "data": {
            "text/plain": [
              "  | Name   | Type   | Params\n",
              "----------------------------------\n",
              "0 | layer1 | Linear | 50.2 K\n",
              "1 | layer2 | Linear | 4.2 K \n",
              "2 | layer3 | Linear | 650   \n",
              "----------------------------------\n",
              "55.1 K    Trainable params\n",
              "0         Non-trainable params\n",
              "55.1 K    Total params"
            ]
          },
          "metadata": {
            "tags": []
          },
          "execution_count": 22
        }
      ]
    },
    {
      "cell_type": "markdown",
      "metadata": {
        "id": "6He2Pz4eVI2T"
      },
      "source": [
        "### Trainer"
      ]
    },
    {
      "cell_type": "code",
      "metadata": {
        "id": "b7b01pg8VJiH"
      },
      "source": [
        "class Trainer:\r\n",
        "    def __init__(self,max_epochs=10):\r\n",
        "        self.max_epochs = max_epochs\r\n",
        "\r\n",
        "    def _train(self,model,train_loader):\r\n",
        "        for epoch in range(self.max_epochs):\r\n",
        "            if epoch % 10:\r\n",
        "                print(f'epoch:: {epoch}\\t loss:: {loss}')\r\n",
        "            for batch in train_loader:\r\n",
        "                on_batch_strat\r\n",
        "                x,y = batch\r\n",
        "                prediction = model(x)\r\n",
        "                loss = F.nll_loss(prediction,y)\r\n",
        "                loss.backward()\r\n",
        "                optimizer.step()\r\n",
        "                optimizer.zero_grad()\r\n",
        "\r\n",
        "    def fit(self, model, train_loader):\r\n",
        "        self._train(model,train_loader)\r\n"
      ],
      "execution_count": 23,
      "outputs": []
    },
    {
      "cell_type": "code",
      "metadata": {
        "colab": {
          "base_uri": "https://localhost:8080/"
        },
        "id": "WjL-m6drSN9m",
        "outputId": "be8e9f7a-281e-425e-e670-4772156b589d"
      },
      "source": [
        "model = lightening_mnist(lr_rate = 1e-3)\r\n",
        "trainer = pl.Trainer(max_epochs=3,gpus=0,profiler=True)\r\n",
        "trainer.fit(model, train_loader,val_loader)"
      ],
      "execution_count": 15,
      "outputs": [
        {
          "output_type": "stream",
          "text": [
            "/usr/local/lib/python3.6/dist-packages/pytorch_lightning/utilities/distributed.py:49: UserWarning: You have set progress_bar_refresh_rate < 20 on Google Colab. This may crash. Consider using progress_bar_refresh_rate >= 20 in Trainer.\n",
            "  warnings.warn(*args, **kwargs)\n",
            "GPU available: True, used: False\n",
            "TPU available: None, using: 0 TPU cores\n",
            "/usr/local/lib/python3.6/dist-packages/pytorch_lightning/utilities/distributed.py:49: UserWarning: GPU available but not used. Set the --gpus flag when calling the script.\n",
            "  warnings.warn(*args, **kwargs)\n",
            "\n",
            "  | Name   | Type   | Params\n",
            "----------------------------------\n",
            "0 | layer1 | Linear | 50.2 K\n",
            "1 | layer2 | Linear | 4.2 K \n",
            "2 | layer3 | Linear | 650   \n",
            "----------------------------------\n",
            "55.1 K    Trainable params\n",
            "0         Non-trainable params\n",
            "55.1 K    Total params\n"
          ],
          "name": "stderr"
        },
        {
          "output_type": "display_data",
          "data": {
            "application/vnd.jupyter.widget-view+json": {
              "model_id": "bcfa469b3162409cb96bf601af1c78cc",
              "version_minor": 0,
              "version_major": 2
            },
            "text/plain": [
              "HBox(children=(FloatProgress(value=1.0, bar_style='info', description='Validation sanity check', layout=Layout…"
            ]
          },
          "metadata": {
            "tags": []
          }
        },
        {
          "output_type": "stream",
          "text": [
            "\r"
          ],
          "name": "stdout"
        },
        {
          "output_type": "stream",
          "text": [
            "/usr/local/lib/python3.6/dist-packages/ipykernel_launcher.py:15: UserWarning: Implicit dimension choice for log_softmax has been deprecated. Change the call to include dim=X as an argument.\n",
            "  from ipykernel import kernelapp as app\n"
          ],
          "name": "stderr"
        },
        {
          "output_type": "display_data",
          "data": {
            "application/vnd.jupyter.widget-view+json": {
              "model_id": "a7c1ada232734f93aeeb7a4014ce78f5",
              "version_minor": 0,
              "version_major": 2
            },
            "text/plain": [
              "HBox(children=(FloatProgress(value=1.0, bar_style='info', description='Training', layout=Layout(flex='2'), max…"
            ]
          },
          "metadata": {
            "tags": []
          }
        },
        {
          "output_type": "stream",
          "text": [
            "/usr/local/lib/python3.6/dist-packages/pytorch_lightning/utilities/distributed.py:49: UserWarning: Detected KeyboardInterrupt, attempting graceful shutdown...\n",
            "  warnings.warn(*args, **kwargs)\n",
            "\n",
            "\n",
            "Profiler Report\n",
            "\n",
            "Action                      \t|  Mean duration (s)\t|Num calls      \t|  Total time (s) \t|  Percentage %   \t|\n",
            "-----------------------------------------------------------------------------------------------------------------------------\n",
            "Total                       \t|  -              \t|_              \t|  10.738         \t|  100 %          \t|\n",
            "-----------------------------------------------------------------------------------------------------------------------------\n",
            "run_training_epoch          \t|  10.615         \t|1              \t|  10.615         \t|  98.857         \t|\n",
            "get_train_batch             \t|  0.0061431      \t|1033           \t|  6.3458         \t|  59.099         \t|\n",
            "run_training_batch          \t|  0.0026255      \t|1033           \t|  2.7122         \t|  25.259         \t|\n",
            "optimizer_step_and_closure_0\t|  0.0021386      \t|1033           \t|  2.2092         \t|  20.574         \t|\n",
            "training_step_and_backward  \t|  0.0013073      \t|1033           \t|  1.3504         \t|  12.576         \t|\n",
            "on_train_batch_end          \t|  0.0011004      \t|1032           \t|  1.1356         \t|  10.576         \t|\n",
            "model_forward               \t|  0.0007272      \t|1033           \t|  0.75119        \t|  6.9959         \t|\n",
            "model_backward              \t|  0.00040752     \t|1033           \t|  0.42097        \t|  3.9205         \t|\n",
            "cache_result                \t|  1.8215e-05     \t|5178           \t|  0.094315       \t|  0.87837        \t|\n",
            "on_train_start              \t|  0.03538        \t|1              \t|  0.03538        \t|  0.3295         \t|\n",
            "on_batch_start              \t|  2.2729e-05     \t|1033           \t|  0.023479       \t|  0.21866        \t|\n",
            "on_before_zero_grad         \t|  1.5679e-05     \t|1033           \t|  0.016197       \t|  0.15084        \t|\n",
            "on_after_backward           \t|  1.392e-05      \t|1033           \t|  0.014379       \t|  0.13391        \t|\n",
            "on_batch_end                \t|  1.3837e-05     \t|1032           \t|  0.01428        \t|  0.13299        \t|\n",
            "on_train_batch_start        \t|  1.0809e-05     \t|1033           \t|  0.011166       \t|  0.10399        \t|\n",
            "training_step_end           \t|  9.9987e-06     \t|1033           \t|  0.010329       \t|  0.096192       \t|\n",
            "on_epoch_start              \t|  0.0057038      \t|1              \t|  0.0057038      \t|  0.05312        \t|\n",
            "evaluation_step_and_end     \t|  0.0023693      \t|2              \t|  0.0047385      \t|  0.044131       \t|\n",
            "on_validation_end           \t|  0.0043014      \t|1              \t|  0.0043014      \t|  0.04006        \t|\n",
            "on_train_end                \t|  0.0023714      \t|1              \t|  0.0023714      \t|  0.022085       \t|\n",
            "on_validation_batch_end     \t|  6.3294e-05     \t|2              \t|  0.00012659     \t|  0.0011789      \t|\n",
            "on_validation_batch_start   \t|  1.9566e-05     \t|2              \t|  3.9132e-05     \t|  0.00036444     \t|\n",
            "on_validation_start         \t|  2.7569e-05     \t|1              \t|  2.7569e-05     \t|  0.00025675     \t|\n",
            "validation_step_end         \t|  1.2744e-05     \t|2              \t|  2.5489e-05     \t|  0.00023738     \t|\n",
            "on_fit_start                \t|  2.2681e-05     \t|1              \t|  2.2681e-05     \t|  0.00021123     \t|\n",
            "on_validation_epoch_end     \t|  1.7625e-05     \t|1              \t|  1.7625e-05     \t|  0.00016414     \t|\n",
            "on_train_epoch_start        \t|  1.6352e-05     \t|1              \t|  1.6352e-05     \t|  0.00015229     \t|\n",
            "on_validation_epoch_start   \t|  1.5843e-05     \t|1              \t|  1.5843e-05     \t|  0.00014755     \t|\n",
            "\n"
          ],
          "name": "stderr"
        },
        {
          "output_type": "stream",
          "text": [
            "\n"
          ],
          "name": "stdout"
        },
        {
          "output_type": "execute_result",
          "data": {
            "text/plain": [
              "1"
            ]
          },
          "metadata": {
            "tags": []
          },
          "execution_count": 15
        }
      ]
    }
  ]
}